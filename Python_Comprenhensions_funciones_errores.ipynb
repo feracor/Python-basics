{
  "nbformat": 4,
  "nbformat_minor": 0,
  "metadata": {
    "colab": {
      "provenance": [],
      "authorship_tag": "ABX9TyNHm5kw1KFC5Hn2DXpBwy3e",
      "include_colab_link": true
    },
    "kernelspec": {
      "name": "python3",
      "display_name": "Python 3"
    },
    "language_info": {
      "name": "python"
    }
  },
  "cells": [
    {
      "cell_type": "markdown",
      "metadata": {
        "id": "view-in-github",
        "colab_type": "text"
      },
      "source": [
        "<a href=\"https://colab.research.google.com/github/feracor/Python-basics/blob/main/Python_Comprenhensions_funciones_errores.ipynb\" target=\"_parent\"><img src=\"https://colab.research.google.com/assets/colab-badge.svg\" alt=\"Open In Colab\"/></a>"
      ]
    },
    {
      "cell_type": "markdown",
      "source": [
        "#Zen de Pyhon"
      ],
      "metadata": {
        "id": "_eVkJr5QQaSF"
      }
    },
    {
      "cell_type": "code",
      "execution_count": null,
      "metadata": {
        "colab": {
          "base_uri": "https://localhost:8080/"
        },
        "id": "Mit0O0_lAoyr",
        "outputId": "65bf4fdc-afcc-4d00-dae3-1d723b700a64"
      },
      "outputs": [
        {
          "output_type": "stream",
          "name": "stdout",
          "text": [
            "The Zen of Python, by Tim Peters\n",
            "\n",
            "Beautiful is better than ugly.\n",
            "Explicit is better than implicit.\n",
            "Simple is better than complex.\n",
            "Complex is better than complicated.\n",
            "Flat is better than nested.\n",
            "Sparse is better than dense.\n",
            "Readability counts.\n",
            "Special cases aren't special enough to break the rules.\n",
            "Although practicality beats purity.\n",
            "Errors should never pass silently.\n",
            "Unless explicitly silenced.\n",
            "In the face of ambiguity, refuse the temptation to guess.\n",
            "There should be one-- and preferably only one --obvious way to do it.\n",
            "Although that way may not be obvious at first unless you're Dutch.\n",
            "Now is better than never.\n",
            "Although never is often better than *right* now.\n",
            "If the implementation is hard to explain, it's a bad idea.\n",
            "If the implementation is easy to explain, it may be a good idea.\n",
            "Namespaces are one honking great idea -- let's do more of those!\n"
          ]
        }
      ],
      "source": [
        "import this"
      ]
    },
    {
      "cell_type": "markdown",
      "source": [
        "#Conjuntos"
      ],
      "metadata": {
        "id": "1tPyXT9xCP6R"
      }
    },
    {
      "cell_type": "code",
      "source": [
        "set_countries = {\"col\", \"mex\", \"bol\", \"col\"}  # Si hay elementos duplicados, se eliminan\n",
        "print(set_countries)\n",
        "print(type(set_countries))"
      ],
      "metadata": {
        "colab": {
          "base_uri": "https://localhost:8080/"
        },
        "id": "DN8nMecKBlqc",
        "outputId": "24295095-a05a-4358-e060-f885e32635da"
      },
      "execution_count": null,
      "outputs": [
        {
          "output_type": "stream",
          "name": "stdout",
          "text": [
            "{'bol', 'mex', 'col'}\n",
            "<class 'set'>\n"
          ]
        }
      ]
    },
    {
      "cell_type": "code",
      "source": [
        "set_numbers = {1, 44, 3, 50, 55}\n",
        "print(set_numbers )\n",
        "\n",
        "set_types = {\"col\", 32.3, 3, False}\n",
        "print(set_types )"
      ],
      "metadata": {
        "colab": {
          "base_uri": "https://localhost:8080/"
        },
        "id": "AFh3ep1LDuUH",
        "outputId": "db185412-96d6-4fa2-f412-bc7490b6ced9"
      },
      "execution_count": null,
      "outputs": [
        {
          "output_type": "stream",
          "name": "stdout",
          "text": [
            "{1, 50, 3, 55, 44}\n",
            "{32.3, False, 3, 'col'}\n"
          ]
        }
      ]
    },
    {
      "cell_type": "code",
      "source": [
        "set_from_string = set(\"hello\")  # De esta manera convierte los caracteres de un string en elementos de un conjunto sin duplicados y los guarda en una variable de conjunto\n",
        "print(set_from_string)"
      ],
      "metadata": {
        "colab": {
          "base_uri": "https://localhost:8080/"
        },
        "id": "fIXGnK5WEOlO",
        "outputId": "f8b7aea7-520d-472c-d994-ccb25841acad"
      },
      "execution_count": null,
      "outputs": [
        {
          "output_type": "stream",
          "name": "stdout",
          "text": [
            "{'h', 'e', 'l', 'o'}\n"
          ]
        }
      ]
    },
    {
      "cell_type": "code",
      "source": [
        "set_from_tuples = set((\"abc\", \"def\", \"abc\", \"as\"))  # De esta manera convierte los definidos de tuplas en elementos de conjuntos\n",
        "print(set_from_tuples)\n",
        "print(type(set_from_tuples))"
      ],
      "metadata": {
        "colab": {
          "base_uri": "https://localhost:8080/"
        },
        "id": "IsFSEj0gE0wP",
        "outputId": "2a8e8465-6e36-4170-e4ec-e30bcf4cb552"
      },
      "execution_count": null,
      "outputs": [
        {
          "output_type": "stream",
          "name": "stdout",
          "text": [
            "{'def', 'abc', 'as'}\n",
            "<class 'set'>\n"
          ]
        }
      ]
    },
    {
      "cell_type": "code",
      "source": [
        "numbers = [1, 2, 3, 5, 5, 6, 7] # Lista de numeros\n",
        "print(numbers)\n",
        "print(type(numbers))\n",
        "\n",
        "set_numbers = set(numbers) # Convierte lista de numeros en conjunto, por tanto se eliminan los elementos duplicados\n",
        "print(set_numbers)\n",
        "print(type(set_numbers))\n",
        "\n",
        "unique_numbers = list(set_numbers) # Convierte el tipo de dato de conjunto a lista y se guardan los elementos en la lista\n",
        "print(unique_numbers)\n",
        "print(type(unique_numbers))\n",
        "\n"
      ],
      "metadata": {
        "colab": {
          "base_uri": "https://localhost:8080/"
        },
        "id": "CBURom44FWWZ",
        "outputId": "034074c2-0a3d-4775-e306-2b4a78883d85"
      },
      "execution_count": null,
      "outputs": [
        {
          "output_type": "stream",
          "name": "stdout",
          "text": [
            "[1, 2, 3, 5, 5, 6, 7]\n",
            "<class 'list'>\n",
            "{1, 2, 3, 5, 6, 7}\n",
            "<class 'set'>\n",
            "[1, 2, 3, 5, 6, 7]\n",
            "<class 'list'>\n"
          ]
        }
      ]
    },
    {
      "cell_type": "code",
      "source": [],
      "metadata": {
        "id": "meG575AHHYhl"
      },
      "execution_count": null,
      "outputs": []
    },
    {
      "cell_type": "markdown",
      "source": [
        "#Modificando conjuntos"
      ],
      "metadata": {
        "id": "Xuto8ebQIRpM"
      }
    },
    {
      "cell_type": "code",
      "source": [
        "set_countries = {\"col\", \"mex\", \"bol\", \"col\"}  # Si hay elementos duplicados, se eliminan por defecto\n",
        "size = len (set_countries)  # Guarda el numero de elementos del conjunto\n",
        "\n",
        "print(size) # Imprimir el numero de elementos del conjunto\n",
        "\n",
        "print(\"col\" in set_countries) # Confirma si el elemento se encuentra dentro del conjunto\n",
        "print(\"per\" in set_countries)\n",
        "\n",
        "# Adicionar elementos al conjunto - add\n",
        "\n",
        "set_countries.add(\"per\")\n",
        "\n",
        "print(\"col\" in set_countries) # Confirma si el elemento se encuentra dentro del conjunto\n",
        "print(\"per\" in set_countries)\n",
        "\n",
        "print(set_countries)\n",
        "\n",
        "# Actualzar elementos - update\n",
        "\n",
        "set_countries.update({\"arg\", \"ecu\", \"per\"}) # se pueden agregar varios elementos con un formato similar al usado con los diccionarios. No duplica elementos\n",
        "print(set_countries)\n",
        "\n",
        "# Eliminar elementos - remove\n",
        "set_countries.remove(\"col\")\n",
        "print(set_countries)\n",
        "\n",
        "# set_countries.remove(\"ar\") # Cuando no se encuentran los elementos dentro del conjunto, python arroja un error informando que no se encuentra dicho elemento\n",
        "set_countries.discard(\"ar\") # Cuando no se encuentran los elementos dentro del conjunto no arroja error usando este metodo\n",
        "\n",
        "# Limpiar el conjunto - clear\n",
        "set_countries.clear()\n",
        "size = len (set_countries)  # Guarda el numero de elementos del conjunto\n",
        "print(size) # Imprimir el numero de elementos del conjunto\n",
        "print(set_countries)\n"
      ],
      "metadata": {
        "id": "WarP8H37IpZr",
        "colab": {
          "base_uri": "https://localhost:8080/"
        },
        "outputId": "42a7eda4-4373-4b5a-faec-64750bdaeea6"
      },
      "execution_count": null,
      "outputs": [
        {
          "output_type": "stream",
          "name": "stdout",
          "text": [
            "3\n",
            "True\n",
            "False\n",
            "True\n",
            "True\n",
            "{'per', 'mex', 'col', 'bol'}\n",
            "{'mex', 'bol', 'arg', 'ecu', 'col', 'per'}\n",
            "{'mex', 'bol', 'arg', 'ecu', 'per'}\n",
            "0\n",
            "set()\n"
          ]
        }
      ]
    },
    {
      "cell_type": "markdown",
      "source": [
        "#Operaciones con conjuntos"
      ],
      "metadata": {
        "id": "k3eUAuZfMSEU"
      }
    },
    {
      "cell_type": "code",
      "source": [
        "set_a = {\"col\", \"mex\", \"bol\"}\n",
        "set_b = {\"per\", \"bol\"}"
      ],
      "metadata": {
        "id": "1ppuIshLJuLi"
      },
      "execution_count": null,
      "outputs": []
    },
    {
      "cell_type": "code",
      "source": [
        "# Unión\n",
        "set_c = set_a.union(set_b) # Unión usando método \"union\"\n",
        "print(set_c)\n",
        "\n",
        "print(set_a | set_b) # Unión usando operador"
      ],
      "metadata": {
        "colab": {
          "base_uri": "https://localhost:8080/"
        },
        "id": "4DVNp0X-MgNv",
        "outputId": "25f6f1dc-daea-4687-b788-56d0b0d9a357"
      },
      "execution_count": null,
      "outputs": [
        {
          "output_type": "stream",
          "name": "stdout",
          "text": [
            "{'per', 'mex', 'bol', 'col'}\n",
            "{'per', 'mex', 'bol', 'col'}\n"
          ]
        }
      ]
    },
    {
      "cell_type": "code",
      "source": [
        "# Intersección\n",
        "set_d = set_a.intersection(set_b) # Intersección usando método \"intersection\"\n",
        "print(set_d)\n",
        "\n",
        "print(set_a & set_b) # Intersección usando operador"
      ],
      "metadata": {
        "colab": {
          "base_uri": "https://localhost:8080/"
        },
        "id": "o6d5SUzxM1ms",
        "outputId": "a8c06a70-f015-4a39-b4ae-df93a845c55a"
      },
      "execution_count": null,
      "outputs": [
        {
          "output_type": "stream",
          "name": "stdout",
          "text": [
            "{'bol'}\n",
            "{'bol'}\n"
          ]
        }
      ]
    },
    {
      "cell_type": "code",
      "source": [
        "#Diferencia\n",
        "set_e = set_a.difference(set_b) # Diferencia usando método \"difference\"\n",
        "print(set_e)\n",
        "\n",
        "print(set_a - set_b) # Diferencia usando operador"
      ],
      "metadata": {
        "colab": {
          "base_uri": "https://localhost:8080/"
        },
        "id": "g43IQuQxOsX7",
        "outputId": "532956fd-5a56-40c2-cf4c-93556407d160"
      },
      "execution_count": null,
      "outputs": [
        {
          "output_type": "stream",
          "name": "stdout",
          "text": [
            "{'col', 'mex'}\n",
            "{'col', 'mex'}\n"
          ]
        }
      ]
    },
    {
      "cell_type": "code",
      "source": [
        "#Diferencia simétrica\n",
        "set_f = set_a.symmetric_difference(set_b) # Diferencia simétrica usando método \"symmetric_difference\"\n",
        "print(set_f)\n",
        "\n",
        "print(set_a ^ set_b) # Diferencia simétrica con operador\n"
      ],
      "metadata": {
        "colab": {
          "base_uri": "https://localhost:8080/"
        },
        "id": "W_0yrWPKPD2L",
        "outputId": "f736e76f-dde4-411f-9446-e5c2abad6f4c"
      },
      "execution_count": null,
      "outputs": [
        {
          "output_type": "stream",
          "name": "stdout",
          "text": [
            "{'col', 'mex', 'per'}\n",
            "{'col', 'mex', 'per'}\n"
          ]
        }
      ]
    },
    {
      "cell_type": "markdown",
      "source": [
        "#List Comprehension"
      ],
      "metadata": {
        "id": "XpWeMx9TS82Q"
      }
    },
    {
      "cell_type": "code",
      "source": [
        "#Generar lista de números con ciclo for\n",
        "numbers =[]\n",
        "\n",
        "for element in range(1, 11):\n",
        "  numbers.append(element * 2)\n",
        "\n",
        "print(numbers)"
      ],
      "metadata": {
        "colab": {
          "base_uri": "https://localhost:8080/"
        },
        "id": "51HS4hcSP-7P",
        "outputId": "e9c88093-7a37-4187-a69c-a7af03a18f68"
      },
      "execution_count": null,
      "outputs": [
        {
          "output_type": "stream",
          "name": "stdout",
          "text": [
            "[2, 4, 6, 8, 10, 12, 14, 16, 18, 20]\n"
          ]
        }
      ]
    },
    {
      "cell_type": "code",
      "source": [
        "#Generar lista de números con list #Generar lista de números con dictionary comprehension\n",
        "\n",
        "numbers_2 =[element * 2 for element in range(1,11)]\n",
        "\n",
        "print(numbers_2)"
      ],
      "metadata": {
        "colab": {
          "base_uri": "https://localhost:8080/"
        },
        "id": "ST0n142UTYJ8",
        "outputId": "517e53cb-7dce-41a2-d500-303478709b07"
      },
      "execution_count": null,
      "outputs": [
        {
          "output_type": "stream",
          "name": "stdout",
          "text": [
            "[2, 4, 6, 8, 10, 12, 14, 16, 18, 20]\n"
          ]
        }
      ]
    },
    {
      "cell_type": "code",
      "source": [
        "num_3 = [i * 2 for i in range(1,101) if i % 2 == 0] # Solo multiplica por los los numeros de 1 a 100 si los numeros a multiplicar con pares\n",
        "print(num_3)"
      ],
      "metadata": {
        "colab": {
          "base_uri": "https://localhost:8080/"
        },
        "id": "Y_CJcimxVIzV",
        "outputId": "1253d675-27e9-4a3a-c609-f774bdd337a2"
      },
      "execution_count": null,
      "outputs": [
        {
          "output_type": "stream",
          "name": "stdout",
          "text": [
            "[2, 4, 6, 8, 10, 12, 14, 16, 18, 20, 22, 24, 26, 28, 30, 32, 34, 36, 38, 40, 42, 44, 46, 48, 50, 52, 54, 56, 58, 60, 62, 64, 66, 68, 70, 72, 74, 76, 78, 80, 82, 84, 86, 88, 90, 92, 94, 96, 98, 100, 102, 104, 106, 108, 110, 112, 114, 116, 118, 120, 122, 124, 126, 128, 130, 132, 134, 136, 138, 140, 142, 144, 146, 148, 150, 152, 154, 156, 158, 160, 162, 164, 166, 168, 170, 172, 174, 176, 178, 180, 182, 184, 186, 188, 190, 192, 194, 196, 198, 200]\n"
          ]
        }
      ]
    },
    {
      "cell_type": "markdown",
      "source": [
        "#Dictionary Comprehension"
      ],
      "metadata": {
        "id": "v5WVnTYyXzQ9"
      }
    },
    {
      "cell_type": "code",
      "source": [
        "#Generar diccionario con ciclo for\n",
        "\n",
        "dict = {}\n",
        "for i in range(1,5):\n",
        "  dict[i] = i*2\n",
        "\n",
        "print(dict)"
      ],
      "metadata": {
        "colab": {
          "base_uri": "https://localhost:8080/"
        },
        "id": "Z24O7Ce-XzB4",
        "outputId": "cc84a5ea-157a-4d04-d4be-3e41c455ede8"
      },
      "execution_count": null,
      "outputs": [
        {
          "output_type": "stream",
          "name": "stdout",
          "text": [
            "{1: 2, 2: 4, 3: 6, 4: 8}\n"
          ]
        }
      ]
    },
    {
      "cell_type": "code",
      "source": [
        "#Generar lista de números con dictionary comprehension\n",
        "dict_2 = {i : i * 2 for i in range(1,5)}\n",
        "print(dict_2)"
      ],
      "metadata": {
        "colab": {
          "base_uri": "https://localhost:8080/"
        },
        "id": "Ny_IFxQNXAPg",
        "outputId": "570ae2c2-1c1b-4738-f5fa-7f248a0ec06e"
      },
      "execution_count": null,
      "outputs": [
        {
          "output_type": "stream",
          "name": "stdout",
          "text": [
            "{1: 2, 2: 4, 3: 6, 4: 8}\n"
          ]
        }
      ]
    },
    {
      "cell_type": "code",
      "source": [
        "#Generar diccionario para paises y poblacion usando ciclo for\n",
        "\n",
        "import random\n",
        "\n",
        "countries = [\"col\", \"mex\", \"per\", \"bol\"]\n",
        "population = {}\n",
        "\n",
        "for country in countries:\n",
        "  population[country] = random.randint(1, 101)\n",
        "\n",
        "print(population)"
      ],
      "metadata": {
        "colab": {
          "base_uri": "https://localhost:8080/"
        },
        "id": "e1tSRTYDY54-",
        "outputId": "5ded2a37-c95f-43f0-9fa7-218565de981e"
      },
      "execution_count": null,
      "outputs": [
        {
          "output_type": "stream",
          "name": "stdout",
          "text": [
            "{'col': 26, 'mex': 86, 'per': 5, 'bol': 89}\n"
          ]
        }
      ]
    },
    {
      "cell_type": "code",
      "source": [
        "#Generar diccionario para paises con dictionary comprehension\n",
        "\n",
        "population_2 = { country :  random.randint(1, 101) for country in countries}\n",
        "\n",
        "print(population_2)"
      ],
      "metadata": {
        "colab": {
          "base_uri": "https://localhost:8080/"
        },
        "id": "rk5XZj-BaNMG",
        "outputId": "8dd237d2-75d7-440d-fa72-dfcaf49e591c"
      },
      "execution_count": null,
      "outputs": [
        {
          "output_type": "stream",
          "name": "stdout",
          "text": [
            "{'col': 15, 'mex': 53, 'per': 77, 'bol': 69}\n"
          ]
        }
      ]
    },
    {
      "cell_type": "code",
      "source": [
        "names = [\"Fernando\", \"Sandra\", \"Santiago\"]\n",
        "ages = [18, 50, 10]\n",
        "\n",
        "print(list(zip(names, ages))) # La funcion zip hace unión entre listas\n",
        "\n",
        "new_dict = {name:age for (name, age) in zip(names, ages)}\n",
        "print(new_dict)"
      ],
      "metadata": {
        "colab": {
          "base_uri": "https://localhost:8080/"
        },
        "id": "5RZHv5EQbAC5",
        "outputId": "351f0c5f-fd3f-4d96-a865-d0fd26333ca6"
      },
      "execution_count": null,
      "outputs": [
        {
          "output_type": "stream",
          "name": "stdout",
          "text": [
            "[('Fernando', 18), ('Sandra', 50), ('Santiago', 10)]\n",
            "{'Fernando': 18, 'Sandra': 50, 'Santiago': 10}\n"
          ]
        }
      ]
    },
    {
      "cell_type": "markdown",
      "source": [
        "#Funciones"
      ],
      "metadata": {
        "id": "EDGJaqjMZ0iY"
      }
    },
    {
      "cell_type": "code",
      "source": [
        "print('Hola') # Esta es una función que imprime el argumento\n",
        "\n",
        "def my_print():   # Código para imprimir usando una función\n",
        "  print('This is my print')\n",
        "\n",
        "my_print()  # La función se llama por el nombre de la misma\n",
        "\n",
        "def my_print_2(text):   # Código para imprimir usando una función ingresando un parámetro\n",
        "  print(text * 2)\n",
        "\n",
        "my_print_2('Este es mi texto ')  # La función se llama por el nombre de la misma"
      ],
      "metadata": {
        "id": "BeX9H20fb4pD",
        "colab": {
          "base_uri": "https://localhost:8080/"
        },
        "outputId": "a5c28801-d2b2-4520-810a-6672688c1510"
      },
      "execution_count": null,
      "outputs": [
        {
          "output_type": "stream",
          "name": "stdout",
          "text": [
            "Hola\n",
            "This is my print\n",
            "Este es mi texto Este es mi texto \n"
          ]
        }
      ]
    },
    {
      "cell_type": "code",
      "source": [
        "a = 10\n",
        "b = 90\n",
        "c = a + b\n",
        "print(c)\n",
        "\n",
        "def suma(a, b): # se definen los parametros para ingresar dentro de la función\n",
        "  print(a + b)\n",
        "suma(10,20) # Se hace llamado de la función ingresando los valores que se van a operar\n",
        "suma(15,26)\n",
        "\n",
        "def suma(a, b): # Esta función hace uso de una función dentro de otra función\n",
        "  my_print_2(a + b)\n",
        "suma(10,20)\n",
        "suma(15,26)"
      ],
      "metadata": {
        "id": "A3rwH5udaHJM",
        "outputId": "65354b94-c796-47fc-a56a-9666e1a0d465",
        "colab": {
          "base_uri": "https://localhost:8080/"
        }
      },
      "execution_count": null,
      "outputs": [
        {
          "output_type": "stream",
          "name": "stdout",
          "text": [
            "100\n",
            "30\n",
            "41\n",
            "60\n",
            "82\n"
          ]
        }
      ]
    },
    {
      "cell_type": "markdown",
      "source": [
        "#Funciones: return"
      ],
      "metadata": {
        "id": "MNvk7UeaXW-h"
      }
    },
    {
      "cell_type": "code",
      "source": [
        "sum = 0\n",
        "for x in range(1,10): # Esta operación realiza una suma en un rango definido\n",
        "  sum += x\n",
        "print(sum)"
      ],
      "metadata": {
        "colab": {
          "base_uri": "https://localhost:8080/"
        },
        "id": "-TG5EMGCXWbT",
        "outputId": "3cf11dc2-b61d-4303-ad99-1a7277d3393c"
      },
      "execution_count": null,
      "outputs": [
        {
          "output_type": "stream",
          "name": "stdout",
          "text": [
            "45\n"
          ]
        }
      ]
    },
    {
      "cell_type": "code",
      "source": [
        "# Es posible realizar la operación de tal manera que los valores puedan ser variables\n",
        "\n",
        "def sum_range(a, b): #a parámetro mínimo, b parámetro máximo\n",
        "  print(a, b)\n",
        "  sum = 0\n",
        "  for x in range(a, b): # El rango ahora puede ser ajustado de forma dinámica\n",
        "    sum += x\n",
        "  return sum # Termina la operación regresando el valor que hay en sum\n",
        "\n",
        "result = sum_range(1, 10) # Los valores pueden ser ajustados al momento de llamar la función y guardados en una variable\n",
        "print(result)"
      ],
      "metadata": {
        "id": "WjqkiI_jbTMM",
        "colab": {
          "base_uri": "https://localhost:8080/"
        },
        "outputId": "25b44acd-75ca-4817-9a26-f564f051ab3f"
      },
      "execution_count": null,
      "outputs": [
        {
          "output_type": "stream",
          "name": "stdout",
          "text": [
            "1 10\n",
            "45\n"
          ]
        }
      ]
    },
    {
      "cell_type": "markdown",
      "source": [
        "#return & args"
      ],
      "metadata": {
        "id": "3piEZ0IGb4y0"
      }
    },
    {
      "cell_type": "code",
      "source": [
        "def find_vol(a = 1, b = 1, c = 1): # Se pueden asignar valores por defecto\n",
        "  return a * b * c\n",
        "\n",
        "result = find_vol(2, 3, 4)\n",
        "\n",
        "print(result)"
      ],
      "metadata": {
        "colab": {
          "base_uri": "https://localhost:8080/"
        },
        "id": "SFwQqXdEYpiF",
        "outputId": "cdb3a7df-bef1-43e9-8c8f-38d909ae514b"
      },
      "execution_count": null,
      "outputs": [
        {
          "output_type": "stream",
          "name": "stdout",
          "text": [
            "24\n"
          ]
        }
      ]
    },
    {
      "cell_type": "code",
      "source": [
        "def find_vol(length = 1, width = 1, deepth = 1): # Se pueden asignar valores por defecto\n",
        "  return length * width * deepth\n",
        "\n",
        "result = find_vol(width = 2) # Se puede enviar un solo parámetro al especificar cuál es\n",
        "\n",
        "print(result)"
      ],
      "metadata": {
        "colab": {
          "base_uri": "https://localhost:8080/"
        },
        "id": "VRspbvkecd-Y",
        "outputId": "6bf74405-c24b-4e06-fb99-aaa9c7391eec"
      },
      "execution_count": null,
      "outputs": [
        {
          "output_type": "stream",
          "name": "stdout",
          "text": [
            "2\n"
          ]
        }
      ]
    },
    {
      "cell_type": "code",
      "source": [
        "def find_vol(length = 1, width = 1, deepth = 1): # Se pueden asignar valores por defecto\n",
        "  return length * width * deepth, width, 'Hola' # Para retornar mas de un valor con la función, se debe separa con comas lo que se desea obtener\n",
        "\n",
        "result = find_vol(width = 2) # Se puede enviar un solo parámetro al especificar cuál es\n",
        "\n",
        "print(result) # Al ser ejecutado se genera una tupla con varios valores o se puede especificar que posición de la tupla se desa obtener\n",
        "print(result[2])\n",
        "print(result[1])"
      ],
      "metadata": {
        "colab": {
          "base_uri": "https://localhost:8080/"
        },
        "id": "N1qHdBHhdIIQ",
        "outputId": "ea5c40fb-6826-4379-9bfe-b5ec142b8b64"
      },
      "execution_count": null,
      "outputs": [
        {
          "output_type": "stream",
          "name": "stdout",
          "text": [
            "(2, 2, 'Hola')\n",
            "Hola\n",
            "2\n"
          ]
        }
      ]
    },
    {
      "cell_type": "markdown",
      "source": [
        "#Scope"
      ],
      "metadata": {
        "id": "LLLmYXkLeZnX"
      }
    },
    {
      "cell_type": "code",
      "source": [
        "price = 100 # El contexto de esta variable va a ser global\n",
        "\n",
        "def increment():\n",
        "  price = price +10\n",
        "  print(price) # Python puede confundirse y va a tener un contexto diferente para la variable creada dentro de la función, lo que generará un error\n",
        "\n",
        "\n",
        "print(price)\n",
        "\n",
        "increment() # Se genera un error al llamar a una función con una variable sin definir dentro de la misma"
      ],
      "metadata": {
        "id": "6fSdfcc4d9GC",
        "colab": {
          "base_uri": "https://localhost:8080/",
          "height": 323
        },
        "outputId": "a41cc27f-b236-4a9f-b828-d83023c49005"
      },
      "execution_count": null,
      "outputs": [
        {
          "output_type": "stream",
          "name": "stdout",
          "text": [
            "100\n"
          ]
        },
        {
          "output_type": "error",
          "ename": "UnboundLocalError",
          "evalue": "local variable 'prices' referenced before assignment",
          "traceback": [
            "\u001b[0;31m---------------------------------------------------------------------------\u001b[0m",
            "\u001b[0;31mUnboundLocalError\u001b[0m                         Traceback (most recent call last)",
            "\u001b[0;32m<ipython-input-8-e54364b07307>\u001b[0m in \u001b[0;36m<cell line: 10>\u001b[0;34m()\u001b[0m\n\u001b[1;32m      8\u001b[0m \u001b[0mprint\u001b[0m\u001b[0;34m(\u001b[0m\u001b[0mprice\u001b[0m\u001b[0;34m)\u001b[0m\u001b[0;34m\u001b[0m\u001b[0;34m\u001b[0m\u001b[0m\n\u001b[1;32m      9\u001b[0m \u001b[0;34m\u001b[0m\u001b[0m\n\u001b[0;32m---> 10\u001b[0;31m \u001b[0mincrement\u001b[0m\u001b[0;34m(\u001b[0m\u001b[0;34m)\u001b[0m \u001b[0;31m# Se genera un error al llamar a una función con una variable sin definir dentro de la misma\u001b[0m\u001b[0;34m\u001b[0m\u001b[0;34m\u001b[0m\u001b[0m\n\u001b[0m",
            "\u001b[0;32m<ipython-input-8-e54364b07307>\u001b[0m in \u001b[0;36mincrement\u001b[0;34m()\u001b[0m\n\u001b[1;32m      2\u001b[0m \u001b[0;34m\u001b[0m\u001b[0m\n\u001b[1;32m      3\u001b[0m \u001b[0;32mdef\u001b[0m \u001b[0mincrement\u001b[0m\u001b[0;34m(\u001b[0m\u001b[0;34m)\u001b[0m\u001b[0;34m:\u001b[0m\u001b[0;34m\u001b[0m\u001b[0;34m\u001b[0m\u001b[0m\n\u001b[0;32m----> 4\u001b[0;31m   \u001b[0mprices\u001b[0m \u001b[0;34m=\u001b[0m \u001b[0mprices\u001b[0m \u001b[0;34m+\u001b[0m\u001b[0;36m10\u001b[0m \u001b[0;31m#Python puede confundirse y va a tener un contexto diferente para la variable creada dentro de la función, lo que generará un error\u001b[0m\u001b[0;34m\u001b[0m\u001b[0;34m\u001b[0m\u001b[0m\n\u001b[0m\u001b[1;32m      5\u001b[0m   \u001b[0mprint\u001b[0m\u001b[0;34m(\u001b[0m\u001b[0mprices\u001b[0m\u001b[0;34m)\u001b[0m\u001b[0;34m\u001b[0m\u001b[0;34m\u001b[0m\u001b[0m\n\u001b[1;32m      6\u001b[0m \u001b[0;34m\u001b[0m\u001b[0m\n",
            "\u001b[0;31mUnboundLocalError\u001b[0m: local variable 'prices' referenced before assignment"
          ]
        }
      ]
    },
    {
      "cell_type": "code",
      "source": [
        "price = 100\n",
        "\n",
        "def increment():\n",
        "  price = 200 # La variable se puede declarar dentro de la función para no generar error ya que estaría teniendo un contexto diferente a la variable global del mismo nombre\n",
        "  price = price +10\n",
        "  print(price)\n",
        "  return price\n",
        "\n",
        "\n",
        "print(price)\n",
        "\n",
        "price_2 = increment()\n",
        "print(price_2)"
      ],
      "metadata": {
        "colab": {
          "base_uri": "https://localhost:8080/"
        },
        "id": "78WwNa-RBBxI",
        "outputId": "af9a63c9-a39b-412f-e67c-d5edd956f3fc"
      },
      "execution_count": null,
      "outputs": [
        {
          "output_type": "stream",
          "name": "stdout",
          "text": [
            "100\n",
            "210\n",
            "210\n"
          ]
        }
      ]
    },
    {
      "cell_type": "code",
      "source": [
        "price = 100\n",
        "\n",
        "def increment():\n",
        "  price = 200\n",
        "  result = price +10\n",
        "  print(result)\n",
        "  return result\n",
        "\n",
        "\n",
        "print(price)\n",
        "\n",
        "price_2 = increment()\n",
        "print(result) # Al llamar una variable definida dentro de una función, se genera un error ya que esta variable no tiene contexto global"
      ],
      "metadata": {
        "colab": {
          "base_uri": "https://localhost:8080/",
          "height": 216
        },
        "id": "F2rij81ABxeG",
        "outputId": "d0c7fcce-8017-4832-e1bb-e8eb68656582"
      },
      "execution_count": null,
      "outputs": [
        {
          "output_type": "stream",
          "name": "stdout",
          "text": [
            "100\n",
            "210\n"
          ]
        },
        {
          "output_type": "error",
          "ename": "NameError",
          "evalue": "name 'result' is not defined",
          "traceback": [
            "\u001b[0;31m---------------------------------------------------------------------------\u001b[0m",
            "\u001b[0;31mNameError\u001b[0m                                 Traceback (most recent call last)",
            "\u001b[0;32m<ipython-input-12-697f5728deb6>\u001b[0m in \u001b[0;36m<cell line: 13>\u001b[0;34m()\u001b[0m\n\u001b[1;32m     11\u001b[0m \u001b[0;34m\u001b[0m\u001b[0m\n\u001b[1;32m     12\u001b[0m \u001b[0mprice_2\u001b[0m \u001b[0;34m=\u001b[0m \u001b[0mincrement\u001b[0m\u001b[0;34m(\u001b[0m\u001b[0;34m)\u001b[0m\u001b[0;34m\u001b[0m\u001b[0;34m\u001b[0m\u001b[0m\n\u001b[0;32m---> 13\u001b[0;31m \u001b[0mprint\u001b[0m\u001b[0;34m(\u001b[0m\u001b[0mresult\u001b[0m\u001b[0;34m)\u001b[0m\u001b[0;34m\u001b[0m\u001b[0;34m\u001b[0m\u001b[0m\n\u001b[0m",
            "\u001b[0;31mNameError\u001b[0m: name 'result' is not defined"
          ]
        }
      ]
    },
    {
      "cell_type": "markdown",
      "source": [
        "#Refactorizando juego piedra, papel y tijera"
      ],
      "metadata": {
        "id": "Pl1SIheJD8Ou"
      }
    },
    {
      "cell_type": "code",
      "source": [
        "import random\n",
        "\n",
        "def choose_options():\n",
        "  options = ('piedra', 'papel', 'tijera')\n",
        "  user_option = input('piedra, papel o tijera => ')\n",
        "  user_option = user_option.lower()\n",
        "\n",
        "\n",
        "  if not user_option in options:\n",
        "    print('esa opcion no es valida')\n",
        "      #continue\n",
        "    return None, None\n",
        "\n",
        "  computer_option = random.choice(options)\n",
        "  print('User option =>', user_option)\n",
        "  print('Computer option =>', computer_option)\n",
        "  return user_option, computer_option\n",
        "\n",
        "#----------------------------------------------------------------\n",
        "\n",
        "def check_rules(user_option, computer_option, user_wins, computer_wins):\n",
        "  if user_option == computer_option:\n",
        "        print('Empate!')\n",
        "  elif user_option == 'piedra':\n",
        "    if computer_option == 'tijera':\n",
        "        print('piedra gana a tijera')\n",
        "        print('user gano!')\n",
        "        user_wins += 1\n",
        "    else:\n",
        "        print('Papel gana a piedra')\n",
        "        print('computer gano!')\n",
        "        computer_wins += 1\n",
        "  elif user_option == 'papel':\n",
        "    if computer_option == 'piedra':\n",
        "        print('papel gana a piedra')\n",
        "        print('user gano')\n",
        "        user_wins += 1\n",
        "    else:\n",
        "        print('tijera gana a papel')\n",
        "        print('computer gano!')\n",
        "        computer_wins += 1\n",
        "  elif user_option == 'tijera':\n",
        "      if computer_option == 'papel':\n",
        "          print('tijera gana a papel')\n",
        "          print('user gano!')\n",
        "          user_wins += 1\n",
        "      else:\n",
        "          print('piedra gana a tijera')\n",
        "          print('computer gano!')\n",
        "          computer_wins += 1\n",
        "  return(user_wins, computer_wins)\n",
        "#=========================================================================\n",
        "def run_game():\n",
        "  computer_wins = 0\n",
        "  user_wins = 0\n",
        "  rounds = 1\n",
        "\n",
        "  while True:\n",
        "\n",
        "    print('*' * 10)\n",
        "    print('ROUND', rounds)\n",
        "    print('*' * 10)\n",
        "\n",
        "    print('computer_wins', computer_wins)\n",
        "    print('user_wins', user_wins)\n",
        "\n",
        "    rounds += 1\n",
        "\n",
        "    user_option, computer_option = choose_options()\n",
        "    user_wins, computer_wins = check_rules(user_option, computer_option, user_wins, computer_wins)\n",
        "\n",
        "    #-----------------------\n",
        "\n",
        "\n",
        "    if computer_wins == 2:\n",
        "      print('El ganador es la computadora')\n",
        "      break\n",
        "\n",
        "    if user_wins == 2:\n",
        "      print('El ganador es el usuario')\n",
        "      break\n",
        "\n",
        "\n",
        "run_game()"
      ],
      "metadata": {
        "id": "B7GoDsX2D7Cw",
        "outputId": "fcfd2c19-66ff-48d3-97b3-d15af082295b",
        "colab": {
          "base_uri": "https://localhost:8080/"
        }
      },
      "execution_count": null,
      "outputs": [
        {
          "output_type": "stream",
          "name": "stdout",
          "text": [
            "**********\n",
            "ROUND 1\n",
            "**********\n",
            "computer_wins 0\n",
            "user_wins 0\n",
            "piedra, papel o tijera => papel\n",
            "User option => papel\n",
            "Computer option => papel\n",
            "Empate!\n",
            "**********\n",
            "ROUND 2\n",
            "**********\n",
            "computer_wins 0\n",
            "user_wins 0\n",
            "piedra, papel o tijera => papel\n",
            "User option => papel\n",
            "Computer option => tijera\n",
            "tijera gana a papel\n",
            "computer gano!\n",
            "**********\n",
            "ROUND 3\n",
            "**********\n",
            "computer_wins 1\n",
            "user_wins 0\n",
            "piedra, papel o tijera => papel\n",
            "User option => papel\n",
            "Computer option => papel\n",
            "Empate!\n",
            "**********\n",
            "ROUND 4\n",
            "**********\n",
            "computer_wins 1\n",
            "user_wins 0\n",
            "piedra, papel o tijera => piedra\n",
            "User option => piedra\n",
            "Computer option => piedra\n",
            "Empate!\n",
            "**********\n",
            "ROUND 5\n",
            "**********\n",
            "computer_wins 1\n",
            "user_wins 0\n",
            "piedra, papel o tijera => papel\n",
            "User option => papel\n",
            "Computer option => papel\n",
            "Empate!\n",
            "**********\n",
            "ROUND 6\n",
            "**********\n",
            "computer_wins 1\n",
            "user_wins 0\n",
            "piedra, papel o tijera => papel\n",
            "User option => papel\n",
            "Computer option => piedra\n",
            "papel gana a piedra\n",
            "user gano\n",
            "**********\n",
            "ROUND 7\n",
            "**********\n",
            "computer_wins 1\n",
            "user_wins 1\n",
            "piedra, papel o tijera => papel\n",
            "User option => papel\n",
            "Computer option => papel\n",
            "Empate!\n",
            "**********\n",
            "ROUND 8\n",
            "**********\n",
            "computer_wins 1\n",
            "user_wins 1\n",
            "piedra, papel o tijera => papel\n",
            "User option => papel\n",
            "Computer option => tijera\n",
            "tijera gana a papel\n",
            "computer gano!\n",
            "El ganador es la computadora\n"
          ]
        }
      ]
    },
    {
      "cell_type": "markdown",
      "source": [
        "#Lamba"
      ],
      "metadata": {
        "id": "l101sLGhYhnq"
      }
    },
    {
      "cell_type": "code",
      "source": [
        "def increment(x):\n",
        "  return x + 1\n",
        "\n",
        "increment_2 = lambda x: x + 1\n",
        "\n",
        "result = increment(10)\n",
        "print(result)\n",
        "\n",
        "result = increment_2(20)\n",
        "print(result)\n",
        "\n",
        "full_name = lambda name, last_name:f'Full name is {name.title()} {last_name.title()}'\n",
        "text = full_name('fernando','acevedo')\n",
        "\n",
        "print(text)"
      ],
      "metadata": {
        "id": "X8QX0GY_C98O",
        "colab": {
          "base_uri": "https://localhost:8080/"
        },
        "outputId": "65469a36-4be1-4fd3-d160-f828f9c314a3"
      },
      "execution_count": null,
      "outputs": [
        {
          "output_type": "stream",
          "name": "stdout",
          "text": [
            "11\n",
            "21\n",
            "Full name is Fernando Acevedo\n"
          ]
        }
      ]
    },
    {
      "cell_type": "markdown",
      "source": [
        "#HOF Higher Order Function"
      ],
      "metadata": {
        "id": "X9299zRKasa1"
      }
    },
    {
      "cell_type": "code",
      "source": [
        "def increment(y):\n",
        "  return y + 1\n",
        "\n",
        "def hof(x, func):\n",
        "  return x + func(x)\n",
        "\n",
        "result = hof(2, increment)\n",
        "\n",
        "print(result)"
      ],
      "metadata": {
        "colab": {
          "base_uri": "https://localhost:8080/"
        },
        "id": "nhcpC7uGYx-w",
        "outputId": "3e573841-41b8-4bb8-9c58-f1a823d96c44"
      },
      "execution_count": null,
      "outputs": [
        {
          "output_type": "stream",
          "name": "stdout",
          "text": [
            "5\n"
          ]
        }
      ]
    },
    {
      "cell_type": "code",
      "source": [
        "#Usando lambda\n",
        "\n",
        "increment = lambda y: y + 1\n",
        "\n",
        "hof = lambda x, func: x + func(x)\n",
        "\n",
        "result = hof(2, increment)\n",
        "print(result)\n",
        "\n",
        "result = hof(2, lambda y: y + 3)\n",
        "print(result)\n",
        "\n",
        "result = hof(2, lambda y: y * 3)\n",
        "print(result)\n"
      ],
      "metadata": {
        "colab": {
          "base_uri": "https://localhost:8080/"
        },
        "id": "hDiblkDIbjpI",
        "outputId": "017d9a58-8132-42f8-b735-f24094bcc036"
      },
      "execution_count": null,
      "outputs": [
        {
          "output_type": "stream",
          "name": "stdout",
          "text": [
            "5\n",
            "7\n",
            "8\n"
          ]
        }
      ]
    },
    {
      "cell_type": "markdown",
      "source": [],
      "metadata": {
        "id": "PwktjhIQd5mb"
      }
    },
    {
      "cell_type": "markdown",
      "source": [
        "#Map\n"
      ],
      "metadata": {
        "id": "eBmNG6iEd-sA"
      }
    },
    {
      "cell_type": "code",
      "source": [
        "# Funcion que hace tranformaciones a una lista de elementos\n",
        "numbers = [1, 2, 3, 4]\n",
        "\n",
        "numbers_2 = []\n",
        "for i in numbers:\n",
        "  numbers_2.append(i * 2)\n",
        "\n",
        "numbers_3 = list(map(lambda i : i * 2, numbers))\n",
        "\n",
        "print(numbers)\n",
        "print(numbers_2)\n",
        "print(numbers_3)"
      ],
      "metadata": {
        "id": "T0yEuRpGcPvf",
        "colab": {
          "base_uri": "https://localhost:8080/"
        },
        "outputId": "115d7339-ada6-47d2-ac35-583c49806d96"
      },
      "execution_count": null,
      "outputs": [
        {
          "output_type": "stream",
          "name": "stdout",
          "text": [
            "[1, 2, 3, 4]\n",
            "[2, 4, 6, 8]\n",
            "[2, 4, 6, 8]\n"
          ]
        }
      ]
    },
    {
      "cell_type": "code",
      "source": [
        "num_1 = [1, 2, 3, 4]\n",
        "num_2 = [5, 6, 7]\n",
        "\n",
        "print(num_1)\n",
        "print(num_2)\n",
        "result = list(map(lambda x, y: x + y, num_1, num_2))\n",
        "\n",
        "print(result)"
      ],
      "metadata": {
        "colab": {
          "base_uri": "https://localhost:8080/"
        },
        "id": "qxJvFNa7WOLC",
        "outputId": "0e19b8f9-170c-4c2c-ad15-cd397e3be31a"
      },
      "execution_count": null,
      "outputs": [
        {
          "output_type": "stream",
          "name": "stdout",
          "text": [
            "[1, 2, 3, 4]\n",
            "[5, 6, 7]\n",
            "[6, 8, 10]\n"
          ]
        }
      ]
    },
    {
      "cell_type": "markdown",
      "source": [
        "#Map con diccionarios"
      ],
      "metadata": {
        "id": "jT0ZXeNQXnFv"
      }
    },
    {
      "cell_type": "code",
      "source": [
        "items = [\n",
        "    {\n",
        "      'Product': 'Camisa',\n",
        "      'Price': 100\n",
        "    },\n",
        "    {\n",
        "      'Product': 'Pantalones',\n",
        "      'Price': 300\n",
        "    },\n",
        "    {\n",
        "      'Product': 'Pantalones 2',\n",
        "      'Price': 200\n",
        "    }\n",
        "]\n",
        "\n",
        "prices = list(map(lambda i: i ['Price'], items))\n",
        "print(prices)\n"
      ],
      "metadata": {
        "colab": {
          "base_uri": "https://localhost:8080/"
        },
        "id": "mhM-kcLdXMx1",
        "outputId": "7b5cc0ca-3c77-41d5-a561-660dcfc48a67"
      },
      "execution_count": null,
      "outputs": [
        {
          "output_type": "stream",
          "name": "stdout",
          "text": [
            "[100, 300, 200]\n"
          ]
        }
      ]
    },
    {
      "cell_type": "code",
      "source": [
        "items = [\n",
        "    {\n",
        "      'Product': 'Camisa',\n",
        "      'Price': 100,\n",
        "    },\n",
        "    {\n",
        "      'Product': 'Pantalones',\n",
        "      'Price': 300\n",
        "    },\n",
        "    {\n",
        "      'Product': 'Pantalones 2',\n",
        "      'Price': 200\n",
        "    }\n",
        "]\n",
        "\n",
        "def add_taxes(item):\n",
        "  item['Taxes'] = item['Price'] * 0.19\n",
        "  return item\n",
        "\n",
        "new_items = list(map( add_taxes, items))\n",
        "print('new list:')\n",
        "print(new_items)\n",
        "\n",
        "print('old list:')\n",
        "print(items) # Se realizan modificaciones en el array original"
      ],
      "metadata": {
        "colab": {
          "base_uri": "https://localhost:8080/"
        },
        "id": "fO-D4mcGYezu",
        "outputId": "47ade272-d48d-43f6-b3c2-d34d01a9d18a"
      },
      "execution_count": null,
      "outputs": [
        {
          "output_type": "stream",
          "name": "stdout",
          "text": [
            "[100, 300, 200]\n",
            "new list:\n",
            "[{'Product': 'Camisa', 'Price': 100, 'Taxes': 19.0}, {'Product': 'Pantalones', 'Price': 300, 'Taxes': 57.0}, {'Product': 'Pantalones 2', 'Price': 200, 'Taxes': 38.0}]\n",
            "old list:\n",
            "[{'Product': 'Camisa', 'Price': 100, 'Taxes': 19.0}, {'Product': 'Pantalones', 'Price': 300, 'Taxes': 57.0}, {'Product': 'Pantalones 2', 'Price': 200, 'Taxes': 38.0}]\n"
          ]
        }
      ]
    },
    {
      "cell_type": "markdown",
      "source": [
        "#Map con inmutabilidad"
      ],
      "metadata": {
        "id": "tAm23gsca_ET"
      }
    },
    {
      "cell_type": "code",
      "source": [
        "#Lista con diccionarios incorporados en sus elementos\n",
        "items = [\n",
        "    {\n",
        "      'Product': 'Camisa',\n",
        "      'Price': 100,\n",
        "    },\n",
        "    {\n",
        "      'Product': 'Pantalones',\n",
        "      'Price': 300\n",
        "    },\n",
        "    {\n",
        "      'Product': 'Pantalones 2',\n",
        "      'Price': 200\n",
        "    }\n",
        "]\n",
        "\n",
        "def add_taxes(item):\n",
        "  temp_list = item.copy() # Para solucionar el problema de referencia en memoria, se hace una copia de la lista original para que pueda ser manipulada\n",
        "  temp_list['Taxes'] = temp_list['Price'] * 0.19 # En esta linea se hace una referencia a la memoria\n",
        "  return temp_list\n",
        "\n",
        "new_items = list(map( add_taxes, items))\n",
        "print('new list:')\n",
        "print(new_items)\n",
        "\n",
        "print('old list:')\n",
        "print(items) # La lista original se mantiene ya que se operó la copia de la lista original\n",
        "\n"
      ],
      "metadata": {
        "colab": {
          "base_uri": "https://localhost:8080/"
        },
        "id": "de9n0fRzZ4He",
        "outputId": "3f5e2ff9-660a-43d1-9b29-5672d05885ef"
      },
      "execution_count": null,
      "outputs": [
        {
          "output_type": "stream",
          "name": "stdout",
          "text": [
            "new list:\n",
            "[{'Product': 'Camisa', 'Price': 100, 'Taxes': 19.0}, {'Product': 'Pantalones', 'Price': 300, 'Taxes': 57.0}, {'Product': 'Pantalones 2', 'Price': 200, 'Taxes': 38.0}]\n",
            "old list:\n",
            "[{'Product': 'Camisa', 'Price': 100}, {'Product': 'Pantalones', 'Price': 300}, {'Product': 'Pantalones 2', 'Price': 200}]\n"
          ]
        }
      ]
    },
    {
      "cell_type": "code",
      "source": [
        "def multiply_numbers(numbers):\n",
        "    # Escribe tu solución\n",
        "\n",
        "    return list(map(lambda i : i * 2, numbers))\n",
        "\n",
        "\n",
        "numbers = [1, 2, 3, 4]\n",
        "response = multiply_numbers(numbers)\n",
        "print(response)\n",
        "\n",
        "\n",
        "\n",
        "numbers = [1, 2, 3, 4]\n",
        "response = list(map(lambda i : i * 2, numbers))\n",
        "print(response)"
      ],
      "metadata": {
        "colab": {
          "base_uri": "https://localhost:8080/"
        },
        "id": "CcEwtmTadi_O",
        "outputId": "b55c31c5-71a0-4b08-c6ef-80fc2516fde6"
      },
      "execution_count": null,
      "outputs": [
        {
          "output_type": "stream",
          "name": "stdout",
          "text": [
            "[2, 4, 6, 8]\n",
            "[2, 4, 6, 8]\n"
          ]
        }
      ]
    },
    {
      "cell_type": "markdown",
      "source": [
        "#Filter"
      ],
      "metadata": {
        "id": "Slquqmb1i8ct"
      }
    },
    {
      "cell_type": "code",
      "source": [
        "# Selecciona ciertos elementos para crear una nueva lista\n",
        "numbers = [1, 2, 3, 4, 5, 6, 7, 8, 9, 10]\n",
        "new_numbers = list(filter(lambda x : x % 2 == 0, numbers))\n",
        "\n",
        "\n",
        "print('Lista original:')\n",
        "print(numbers)\n",
        "print('Nueva lista:')\n",
        "print(new_numbers)"
      ],
      "metadata": {
        "id": "LmEkJ2NWjUj5",
        "outputId": "bb0867ed-8c76-4119-c0a2-3d754cf40766",
        "colab": {
          "base_uri": "https://localhost:8080/"
        }
      },
      "execution_count": null,
      "outputs": [
        {
          "output_type": "stream",
          "name": "stdout",
          "text": [
            "Lista original:\n",
            "[1, 2, 3, 4, 5, 6, 7, 8, 9, 10]\n",
            "Nueva lista:\n",
            "[2, 4, 6, 8, 10]\n"
          ]
        }
      ]
    },
    {
      "cell_type": "code",
      "source": [
        "# Filtrar lista con diccionario con equipos que hayan ganado\n",
        "\n",
        "matches = [\n",
        "  {\n",
        "    'home_team': 'Bolivia',\n",
        "    'away_team': 'Uruguay',\n",
        "    'home_team_score': 3,\n",
        "    'away_team_score': 1,\n",
        "    'home_team_result': 'Win'\n",
        "  },\n",
        "  {\n",
        "    'home_team': 'Brazil',\n",
        "    'away_team': 'Mexico',\n",
        "    'home_team_score': 1,\n",
        "    'away_team_score': 1,\n",
        "    'home_team_result': 'Draw'\n",
        "  },\n",
        "  {\n",
        "    'home_team': 'Ecuador',\n",
        "    'away_team': 'Venezuela',\n",
        "    'home_team_score': 5,\n",
        "    'away_team_score': 0,\n",
        "    'home_team_result': 'Win'\n",
        "  },\n",
        "]\n",
        "\n",
        "print(matches)\n",
        "print(len(matches))\n",
        "\n",
        "new_list = list(filter( lambda item: item['home_team_result'] == 'Win', matches)) # En lista con diccionarios es aconsejable crear una copia de la lista original para evitar errores por referencia a la memoria\n",
        "print(new_list)\n",
        "print(len(new_list))\n",
        "\n",
        "print(matches)  # Verificacion de la lista original\n",
        "print(len(matches))"
      ],
      "metadata": {
        "id": "nL9RQMYDj1rD",
        "outputId": "65562732-bb27-4c9d-b2df-7d8f8282028f",
        "colab": {
          "base_uri": "https://localhost:8080/"
        }
      },
      "execution_count": null,
      "outputs": [
        {
          "output_type": "stream",
          "name": "stdout",
          "text": [
            "[{'home_team': 'Bolivia', 'away_team': 'Uruguay', 'home_team_score': 3, 'away_team_score': 1, 'home_team_result': 'Win'}, {'home_team': 'Brazil', 'away_team': 'Mexico', 'home_team_score': 1, 'away_team_score': 1, 'home_team_result': 'Draw'}, {'home_team': 'Ecuador', 'away_team': 'Venezuela', 'home_team_score': 5, 'away_team_score': 0, 'home_team_result': 'Win'}]\n",
            "3\n",
            "[{'home_team': 'Bolivia', 'away_team': 'Uruguay', 'home_team_score': 3, 'away_team_score': 1, 'home_team_result': 'Win'}, {'home_team': 'Ecuador', 'away_team': 'Venezuela', 'home_team_score': 5, 'away_team_score': 0, 'home_team_result': 'Win'}]\n",
            "2\n",
            "[{'home_team': 'Bolivia', 'away_team': 'Uruguay', 'home_team_score': 3, 'away_team_score': 1, 'home_team_result': 'Win'}, {'home_team': 'Brazil', 'away_team': 'Mexico', 'home_team_score': 1, 'away_team_score': 1, 'home_team_result': 'Draw'}, {'home_team': 'Ecuador', 'away_team': 'Venezuela', 'home_team_score': 5, 'away_team_score': 0, 'home_team_result': 'Win'}]\n",
            "3\n"
          ]
        }
      ]
    },
    {
      "cell_type": "code",
      "source": [
        "'''\n",
        "Para resolver este desafío, tu reto es usar la función filter de Python y una función lambda para filtrar una lista de palabras,\n",
        "retornando una lista solo con las que cumplan con la condición de tener 4 o más letras.\n",
        "La función filter_by_length recibirá como entrada una lista con palabras. Finalmente, la función retornará la lista filtrada.\n",
        "\n",
        "\n",
        "new_numbers = list(filter(lambda len(x) : len(x) >= 4, words))\n",
        "\n",
        "def filter_by_length(words):\n",
        "   # Escribe tu solución 👇\n",
        "   return []'''\n",
        "\n",
        "words = ['amor', 'sol', 'piedra', 'día']\n",
        "response = list(filter(lambda x : len(x) >= 4, words))\n",
        "print(response)"
      ],
      "metadata": {
        "id": "rM1t6slNl3l7",
        "outputId": "e1358bb5-b2f5-46ac-dfe0-ced68849c5f0",
        "colab": {
          "base_uri": "https://localhost:8080/"
        }
      },
      "execution_count": null,
      "outputs": [
        {
          "output_type": "stream",
          "name": "stdout",
          "text": [
            "['amor', 'piedra']\n"
          ]
        }
      ]
    },
    {
      "cell_type": "code",
      "source": [
        "words = ['amor', 'sol', 'piedra', 'día']\n",
        "response = list(filter(lambda x : len(x) >= 4, words))\n",
        "print(response)"
      ],
      "metadata": {
        "id": "a_YsYKO-nb6T",
        "outputId": "5e0dba3b-dabe-41e2-fd85-68574cc78f75",
        "colab": {
          "base_uri": "https://localhost:8080/"
        }
      },
      "execution_count": null,
      "outputs": [
        {
          "output_type": "stream",
          "name": "stdout",
          "text": [
            "['amor', 'piedra']\n"
          ]
        }
      ]
    },
    {
      "cell_type": "code",
      "source": [
        "def filter_by_length(words):\n",
        "   # Escribe tu solución 👇\n",
        "   return list(filter(lambda x : len(x) >= 4, words))\n",
        "\n",
        "words = ['amor', 'sol', 'piedra', 'día']\n",
        "response = filter_by_length(words)\n",
        "print(response)"
      ],
      "metadata": {
        "id": "D4an5xO-oHEM",
        "outputId": "7c8f7e13-3a2a-4bc2-9184-8b0d0df9ccc1",
        "colab": {
          "base_uri": "https://localhost:8080/"
        }
      },
      "execution_count": null,
      "outputs": [
        {
          "output_type": "stream",
          "name": "stdout",
          "text": [
            "['amor', 'piedra']\n"
          ]
        }
      ]
    },
    {
      "cell_type": "code",
      "source": [],
      "metadata": {
        "id": "vYUFpq4NrFEO"
      },
      "execution_count": null,
      "outputs": []
    }
  ]
}