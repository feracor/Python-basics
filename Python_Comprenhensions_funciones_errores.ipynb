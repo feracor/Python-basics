{
  "nbformat": 4,
  "nbformat_minor": 0,
  "metadata": {
    "colab": {
      "provenance": [],
      "authorship_tag": "ABX9TyNLayFjyP0ycPkAr6YFyOIf",
      "include_colab_link": true
    },
    "kernelspec": {
      "name": "python3",
      "display_name": "Python 3"
    },
    "language_info": {
      "name": "python"
    }
  },
  "cells": [
    {
      "cell_type": "markdown",
      "metadata": {
        "id": "view-in-github",
        "colab_type": "text"
      },
      "source": [
        "<a href=\"https://colab.research.google.com/github/feracor/Python-basics/blob/main/Python_Comprenhensions_funciones_errores.ipynb\" target=\"_parent\"><img src=\"https://colab.research.google.com/assets/colab-badge.svg\" alt=\"Open In Colab\"/></a>"
      ]
    },
    {
      "cell_type": "code",
      "execution_count": 1,
      "metadata": {
        "colab": {
          "base_uri": "https://localhost:8080/"
        },
        "id": "Mit0O0_lAoyr",
        "outputId": "65bf4fdc-afcc-4d00-dae3-1d723b700a64"
      },
      "outputs": [
        {
          "output_type": "stream",
          "name": "stdout",
          "text": [
            "The Zen of Python, by Tim Peters\n",
            "\n",
            "Beautiful is better than ugly.\n",
            "Explicit is better than implicit.\n",
            "Simple is better than complex.\n",
            "Complex is better than complicated.\n",
            "Flat is better than nested.\n",
            "Sparse is better than dense.\n",
            "Readability counts.\n",
            "Special cases aren't special enough to break the rules.\n",
            "Although practicality beats purity.\n",
            "Errors should never pass silently.\n",
            "Unless explicitly silenced.\n",
            "In the face of ambiguity, refuse the temptation to guess.\n",
            "There should be one-- and preferably only one --obvious way to do it.\n",
            "Although that way may not be obvious at first unless you're Dutch.\n",
            "Now is better than never.\n",
            "Although never is often better than *right* now.\n",
            "If the implementation is hard to explain, it's a bad idea.\n",
            "If the implementation is easy to explain, it may be a good idea.\n",
            "Namespaces are one honking great idea -- let's do more of those!\n"
          ]
        }
      ],
      "source": [
        "import this # Zen de Pyhon"
      ]
    },
    {
      "cell_type": "markdown",
      "source": [
        "#Conjuntos"
      ],
      "metadata": {
        "id": "1tPyXT9xCP6R"
      }
    },
    {
      "cell_type": "code",
      "source": [
        "set_countries = {\"col\", \"mex\", \"bol\", \"col\"}  # Si hay elementos duplicados, se eliminan\n",
        "print(set_countries)\n",
        "print(type(set_countries))"
      ],
      "metadata": {
        "colab": {
          "base_uri": "https://localhost:8080/"
        },
        "id": "DN8nMecKBlqc",
        "outputId": "24295095-a05a-4358-e060-f885e32635da"
      },
      "execution_count": 20,
      "outputs": [
        {
          "output_type": "stream",
          "name": "stdout",
          "text": [
            "{'bol', 'mex', 'col'}\n",
            "<class 'set'>\n"
          ]
        }
      ]
    },
    {
      "cell_type": "code",
      "source": [
        "set_numbers = {1, 44, 3, 50, 55}\n",
        "print(set_numbers )\n",
        "\n",
        "set_types = {\"col\", 32.3, 3, False}\n",
        "print(set_types )"
      ],
      "metadata": {
        "colab": {
          "base_uri": "https://localhost:8080/"
        },
        "id": "AFh3ep1LDuUH",
        "outputId": "db185412-96d6-4fa2-f412-bc7490b6ced9"
      },
      "execution_count": 8,
      "outputs": [
        {
          "output_type": "stream",
          "name": "stdout",
          "text": [
            "{1, 50, 3, 55, 44}\n",
            "{32.3, False, 3, 'col'}\n"
          ]
        }
      ]
    },
    {
      "cell_type": "code",
      "source": [
        "set_from_string = set(\"hello\")  # De esta manera convierte los caracteres de un string en elementos de un conjunto sin duplicados y los guarda en una variable de conjunto\n",
        "print(set_from_string)"
      ],
      "metadata": {
        "colab": {
          "base_uri": "https://localhost:8080/"
        },
        "id": "fIXGnK5WEOlO",
        "outputId": "f8b7aea7-520d-472c-d994-ccb25841acad"
      },
      "execution_count": 11,
      "outputs": [
        {
          "output_type": "stream",
          "name": "stdout",
          "text": [
            "{'h', 'e', 'l', 'o'}\n"
          ]
        }
      ]
    },
    {
      "cell_type": "code",
      "source": [
        "set_from_tuples = set((\"abc\", \"def\", \"abc\", \"as\"))  # De esta manera convierte los definidos de tuplas en elementos de conjuntos\n",
        "print(set_from_tuples)\n",
        "print(type(set_from_tuples))"
      ],
      "metadata": {
        "colab": {
          "base_uri": "https://localhost:8080/"
        },
        "id": "IsFSEj0gE0wP",
        "outputId": "2a8e8465-6e36-4170-e4ec-e30bcf4cb552"
      },
      "execution_count": 16,
      "outputs": [
        {
          "output_type": "stream",
          "name": "stdout",
          "text": [
            "{'def', 'abc', 'as'}\n",
            "<class 'set'>\n"
          ]
        }
      ]
    },
    {
      "cell_type": "code",
      "source": [
        "numbers = [1, 2, 3, 5, 5, 6, 7] # Lista de numeros\n",
        "print(numbers)\n",
        "print(type(numbers))\n",
        "\n",
        "set_numbers = set(numbers) # Convierte lista de numeros en conjunto, por tanto se eliminan los elementos duplicados\n",
        "print(set_numbers)\n",
        "print(type(set_numbers))\n",
        "\n",
        "unique_numbers = list(set_numbers) # Convierte el tipo de dato de conjunto a lista y se guardan los elementos en la lista\n",
        "print(unique_numbers)\n",
        "print(type(unique_numbers))\n",
        "\n"
      ],
      "metadata": {
        "colab": {
          "base_uri": "https://localhost:8080/"
        },
        "id": "CBURom44FWWZ",
        "outputId": "034074c2-0a3d-4775-e306-2b4a78883d85"
      },
      "execution_count": 19,
      "outputs": [
        {
          "output_type": "stream",
          "name": "stdout",
          "text": [
            "[1, 2, 3, 5, 5, 6, 7]\n",
            "<class 'list'>\n",
            "{1, 2, 3, 5, 6, 7}\n",
            "<class 'set'>\n",
            "[1, 2, 3, 5, 6, 7]\n",
            "<class 'list'>\n"
          ]
        }
      ]
    },
    {
      "cell_type": "code",
      "source": [],
      "metadata": {
        "id": "meG575AHHYhl"
      },
      "execution_count": null,
      "outputs": []
    },
    {
      "cell_type": "markdown",
      "source": [
        "#Modificando conjuntos"
      ],
      "metadata": {
        "id": "Xuto8ebQIRpM"
      }
    },
    {
      "cell_type": "code",
      "source": [
        "set_countries = {\"col\", \"mex\", \"bol\", \"col\"}  # Si hay elementos duplicados, se eliminan por defecto\n",
        "size = len (set_countries)\n",
        "\n",
        "print(size)"
      ],
      "metadata": {
        "colab": {
          "base_uri": "https://localhost:8080/"
        },
        "id": "ztLNS0oXITOC",
        "outputId": "53f3afc0-b8a7-4bdd-9a3e-4170e63a3e60"
      },
      "execution_count": 21,
      "outputs": [
        {
          "output_type": "stream",
          "name": "stdout",
          "text": [
            "3\n"
          ]
        }
      ]
    },
    {
      "cell_type": "code",
      "source": [],
      "metadata": {
        "id": "WarP8H37IpZr"
      },
      "execution_count": null,
      "outputs": []
    }
  ]
}