{
  "nbformat": 4,
  "nbformat_minor": 0,
  "metadata": {
    "colab": {
      "provenance": [],
      "authorship_tag": "ABX9TyM1kjM3B7WIyo6CnaSEgtqP",
      "include_colab_link": true
    },
    "kernelspec": {
      "name": "python3",
      "display_name": "Python 3"
    },
    "language_info": {
      "name": "python"
    }
  },
  "cells": [
    {
      "cell_type": "markdown",
      "metadata": {
        "id": "view-in-github",
        "colab_type": "text"
      },
      "source": [
        "<a href=\"https://colab.research.google.com/github/feracor/Python-basics/blob/main/Python_Comprenhensions_funciones_errores.ipynb\" target=\"_parent\"><img src=\"https://colab.research.google.com/assets/colab-badge.svg\" alt=\"Open In Colab\"/></a>"
      ]
    },
    {
      "cell_type": "markdown",
      "source": [
        "#Zen de Pyhon"
      ],
      "metadata": {
        "id": "_eVkJr5QQaSF"
      }
    },
    {
      "cell_type": "code",
      "execution_count": null,
      "metadata": {
        "colab": {
          "base_uri": "https://localhost:8080/"
        },
        "id": "Mit0O0_lAoyr",
        "outputId": "65bf4fdc-afcc-4d00-dae3-1d723b700a64"
      },
      "outputs": [
        {
          "output_type": "stream",
          "name": "stdout",
          "text": [
            "The Zen of Python, by Tim Peters\n",
            "\n",
            "Beautiful is better than ugly.\n",
            "Explicit is better than implicit.\n",
            "Simple is better than complex.\n",
            "Complex is better than complicated.\n",
            "Flat is better than nested.\n",
            "Sparse is better than dense.\n",
            "Readability counts.\n",
            "Special cases aren't special enough to break the rules.\n",
            "Although practicality beats purity.\n",
            "Errors should never pass silently.\n",
            "Unless explicitly silenced.\n",
            "In the face of ambiguity, refuse the temptation to guess.\n",
            "There should be one-- and preferably only one --obvious way to do it.\n",
            "Although that way may not be obvious at first unless you're Dutch.\n",
            "Now is better than never.\n",
            "Although never is often better than *right* now.\n",
            "If the implementation is hard to explain, it's a bad idea.\n",
            "If the implementation is easy to explain, it may be a good idea.\n",
            "Namespaces are one honking great idea -- let's do more of those!\n"
          ]
        }
      ],
      "source": [
        "import this"
      ]
    },
    {
      "cell_type": "markdown",
      "source": [
        "#Conjuntos"
      ],
      "metadata": {
        "id": "1tPyXT9xCP6R"
      }
    },
    {
      "cell_type": "code",
      "source": [
        "set_countries = {\"col\", \"mex\", \"bol\", \"col\"}  # Si hay elementos duplicados, se eliminan\n",
        "print(set_countries)\n",
        "print(type(set_countries))"
      ],
      "metadata": {
        "colab": {
          "base_uri": "https://localhost:8080/"
        },
        "id": "DN8nMecKBlqc",
        "outputId": "24295095-a05a-4358-e060-f885e32635da"
      },
      "execution_count": null,
      "outputs": [
        {
          "output_type": "stream",
          "name": "stdout",
          "text": [
            "{'bol', 'mex', 'col'}\n",
            "<class 'set'>\n"
          ]
        }
      ]
    },
    {
      "cell_type": "code",
      "source": [
        "set_numbers = {1, 44, 3, 50, 55}\n",
        "print(set_numbers )\n",
        "\n",
        "set_types = {\"col\", 32.3, 3, False}\n",
        "print(set_types )"
      ],
      "metadata": {
        "colab": {
          "base_uri": "https://localhost:8080/"
        },
        "id": "AFh3ep1LDuUH",
        "outputId": "db185412-96d6-4fa2-f412-bc7490b6ced9"
      },
      "execution_count": null,
      "outputs": [
        {
          "output_type": "stream",
          "name": "stdout",
          "text": [
            "{1, 50, 3, 55, 44}\n",
            "{32.3, False, 3, 'col'}\n"
          ]
        }
      ]
    },
    {
      "cell_type": "code",
      "source": [
        "set_from_string = set(\"hello\")  # De esta manera convierte los caracteres de un string en elementos de un conjunto sin duplicados y los guarda en una variable de conjunto\n",
        "print(set_from_string)"
      ],
      "metadata": {
        "colab": {
          "base_uri": "https://localhost:8080/"
        },
        "id": "fIXGnK5WEOlO",
        "outputId": "f8b7aea7-520d-472c-d994-ccb25841acad"
      },
      "execution_count": null,
      "outputs": [
        {
          "output_type": "stream",
          "name": "stdout",
          "text": [
            "{'h', 'e', 'l', 'o'}\n"
          ]
        }
      ]
    },
    {
      "cell_type": "code",
      "source": [
        "set_from_tuples = set((\"abc\", \"def\", \"abc\", \"as\"))  # De esta manera convierte los definidos de tuplas en elementos de conjuntos\n",
        "print(set_from_tuples)\n",
        "print(type(set_from_tuples))"
      ],
      "metadata": {
        "colab": {
          "base_uri": "https://localhost:8080/"
        },
        "id": "IsFSEj0gE0wP",
        "outputId": "2a8e8465-6e36-4170-e4ec-e30bcf4cb552"
      },
      "execution_count": null,
      "outputs": [
        {
          "output_type": "stream",
          "name": "stdout",
          "text": [
            "{'def', 'abc', 'as'}\n",
            "<class 'set'>\n"
          ]
        }
      ]
    },
    {
      "cell_type": "code",
      "source": [
        "numbers = [1, 2, 3, 5, 5, 6, 7] # Lista de numeros\n",
        "print(numbers)\n",
        "print(type(numbers))\n",
        "\n",
        "set_numbers = set(numbers) # Convierte lista de numeros en conjunto, por tanto se eliminan los elementos duplicados\n",
        "print(set_numbers)\n",
        "print(type(set_numbers))\n",
        "\n",
        "unique_numbers = list(set_numbers) # Convierte el tipo de dato de conjunto a lista y se guardan los elementos en la lista\n",
        "print(unique_numbers)\n",
        "print(type(unique_numbers))\n",
        "\n"
      ],
      "metadata": {
        "colab": {
          "base_uri": "https://localhost:8080/"
        },
        "id": "CBURom44FWWZ",
        "outputId": "034074c2-0a3d-4775-e306-2b4a78883d85"
      },
      "execution_count": null,
      "outputs": [
        {
          "output_type": "stream",
          "name": "stdout",
          "text": [
            "[1, 2, 3, 5, 5, 6, 7]\n",
            "<class 'list'>\n",
            "{1, 2, 3, 5, 6, 7}\n",
            "<class 'set'>\n",
            "[1, 2, 3, 5, 6, 7]\n",
            "<class 'list'>\n"
          ]
        }
      ]
    },
    {
      "cell_type": "code",
      "source": [],
      "metadata": {
        "id": "meG575AHHYhl"
      },
      "execution_count": null,
      "outputs": []
    },
    {
      "cell_type": "markdown",
      "source": [
        "#Modificando conjuntos"
      ],
      "metadata": {
        "id": "Xuto8ebQIRpM"
      }
    },
    {
      "cell_type": "code",
      "source": [
        "set_countries = {\"col\", \"mex\", \"bol\", \"col\"}  # Si hay elementos duplicados, se eliminan por defecto\n",
        "size = len (set_countries)  # Guarda el numero de elementos del conjunto\n",
        "\n",
        "print(size) # Imprimir el numero de elementos del conjunto\n",
        "\n",
        "print(\"col\" in set_countries) # Confirma si el elemento se encuentra dentro del conjunto\n",
        "print(\"per\" in set_countries)\n",
        "\n",
        "# Adicionar elementos al conjunto - add\n",
        "\n",
        "set_countries.add(\"per\")\n",
        "\n",
        "print(\"col\" in set_countries) # Confirma si el elemento se encuentra dentro del conjunto\n",
        "print(\"per\" in set_countries)\n",
        "\n",
        "print(set_countries)\n",
        "\n",
        "# Actualzar elementos - update\n",
        "\n",
        "set_countries.update({\"arg\", \"ecu\", \"per\"}) # se pueden agregar varios elementos con un formato similar al usado con los diccionarios. No duplica elementos\n",
        "print(set_countries)\n",
        "\n",
        "# Eliminar elementos - remove\n",
        "set_countries.remove(\"col\")\n",
        "print(set_countries)\n",
        "\n",
        "# set_countries.remove(\"ar\") # Cuando no se encuentran los elementos dentro del conjunto, python arroja un error informando que no se encuentra dicho elemento\n",
        "set_countries.discard(\"ar\") # Cuando no se encuentran los elementos dentro del conjunto no arroja error usando este metodo\n",
        "\n",
        "# Limpiar el conjunto - clear\n",
        "set_countries.clear()\n",
        "size = len (set_countries)  # Guarda el numero de elementos del conjunto\n",
        "print(size) # Imprimir el numero de elementos del conjunto\n",
        "print(set_countries)\n"
      ],
      "metadata": {
        "id": "WarP8H37IpZr",
        "colab": {
          "base_uri": "https://localhost:8080/"
        },
        "outputId": "42a7eda4-4373-4b5a-faec-64750bdaeea6"
      },
      "execution_count": null,
      "outputs": [
        {
          "output_type": "stream",
          "name": "stdout",
          "text": [
            "3\n",
            "True\n",
            "False\n",
            "True\n",
            "True\n",
            "{'per', 'mex', 'col', 'bol'}\n",
            "{'mex', 'bol', 'arg', 'ecu', 'col', 'per'}\n",
            "{'mex', 'bol', 'arg', 'ecu', 'per'}\n",
            "0\n",
            "set()\n"
          ]
        }
      ]
    },
    {
      "cell_type": "markdown",
      "source": [
        "#Operaciones con conjuntos"
      ],
      "metadata": {
        "id": "k3eUAuZfMSEU"
      }
    },
    {
      "cell_type": "code",
      "source": [
        "set_a = {\"col\", \"mex\", \"bol\"}\n",
        "set_b = {\"per\", \"bol\"}"
      ],
      "metadata": {
        "id": "1ppuIshLJuLi"
      },
      "execution_count": null,
      "outputs": []
    },
    {
      "cell_type": "code",
      "source": [
        "# Unión\n",
        "set_c = set_a.union(set_b) # Unión usando método \"union\"\n",
        "print(set_c)\n",
        "\n",
        "print(set_a | set_b) # Unión usando operador"
      ],
      "metadata": {
        "colab": {
          "base_uri": "https://localhost:8080/"
        },
        "id": "4DVNp0X-MgNv",
        "outputId": "25f6f1dc-daea-4687-b788-56d0b0d9a357"
      },
      "execution_count": null,
      "outputs": [
        {
          "output_type": "stream",
          "name": "stdout",
          "text": [
            "{'per', 'mex', 'bol', 'col'}\n",
            "{'per', 'mex', 'bol', 'col'}\n"
          ]
        }
      ]
    },
    {
      "cell_type": "code",
      "source": [
        "# Intersección\n",
        "set_d = set_a.intersection(set_b) # Intersección usando método \"intersection\"\n",
        "print(set_d)\n",
        "\n",
        "print(set_a & set_b) # Intersección usando operador"
      ],
      "metadata": {
        "colab": {
          "base_uri": "https://localhost:8080/"
        },
        "id": "o6d5SUzxM1ms",
        "outputId": "a8c06a70-f015-4a39-b4ae-df93a845c55a"
      },
      "execution_count": null,
      "outputs": [
        {
          "output_type": "stream",
          "name": "stdout",
          "text": [
            "{'bol'}\n",
            "{'bol'}\n"
          ]
        }
      ]
    },
    {
      "cell_type": "code",
      "source": [
        "#Diferencia\n",
        "set_e = set_a.difference(set_b) # Diferencia usando método \"difference\"\n",
        "print(set_e)\n",
        "\n",
        "print(set_a - set_b) # Diferencia usando operador"
      ],
      "metadata": {
        "colab": {
          "base_uri": "https://localhost:8080/"
        },
        "id": "g43IQuQxOsX7",
        "outputId": "532956fd-5a56-40c2-cf4c-93556407d160"
      },
      "execution_count": null,
      "outputs": [
        {
          "output_type": "stream",
          "name": "stdout",
          "text": [
            "{'col', 'mex'}\n",
            "{'col', 'mex'}\n"
          ]
        }
      ]
    },
    {
      "cell_type": "code",
      "source": [
        "#Diferencia simétrica\n",
        "set_f = set_a.symmetric_difference(set_b) # Diferencia simétrica usando método \"symmetric_difference\"\n",
        "print(set_f)\n",
        "\n",
        "print(set_a ^ set_b) # Diferencia simétrica con operador\n"
      ],
      "metadata": {
        "colab": {
          "base_uri": "https://localhost:8080/"
        },
        "id": "W_0yrWPKPD2L",
        "outputId": "f736e76f-dde4-411f-9446-e5c2abad6f4c"
      },
      "execution_count": null,
      "outputs": [
        {
          "output_type": "stream",
          "name": "stdout",
          "text": [
            "{'col', 'mex', 'per'}\n",
            "{'col', 'mex', 'per'}\n"
          ]
        }
      ]
    },
    {
      "cell_type": "markdown",
      "source": [
        "#List Comprehension"
      ],
      "metadata": {
        "id": "XpWeMx9TS82Q"
      }
    },
    {
      "cell_type": "code",
      "source": [
        "#Generar lista de números con ciclo for\n",
        "numbers =[]\n",
        "\n",
        "for element in range(1, 11):\n",
        "  numbers.append(element * 2)\n",
        "\n",
        "print(numbers)"
      ],
      "metadata": {
        "colab": {
          "base_uri": "https://localhost:8080/"
        },
        "id": "51HS4hcSP-7P",
        "outputId": "e9c88093-7a37-4187-a69c-a7af03a18f68"
      },
      "execution_count": null,
      "outputs": [
        {
          "output_type": "stream",
          "name": "stdout",
          "text": [
            "[2, 4, 6, 8, 10, 12, 14, 16, 18, 20]\n"
          ]
        }
      ]
    },
    {
      "cell_type": "code",
      "source": [
        "#Generar lista de números con list #Generar lista de números con dictionary comprehension\n",
        "\n",
        "numbers_2 =[element * 2 for element in range(1,11)]\n",
        "\n",
        "print(numbers_2)"
      ],
      "metadata": {
        "colab": {
          "base_uri": "https://localhost:8080/"
        },
        "id": "ST0n142UTYJ8",
        "outputId": "517e53cb-7dce-41a2-d500-303478709b07"
      },
      "execution_count": null,
      "outputs": [
        {
          "output_type": "stream",
          "name": "stdout",
          "text": [
            "[2, 4, 6, 8, 10, 12, 14, 16, 18, 20]\n"
          ]
        }
      ]
    },
    {
      "cell_type": "code",
      "source": [
        "num_3 = [i * 2 for i in range(1,101) if i % 2 == 0] # Solo multiplica por los los numeros de 1 a 100 si los numeros a multiplicar con pares\n",
        "print(num_3)"
      ],
      "metadata": {
        "colab": {
          "base_uri": "https://localhost:8080/"
        },
        "id": "Y_CJcimxVIzV",
        "outputId": "1253d675-27e9-4a3a-c609-f774bdd337a2"
      },
      "execution_count": null,
      "outputs": [
        {
          "output_type": "stream",
          "name": "stdout",
          "text": [
            "[2, 4, 6, 8, 10, 12, 14, 16, 18, 20, 22, 24, 26, 28, 30, 32, 34, 36, 38, 40, 42, 44, 46, 48, 50, 52, 54, 56, 58, 60, 62, 64, 66, 68, 70, 72, 74, 76, 78, 80, 82, 84, 86, 88, 90, 92, 94, 96, 98, 100, 102, 104, 106, 108, 110, 112, 114, 116, 118, 120, 122, 124, 126, 128, 130, 132, 134, 136, 138, 140, 142, 144, 146, 148, 150, 152, 154, 156, 158, 160, 162, 164, 166, 168, 170, 172, 174, 176, 178, 180, 182, 184, 186, 188, 190, 192, 194, 196, 198, 200]\n"
          ]
        }
      ]
    },
    {
      "cell_type": "markdown",
      "source": [
        "#Dictionary Comprehension"
      ],
      "metadata": {
        "id": "v5WVnTYyXzQ9"
      }
    },
    {
      "cell_type": "code",
      "source": [
        "#Generar diccionario con ciclo for\n",
        "\n",
        "dict = {}\n",
        "for i in range(1,5):\n",
        "  dict[i] = i*2\n",
        "\n",
        "print(dict)"
      ],
      "metadata": {
        "colab": {
          "base_uri": "https://localhost:8080/"
        },
        "id": "Z24O7Ce-XzB4",
        "outputId": "cc84a5ea-157a-4d04-d4be-3e41c455ede8"
      },
      "execution_count": null,
      "outputs": [
        {
          "output_type": "stream",
          "name": "stdout",
          "text": [
            "{1: 2, 2: 4, 3: 6, 4: 8}\n"
          ]
        }
      ]
    },
    {
      "cell_type": "code",
      "source": [
        "#Generar lista de números con dictionary comprehension\n",
        "dict_2 = {i : i * 2 for i in range(1,5)}\n",
        "print(dict_2)"
      ],
      "metadata": {
        "colab": {
          "base_uri": "https://localhost:8080/"
        },
        "id": "Ny_IFxQNXAPg",
        "outputId": "570ae2c2-1c1b-4738-f5fa-7f248a0ec06e"
      },
      "execution_count": null,
      "outputs": [
        {
          "output_type": "stream",
          "name": "stdout",
          "text": [
            "{1: 2, 2: 4, 3: 6, 4: 8}\n"
          ]
        }
      ]
    },
    {
      "cell_type": "code",
      "source": [
        "#Generar diccionario para paises y poblacion usando ciclo for\n",
        "\n",
        "import random\n",
        "\n",
        "countries = [\"col\", \"mex\", \"per\", \"bol\"]\n",
        "population = {}\n",
        "\n",
        "for country in countries:\n",
        "  population[country] = random.randint(1, 101)\n",
        "\n",
        "print(population)"
      ],
      "metadata": {
        "colab": {
          "base_uri": "https://localhost:8080/"
        },
        "id": "e1tSRTYDY54-",
        "outputId": "5ded2a37-c95f-43f0-9fa7-218565de981e"
      },
      "execution_count": null,
      "outputs": [
        {
          "output_type": "stream",
          "name": "stdout",
          "text": [
            "{'col': 26, 'mex': 86, 'per': 5, 'bol': 89}\n"
          ]
        }
      ]
    },
    {
      "cell_type": "code",
      "source": [
        "#Generar diccionario para paises con dictionary comprehension\n",
        "\n",
        "population_2 = { country :  random.randint(1, 101) for country in countries}\n",
        "\n",
        "print(population_2)"
      ],
      "metadata": {
        "colab": {
          "base_uri": "https://localhost:8080/"
        },
        "id": "rk5XZj-BaNMG",
        "outputId": "8dd237d2-75d7-440d-fa72-dfcaf49e591c"
      },
      "execution_count": null,
      "outputs": [
        {
          "output_type": "stream",
          "name": "stdout",
          "text": [
            "{'col': 15, 'mex': 53, 'per': 77, 'bol': 69}\n"
          ]
        }
      ]
    },
    {
      "cell_type": "code",
      "source": [
        "names = [\"Fernando\", \"Sandra\", \"Santiago\"]\n",
        "ages = [18, 50, 10]\n",
        "\n",
        "print(list(zip(names, ages))) # La funcion zip hace unión entre listas\n",
        "\n",
        "new_dict = {name:age for (name, age) in zip(names, ages)}\n",
        "print(new_dict)"
      ],
      "metadata": {
        "colab": {
          "base_uri": "https://localhost:8080/"
        },
        "id": "5RZHv5EQbAC5",
        "outputId": "351f0c5f-fd3f-4d96-a865-d0fd26333ca6"
      },
      "execution_count": null,
      "outputs": [
        {
          "output_type": "stream",
          "name": "stdout",
          "text": [
            "[('Fernando', 18), ('Sandra', 50), ('Santiago', 10)]\n",
            "{'Fernando': 18, 'Sandra': 50, 'Santiago': 10}\n"
          ]
        }
      ]
    },
    {
      "cell_type": "markdown",
      "source": [
        "#Funciones"
      ],
      "metadata": {
        "id": "EDGJaqjMZ0iY"
      }
    },
    {
      "cell_type": "code",
      "source": [
        "print('Hola') # Esta es una función que imprime el argumento\n",
        "\n",
        "def my_print():   # Código para imprimir usando una función\n",
        "  print('This is my print')\n",
        "\n",
        "my_print()  # La función se llama por el nombre de la misma\n",
        "\n",
        "def my_print_2(text):   # Código para imprimir usando una función ingresando un parámetro\n",
        "  print(text * 2)\n",
        "\n",
        "my_print_2('Este es mi texto ')  # La función se llama por el nombre de la misma"
      ],
      "metadata": {
        "id": "BeX9H20fb4pD",
        "colab": {
          "base_uri": "https://localhost:8080/"
        },
        "outputId": "a5c28801-d2b2-4520-810a-6672688c1510"
      },
      "execution_count": null,
      "outputs": [
        {
          "output_type": "stream",
          "name": "stdout",
          "text": [
            "Hola\n",
            "This is my print\n",
            "Este es mi texto Este es mi texto \n"
          ]
        }
      ]
    },
    {
      "cell_type": "code",
      "source": [
        "a = 10\n",
        "b = 90\n",
        "c = a + b\n",
        "print(c)\n",
        "\n",
        "def suma(a, b): # se definen los parametros para ingresar dentro de la función\n",
        "  print(a + b)\n",
        "suma(10,20) # Se hace llamado de la función ingresando los valores que se van a operar\n",
        "suma(15,26)\n",
        "\n",
        "def suma(a, b): # Esta función hace uso de una función dentro de otra función\n",
        "  my_print_2(a + b)\n",
        "suma(10,20)\n",
        "suma(15,26)"
      ],
      "metadata": {
        "id": "A3rwH5udaHJM",
        "outputId": "65354b94-c796-47fc-a56a-9666e1a0d465",
        "colab": {
          "base_uri": "https://localhost:8080/"
        }
      },
      "execution_count": null,
      "outputs": [
        {
          "output_type": "stream",
          "name": "stdout",
          "text": [
            "100\n",
            "30\n",
            "41\n",
            "60\n",
            "82\n"
          ]
        }
      ]
    },
    {
      "cell_type": "markdown",
      "source": [
        "#Funciones: return"
      ],
      "metadata": {
        "id": "MNvk7UeaXW-h"
      }
    },
    {
      "cell_type": "code",
      "source": [
        "sum = 0\n",
        "for x in range(1,10): # Esta operación realiza una suma en un rango definido\n",
        "  sum += x\n",
        "print(sum)"
      ],
      "metadata": {
        "colab": {
          "base_uri": "https://localhost:8080/"
        },
        "id": "-TG5EMGCXWbT",
        "outputId": "3cf11dc2-b61d-4303-ad99-1a7277d3393c"
      },
      "execution_count": 3,
      "outputs": [
        {
          "output_type": "stream",
          "name": "stdout",
          "text": [
            "45\n"
          ]
        }
      ]
    },
    {
      "cell_type": "code",
      "source": [
        "# Es posible realizar la operación de tal manera que los valores puedan ser variables\n",
        "\n",
        "def sum_range(a, b): #a parámetro mínimo, b parámetro máximo\n",
        "  print(a, b)\n",
        "  sum = 0\n",
        "  for x in range(a, b): # El rango ahora puede ser ajustado de forma dinámica\n",
        "    sum += x\n",
        "  return sum # Termina la operación regresando el valor que hay en sum\n",
        "\n",
        "result = sum_range(1, 10) # Los valores pueden ser ajustados al momento de llamar la función y guardados en una variable\n",
        "print(result)"
      ],
      "metadata": {
        "id": "WjqkiI_jbTMM",
        "colab": {
          "base_uri": "https://localhost:8080/"
        },
        "outputId": "25b44acd-75ca-4817-9a26-f564f051ab3f"
      },
      "execution_count": 18,
      "outputs": [
        {
          "output_type": "stream",
          "name": "stdout",
          "text": [
            "1 10\n",
            "45\n"
          ]
        }
      ]
    },
    {
      "cell_type": "markdown",
      "source": [
        "#return & args"
      ],
      "metadata": {
        "id": "3piEZ0IGb4y0"
      }
    },
    {
      "cell_type": "code",
      "source": [
        "def find_vol(a = 1, b = 1, c = 1): # Se pueden asignar valores por defecto\n",
        "  return a * b * c\n",
        "\n",
        "result = find_vol(2, 3, 4)\n",
        "\n",
        "print(result)"
      ],
      "metadata": {
        "colab": {
          "base_uri": "https://localhost:8080/"
        },
        "id": "SFwQqXdEYpiF",
        "outputId": "cdb3a7df-bef1-43e9-8c8f-38d909ae514b"
      },
      "execution_count": 25,
      "outputs": [
        {
          "output_type": "stream",
          "name": "stdout",
          "text": [
            "24\n"
          ]
        }
      ]
    },
    {
      "cell_type": "code",
      "source": [
        "def find_vol(length = 1, width = 1, deepth = 1): # Se pueden asignar valores por defecto\n",
        "  return length * width * deepth\n",
        "\n",
        "result = find_vol(width = 2) # Se puede enviar un solo parámetro al especificar cuál es\n",
        "\n",
        "print(result)"
      ],
      "metadata": {
        "colab": {
          "base_uri": "https://localhost:8080/"
        },
        "id": "VRspbvkecd-Y",
        "outputId": "6bf74405-c24b-4e06-fb99-aaa9c7391eec"
      },
      "execution_count": 24,
      "outputs": [
        {
          "output_type": "stream",
          "name": "stdout",
          "text": [
            "2\n"
          ]
        }
      ]
    },
    {
      "cell_type": "code",
      "source": [
        "def find_vol(length = 1, width = 1, deepth = 1): # Se pueden asignar valores por defecto\n",
        "  return length * width * deepth, width, 'Hola' # Para retornar mas de un valor con la función, se debe separa con comas lo que se desea obtener\n",
        "\n",
        "result = find_vol(width = 2) # Se puede enviar un solo parámetro al especificar cuál es\n",
        "\n",
        "print(result) # Al ser ejecutado se genera una tupla con varios valores o se puede especificar que posición de la tupla se desa obtener\n",
        "print(result[2])\n",
        "print(result[1])"
      ],
      "metadata": {
        "colab": {
          "base_uri": "https://localhost:8080/"
        },
        "id": "N1qHdBHhdIIQ",
        "outputId": "ea5c40fb-6826-4379-9bfe-b5ec142b8b64"
      },
      "execution_count": 27,
      "outputs": [
        {
          "output_type": "stream",
          "name": "stdout",
          "text": [
            "(2, 2, 'Hola')\n",
            "Hola\n",
            "2\n"
          ]
        }
      ]
    },
    {
      "cell_type": "markdown",
      "source": [
        "#Scope"
      ],
      "metadata": {
        "id": "LLLmYXkLeZnX"
      }
    },
    {
      "cell_type": "code",
      "source": [],
      "metadata": {
        "id": "6fSdfcc4d9GC"
      },
      "execution_count": null,
      "outputs": []
    }
  ]
}