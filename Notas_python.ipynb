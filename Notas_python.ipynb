{
  "nbformat": 4,
  "nbformat_minor": 0,
  "metadata": {
    "colab": {
      "provenance": [],
      "authorship_tag": "ABX9TyPiCYA0sQxJtqx4hJCofBy8",
      "include_colab_link": true
    },
    "kernelspec": {
      "name": "python3",
      "display_name": "Python 3"
    },
    "language_info": {
      "name": "python"
    }
  },
  "cells": [
    {
      "cell_type": "markdown",
      "metadata": {
        "id": "view-in-github",
        "colab_type": "text"
      },
      "source": [
        "<a href=\"https://colab.research.google.com/github/feracor/Python-basics/blob/main/Notas_python.ipynb\" target=\"_parent\"><img src=\"https://colab.research.google.com/assets/colab-badge.svg\" alt=\"Open In Colab\"/></a>"
      ]
    },
    {
      "cell_type": "markdown",
      "source": [
        "#Imprimir"
      ],
      "metadata": {
        "id": "POS-3mvOGZ5F"
      }
    },
    {
      "cell_type": "code",
      "execution_count": null,
      "metadata": {
        "colab": {
          "base_uri": "https://localhost:8080/"
        },
        "id": "yOphWiw_lkbH",
        "outputId": "e9af0b80-2c0a-4027-ed84-96d31dc0cffa"
      },
      "outputs": [
        {
          "output_type": "stream",
          "name": "stdout",
          "text": [
            "Hola Fernando\n"
          ]
        }
      ],
      "source": [
        "print('Hola Fernando')"
      ]
    },
    {
      "cell_type": "markdown",
      "source": [
        "#Variables"
      ],
      "metadata": {
        "id": "pBS5aV4obuY5"
      }
    },
    {
      "cell_type": "code",
      "source": [
        "#Variables\n",
        "\n",
        "my_name='Fernando'\n",
        "print(my_name)\n",
        "\n",
        "my_age=32\n",
        "print(my_age)\n",
        "\n",
        "my_name=\"Acevedo\"\n",
        "print(\"Acá cambia el contenido de la variable y, ahora es:\",my_name)\n",
        "\n",
        "#input: Pemite al usuario ingresar los valores que se van a guardar en la variable\n",
        "my_name=input(\"¿Cuál es tu nombre?: \")\n",
        "print(\"Gusto en conocerte,\",my_name)"
      ],
      "metadata": {
        "id": "ACoZMjFxl5hI",
        "colab": {
          "base_uri": "https://localhost:8080/"
        },
        "outputId": "fa106737-a249-4864-fd03-95315c209943"
      },
      "execution_count": null,
      "outputs": [
        {
          "output_type": "stream",
          "name": "stdout",
          "text": [
            "Fernando\n",
            "32\n",
            "Acá cambia el contenido de la variable y, ahora es: Acevedo\n"
          ]
        }
      ]
    },
    {
      "cell_type": "code",
      "source": [
        "text = 2\n",
        "print(text)"
      ],
      "metadata": {
        "colab": {
          "base_uri": "https://localhost:8080/"
        },
        "id": "VNAqVB3ealQu",
        "outputId": "c111df7f-3561-456d-b4f7-dcbd49b25f8b"
      },
      "execution_count": null,
      "outputs": [
        {
          "output_type": "stream",
          "name": "stdout",
          "text": [
            "2\n"
          ]
        }
      ]
    },
    {
      "cell_type": "markdown",
      "source": [
        "#Tipos de datos"
      ],
      "metadata": {
        "id": "8P101o0YCW6B"
      }
    },
    {
      "cell_type": "code",
      "source": [
        "#String - Cadena de texto\n",
        "\n",
        "my_name1=\"Fernando1\"\n",
        "my_name2='Fernando2'\n",
        "\n",
        "print(my_name1, my_name2)\n",
        "print(type(my_name1))"
      ],
      "metadata": {
        "colab": {
          "base_uri": "https://localhost:8080/"
        },
        "id": "qMLiRSczCapz",
        "outputId": "31308f4d-de2a-4281-fdd8-cd515b37f98b"
      },
      "execution_count": null,
      "outputs": [
        {
          "output_type": "stream",
          "name": "stdout",
          "text": [
            "Fernando1 Fernando2\n",
            "<class 'str'>\n"
          ]
        }
      ]
    },
    {
      "cell_type": "code",
      "source": [
        "#int - Número entero\n",
        "my_age=32\n",
        "\n",
        "print(my_age)\n",
        "print(type(my_age))"
      ],
      "metadata": {
        "colab": {
          "base_uri": "https://localhost:8080/"
        },
        "id": "VEIlaYxuDApU",
        "outputId": "c5e5068a-6613-44e8-87b4-893e861c5adb"
      },
      "execution_count": null,
      "outputs": [
        {
          "output_type": "stream",
          "name": "stdout",
          "text": [
            "32\n",
            "<class 'int'>\n"
          ]
        }
      ]
    },
    {
      "cell_type": "code",
      "source": [
        "#boolean - Valores boleanos, corresponden a 1 ó 0, verdadero ó falso\n",
        "\n",
        "is_single = True # El valor booleano debe iniciar con mayúscula\n",
        "is_not_single = False\n",
        "\n",
        "print(\"El valor single es:\", is_single, \"y el valor not single is:\", is_not_single )\n",
        "\n",
        "print(type(is_single))\n",
        "print(type(is_not_single))\n"
      ],
      "metadata": {
        "colab": {
          "base_uri": "https://localhost:8080/"
        },
        "id": "Dux_V8TaDo_c",
        "outputId": "febc353f-71f0-4f85-ca25-846e0d1de9dd"
      },
      "execution_count": null,
      "outputs": [
        {
          "output_type": "stream",
          "name": "stdout",
          "text": [
            "El valor single es: True y el valor not single is: False\n",
            "<class 'bool'>\n",
            "<class 'bool'>\n"
          ]
        }
      ]
    },
    {
      "cell_type": "code",
      "source": [
        "#inputs - Permiten capturar valores del usuario y guardarlos en las variables.\n",
        "# El tipo de valor guardado siempre va a ser de tipo string, no importa si se ingresan números o valores booleanos.\n",
        "\n",
        "my_age = input(\"¿Cúal es tu edad? \")\n",
        "print(\"Tu edad es: \", my_age)\n",
        "print(type(my_age))\n"
      ],
      "metadata": {
        "colab": {
          "base_uri": "https://localhost:8080/"
        },
        "id": "E73ZdsadEt9-",
        "outputId": "e2b993ea-4d1f-46ff-d5aa-6d12b2d05a86"
      },
      "execution_count": null,
      "outputs": [
        {
          "output_type": "stream",
          "name": "stdout",
          "text": [
            "¿Cúal es tu edad? 4\n",
            "Tu edad es:  4\n",
            "<class 'str'>\n"
          ]
        }
      ]
    },
    {
      "cell_type": "markdown",
      "source": [
        "#Strings"
      ],
      "metadata": {
        "id": "19iF23JbGP_b"
      }
    },
    {
      "cell_type": "code",
      "source": [
        "name=\"Fernando\"\n",
        "last_name=\"Acevedo\"\n",
        "\n",
        "print(name, last_name) # Imprime una frase con concatenacion que deja un espacio entre las variables"
      ],
      "metadata": {
        "id": "7ti2tVtTFciM",
        "colab": {
          "base_uri": "https://localhost:8080/"
        },
        "outputId": "06277403-e320-4add-8761-c8e5475a064f"
      },
      "execution_count": null,
      "outputs": [
        {
          "output_type": "stream",
          "name": "stdout",
          "text": [
            "Fernando Acevedo\n"
          ]
        }
      ]
    },
    {
      "cell_type": "code",
      "source": [
        "full_name=name + \" \" + last_name # Concatenación para que pueda queda con un espacio entre las variable concatenadas\n",
        "\n",
        "print(full_name)"
      ],
      "metadata": {
        "colab": {
          "base_uri": "https://localhost:8080/"
        },
        "id": "vUZaKX7mnIZw",
        "outputId": "1d8bf96e-4226-4ad8-c054-f3d2c325c6ec"
      },
      "execution_count": null,
      "outputs": [
        {
          "output_type": "stream",
          "name": "stdout",
          "text": [
            "Fernando Acevedo\n"
          ]
        }
      ]
    },
    {
      "cell_type": "code",
      "source": [
        "quote1 = \"I'm Fernando\" # Se alternan las comillas simple con dobles para que no haya interferencia con la sintaxis de Python\n",
        "quote2 = 'She said \"Hello\"' # Se alternan las comillas simple con dobles para que no haya interferencia con la sintaxis de Python\n",
        "\n",
        "print(quote1)\n",
        "print(quote2)"
      ],
      "metadata": {
        "colab": {
          "base_uri": "https://localhost:8080/"
        },
        "id": "pw0EtlSNn08T",
        "outputId": "2a3fd758-c472-4f3a-f4f3-e5161e98fc11"
      },
      "execution_count": null,
      "outputs": [
        {
          "output_type": "stream",
          "name": "stdout",
          "text": [
            "I'm Fernando\n",
            "She said \"Hello\"\n"
          ]
        }
      ]
    },
    {
      "cell_type": "code",
      "source": [
        "#format\n",
        "\n",
        "age = \"32\"\n",
        "\n",
        "template1 = \"Hola, mi nombre es \" + name + \", mi apellido es \" + last_name + \" y mi edad es \" + age # Se pueden guardar variables dentro de una variable y con texto nuevo. Tener en cuenta poner espacios.\n",
        "\n",
        "print(template1)\n",
        "\n",
        "template2 = \"Hola, mi nombre es {}, mi apellido es {} y mi edad es {}.\".format(name, last_name, age) # Con la funcion format se puede reemplazar el contenido de las llaves {} con las variables llamadas en la función.\n",
        "\n",
        "print(template2)\n",
        "\n",
        "template3 = f\"Hola, mi nombre es {name}, mi apellido es {last_name} y mi edad es {age}.\" # Se usa la letra f al comienzo y dentro de las llaves se ingresa la variable. Este es un formato mas común en Python.\n",
        "\n",
        "print(template3)"
      ],
      "metadata": {
        "colab": {
          "base_uri": "https://localhost:8080/"
        },
        "id": "NnRAilropJCT",
        "outputId": "e1886aac-1c5e-49ba-bf16-b5e27bf41dab"
      },
      "execution_count": null,
      "outputs": [
        {
          "output_type": "stream",
          "name": "stdout",
          "text": [
            "Hola, mi nombre es Fernando, mi apellido es Acevedo y mi edad es 32\n",
            "Hola, mi nombre es Fernando, mi apellido es Acevedo y mi edad es 32.\n",
            "Hola, mi nombre es Fernando, mi apellido es Acevedo y mi edad es 32.\n"
          ]
        }
      ]
    },
    {
      "cell_type": "markdown",
      "source": [
        "#Numbers"
      ],
      "metadata": {
        "id": "fzHbdtJdAP30"
      }
    },
    {
      "cell_type": "code",
      "source": [
        "lives = 3 #Los valores enteros no usan comillas\n",
        "print(type(lives))#Imprimir el tipo de dato\n",
        "age = 32\n",
        "budget = 100"
      ],
      "metadata": {
        "id": "ei0KG856ARrb",
        "outputId": "f0a35a25-a40b-4b0c-c0da-de5be034db44",
        "colab": {
          "base_uri": "https://localhost:8080/"
        }
      },
      "execution_count": 3,
      "outputs": [
        {
          "output_type": "stream",
          "name": "stdout",
          "text": [
            "<class 'int'>\n"
          ]
        }
      ]
    },
    {
      "cell_type": "code",
      "source": [
        "temperature = 16.23 #Se pueden almacenar números con decimales, se guardan como tipo flotante\n",
        "print(type(temperature))"
      ],
      "metadata": {
        "id": "2mRQG7hzAd8a",
        "outputId": "b746fed1-cf96-48a5-af40-98ccb6bef7fd",
        "colab": {
          "base_uri": "https://localhost:8080/"
        }
      },
      "execution_count": 5,
      "outputs": [
        {
          "output_type": "stream",
          "name": "stdout",
          "text": [
            "<class 'float'>\n"
          ]
        }
      ]
    },
    {
      "cell_type": "code",
      "source": [
        "lives = 2 #Primera asignación de valores en la variable \"lives\"\n",
        "\n",
        "print(lives)\n",
        "\n",
        "lives = 1#Segunda asignación de valores en la variable \"lives\"\n",
        "\n",
        "print(lives)"
      ],
      "metadata": {
        "id": "sAVj7K2VBHce",
        "outputId": "b9114888-2d4c-4191-be64-0faf5652422e",
        "colab": {
          "base_uri": "https://localhost:8080/"
        }
      },
      "execution_count": 6,
      "outputs": [
        {
          "output_type": "stream",
          "name": "stdout",
          "text": [
            "2\n",
            "1\n"
          ]
        }
      ]
    },
    {
      "cell_type": "code",
      "source": [
        "lives = 2+1 #se pueden hacer operaciones y guardar el resultado en la varaible\n",
        "print(lives)"
      ],
      "metadata": {
        "id": "wJ3fCnZ1BoDX",
        "outputId": "1518607c-832b-4950-d555-7fbb2ec5a054",
        "colab": {
          "base_uri": "https://localhost:8080/"
        }
      },
      "execution_count": 7,
      "outputs": [
        {
          "output_type": "stream",
          "name": "stdout",
          "text": [
            "3\n"
          ]
        }
      ]
    },
    {
      "cell_type": "code",
      "source": [
        "lives = lives - 1 # Decrementa la cantidad que hay en lives en una unidad y el resuldado lo guarda en lives.\n",
        "print(lives)\n",
        "\n",
        "lives -= 1 #Esta es una forma simplificada para hacer operaciones con una variable y que el resultado se guarde en la misma variable, acá se hace un decremento en una unidad.\n",
        "print(lives)\n",
        "\n",
        "lives += 2 #Esta es una forma simplificada para hacer operaciones con una variable y que el resultado se guarde en la misma variable, acá se hace un incremento en dos unidades.\n",
        "print(lives)"
      ],
      "metadata": {
        "id": "NJLd6UCvB1HC",
        "outputId": "11f4dad9-5bec-4341-e737-a22fe50a5eae",
        "colab": {
          "base_uri": "https://localhost:8080/"
        }
      },
      "execution_count": 11,
      "outputs": [
        {
          "output_type": "stream",
          "name": "stdout",
          "text": [
            "-2\n",
            "-3\n",
            "-1\n"
          ]
        }
      ]
    },
    {
      "cell_type": "code",
      "source": [
        "number = 36500000000000000000000.1 #Este valor puede ser guardado en la variable, y visualizado como notación científica.\n",
        "print(number)\n",
        "\n",
        "number = 0.0000000000000000002 #Este valor puede ser guardado en la variable, y visualizado como notación científica.\n",
        "print(number)"
      ],
      "metadata": {
        "id": "KHVqhGtiCXtj",
        "outputId": "abb7f093-e646-43e6-8270-5b1d148fb0c5",
        "colab": {
          "base_uri": "https://localhost:8080/"
        }
      },
      "execution_count": 13,
      "outputs": [
        {
          "output_type": "stream",
          "name": "stdout",
          "text": [
            "3.65e+22\n",
            "2e-19\n"
          ]
        }
      ]
    },
    {
      "cell_type": "code",
      "source": [
        "#Calculo de presupuesto\n",
        "\n",
        "enero = 515000\n",
        "febrero = 485000\n",
        "marzo = 560000\n",
        "\n",
        "presupuesto = (enero + febrero + marzo)/3 #Se promedia el presupuesto de los tres meses.\n",
        "\n",
        "print(presupuesto)\n",
        "print(type(presupuesto))"
      ],
      "metadata": {
        "id": "GFmdvDMSC-8E",
        "outputId": "17fb4b08-6d14-43ad-8de1-85f1e9e5a04c",
        "colab": {
          "base_uri": "https://localhost:8080/"
        }
      },
      "execution_count": 17,
      "outputs": [
        {
          "output_type": "stream",
          "name": "stdout",
          "text": [
            "520000.0\n",
            "<class 'float'>\n"
          ]
        }
      ]
    },
    {
      "cell_type": "code",
      "source": [],
      "metadata": {
        "id": "xxPgaRFRDt7B"
      },
      "execution_count": 15,
      "outputs": []
    }
  ]
}