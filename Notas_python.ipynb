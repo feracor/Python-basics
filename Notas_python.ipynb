{
  "nbformat": 4,
  "nbformat_minor": 0,
  "metadata": {
    "colab": {
      "provenance": [],
      "authorship_tag": "ABX9TyMF4Gb1q8koXk8SWdYy1XXT",
      "include_colab_link": true
    },
    "kernelspec": {
      "name": "python3",
      "display_name": "Python 3"
    },
    "language_info": {
      "name": "python"
    }
  },
  "cells": [
    {
      "cell_type": "markdown",
      "metadata": {
        "id": "view-in-github",
        "colab_type": "text"
      },
      "source": [
        "<a href=\"https://colab.research.google.com/github/feracor/Python-basics/blob/main/Notas_python.ipynb\" target=\"_parent\"><img src=\"https://colab.research.google.com/assets/colab-badge.svg\" alt=\"Open In Colab\"/></a>"
      ]
    },
    {
      "cell_type": "markdown",
      "source": [
        "#Imprimir"
      ],
      "metadata": {
        "id": "POS-3mvOGZ5F"
      }
    },
    {
      "cell_type": "code",
      "execution_count": null,
      "metadata": {
        "colab": {
          "base_uri": "https://localhost:8080/"
        },
        "id": "yOphWiw_lkbH",
        "outputId": "e9af0b80-2c0a-4027-ed84-96d31dc0cffa"
      },
      "outputs": [
        {
          "output_type": "stream",
          "name": "stdout",
          "text": [
            "Hola Fernando\n"
          ]
        }
      ],
      "source": [
        "print('Hola Fernando')"
      ]
    },
    {
      "cell_type": "markdown",
      "source": [
        "#Variables"
      ],
      "metadata": {
        "id": "pBS5aV4obuY5"
      }
    },
    {
      "cell_type": "code",
      "source": [
        "#Variables\n",
        "\n",
        "my_name='Fernando'\n",
        "print(my_name)\n",
        "\n",
        "my_age=32\n",
        "print(my_age)\n",
        "\n",
        "my_name=\"Acevedo\"\n",
        "print(\"Acá cambia el contenido de la variable y, ahora es:\",my_name)\n",
        "\n",
        "#input: Pemite al usuario ingresar los valores que se van a guardar en la variable\n",
        "my_name=input(\"¿Cuál es tu nombre?: \")\n",
        "print(\"Gusto en conocerte,\",my_name)"
      ],
      "metadata": {
        "id": "ACoZMjFxl5hI",
        "colab": {
          "base_uri": "https://localhost:8080/"
        },
        "outputId": "fa106737-a249-4864-fd03-95315c209943"
      },
      "execution_count": null,
      "outputs": [
        {
          "output_type": "stream",
          "name": "stdout",
          "text": [
            "Fernando\n",
            "32\n",
            "Acá cambia el contenido de la variable y, ahora es: Acevedo\n"
          ]
        }
      ]
    },
    {
      "cell_type": "code",
      "source": [
        "text = 2\n",
        "print(text)"
      ],
      "metadata": {
        "colab": {
          "base_uri": "https://localhost:8080/"
        },
        "id": "VNAqVB3ealQu",
        "outputId": "c111df7f-3561-456d-b4f7-dcbd49b25f8b"
      },
      "execution_count": null,
      "outputs": [
        {
          "output_type": "stream",
          "name": "stdout",
          "text": [
            "2\n"
          ]
        }
      ]
    },
    {
      "cell_type": "markdown",
      "source": [
        "#Tipos de datos"
      ],
      "metadata": {
        "id": "8P101o0YCW6B"
      }
    },
    {
      "cell_type": "code",
      "source": [
        "#String - Cadena de texto\n",
        "\n",
        "my_name1=\"Fernando1\"\n",
        "my_name2='Fernando2'\n",
        "\n",
        "print(my_name1, my_name2)\n",
        "print(type(my_name1))"
      ],
      "metadata": {
        "colab": {
          "base_uri": "https://localhost:8080/"
        },
        "id": "qMLiRSczCapz",
        "outputId": "31308f4d-de2a-4281-fdd8-cd515b37f98b"
      },
      "execution_count": 4,
      "outputs": [
        {
          "output_type": "stream",
          "name": "stdout",
          "text": [
            "Fernando1 Fernando2\n",
            "<class 'str'>\n"
          ]
        }
      ]
    },
    {
      "cell_type": "code",
      "source": [
        "#int - Número entero\n",
        "my_age=32\n",
        "\n",
        "print(my_age)\n",
        "print(type(my_age))"
      ],
      "metadata": {
        "colab": {
          "base_uri": "https://localhost:8080/"
        },
        "id": "VEIlaYxuDApU",
        "outputId": "c5e5068a-6613-44e8-87b4-893e861c5adb"
      },
      "execution_count": 8,
      "outputs": [
        {
          "output_type": "stream",
          "name": "stdout",
          "text": [
            "32\n",
            "<class 'int'>\n"
          ]
        }
      ]
    },
    {
      "cell_type": "code",
      "source": [
        "#boolean - Valores boleanos, corresponden a 1 ó 0, verdadero ó falso\n",
        "\n",
        "is_single = True # El valor booleano debe iniciar con mayúscula\n",
        "is_not_single = False\n",
        "\n",
        "print(\"El valor single es:\", is_single, \"y el valor not single is:\", is_not_single )\n",
        "\n",
        "print(type(is_single))\n",
        "print(type(is_not_single))\n"
      ],
      "metadata": {
        "colab": {
          "base_uri": "https://localhost:8080/"
        },
        "id": "Dux_V8TaDo_c",
        "outputId": "febc353f-71f0-4f85-ca25-846e0d1de9dd"
      },
      "execution_count": 13,
      "outputs": [
        {
          "output_type": "stream",
          "name": "stdout",
          "text": [
            "El valor single es: True y el valor not single is: False\n",
            "<class 'bool'>\n",
            "<class 'bool'>\n"
          ]
        }
      ]
    },
    {
      "cell_type": "code",
      "source": [
        "#inputs - Permiten capturar valores del usuario y guardarlos en las variables.\n",
        "# El tipo de valor guardado siempre va a ser de tipo string, no importa si se ingresan números o valores booleanos.\n",
        "\n",
        "my_age = input(\"¿Cúal es tu edad? \")\n",
        "print(\"Tu edad es: \", my_age)\n",
        "print(type(my_age))\n"
      ],
      "metadata": {
        "colab": {
          "base_uri": "https://localhost:8080/"
        },
        "id": "E73ZdsadEt9-",
        "outputId": "e2b993ea-4d1f-46ff-d5aa-6d12b2d05a86"
      },
      "execution_count": 18,
      "outputs": [
        {
          "output_type": "stream",
          "name": "stdout",
          "text": [
            "¿Cúal es tu edad? 4\n",
            "Tu edad es:  4\n",
            "<class 'str'>\n"
          ]
        }
      ]
    },
    {
      "cell_type": "markdown",
      "source": [
        "#Strings"
      ],
      "metadata": {
        "id": "19iF23JbGP_b"
      }
    },
    {
      "cell_type": "code",
      "source": [],
      "metadata": {
        "id": "7ti2tVtTFciM"
      },
      "execution_count": null,
      "outputs": []
    }
  ]
}