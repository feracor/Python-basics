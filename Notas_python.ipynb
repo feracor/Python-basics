{
  "nbformat": 4,
  "nbformat_minor": 0,
  "metadata": {
    "colab": {
      "provenance": [],
      "authorship_tag": "ABX9TyNI2yBP6YfG4JqEu4lPR+Sy",
      "include_colab_link": true
    },
    "kernelspec": {
      "name": "python3",
      "display_name": "Python 3"
    },
    "language_info": {
      "name": "python"
    }
  },
  "cells": [
    {
      "cell_type": "markdown",
      "metadata": {
        "id": "view-in-github",
        "colab_type": "text"
      },
      "source": [
        "<a href=\"https://colab.research.google.com/github/feracor/Python-basics/blob/main/Notas_python.ipynb\" target=\"_parent\"><img src=\"https://colab.research.google.com/assets/colab-badge.svg\" alt=\"Open In Colab\"/></a>"
      ]
    },
    {
      "cell_type": "markdown",
      "source": [
        "#Imprimir"
      ],
      "metadata": {
        "id": "POS-3mvOGZ5F"
      }
    },
    {
      "cell_type": "code",
      "execution_count": 2,
      "metadata": {
        "colab": {
          "base_uri": "https://localhost:8080/"
        },
        "id": "yOphWiw_lkbH",
        "outputId": "0c95a459-21b5-42f9-a4f0-aa4a9796da9e"
      },
      "outputs": [
        {
          "output_type": "stream",
          "name": "stdout",
          "text": [
            "Hola Fernando\n"
          ]
        }
      ],
      "source": [
        "print('Hola Fernando')"
      ]
    },
    {
      "cell_type": "markdown",
      "source": [
        "#Variables"
      ],
      "metadata": {
        "id": "pBS5aV4obuY5"
      }
    },
    {
      "cell_type": "code",
      "source": [
        "#Variables\n",
        "\n",
        "my_name='Fernando'\n",
        "print(my_name)\n",
        "\n",
        "my_age=32\n",
        "print(my_age)\n",
        "\n",
        "my_name=\"Acevedo\"\n",
        "print(\"Acá cambia el contenido de la variable y, ahora es:\",my_name)\n",
        "\n",
        "#input: Pemite al usuario ingresar los valores que se van a guardar en la variable\n",
        "my_name=input(\"¿Cuál es tu nombre?: \")\n",
        "print(\"Gusto en conocerte,\",my_name)"
      ],
      "metadata": {
        "id": "ACoZMjFxl5hI",
        "colab": {
          "base_uri": "https://localhost:8080/"
        },
        "outputId": "bbc61364-04ba-48b1-a320-6434dd3bb954"
      },
      "execution_count": 3,
      "outputs": [
        {
          "output_type": "stream",
          "name": "stdout",
          "text": [
            "Fernando\n",
            "32\n",
            "Acá cambia el contenido de la variable y, ahora es: Acevedo\n",
            "¿Cuál es tu nombre?: fer\n",
            "Gusto en conocerte, fer\n"
          ]
        }
      ]
    },
    {
      "cell_type": "code",
      "source": [
        "text = 2\n",
        "print(text)"
      ],
      "metadata": {
        "colab": {
          "base_uri": "https://localhost:8080/"
        },
        "id": "VNAqVB3ealQu",
        "outputId": "48c148c0-2b5e-496c-c96b-e18465a03d10"
      },
      "execution_count": 4,
      "outputs": [
        {
          "output_type": "stream",
          "name": "stdout",
          "text": [
            "2\n"
          ]
        }
      ]
    },
    {
      "cell_type": "markdown",
      "source": [
        "#Tipos de datos"
      ],
      "metadata": {
        "id": "8P101o0YCW6B"
      }
    },
    {
      "cell_type": "code",
      "source": [
        "#String - Cadena de texto\n",
        "\n",
        "my_name1=\"Fernando1\"\n",
        "my_name2='Fernando2'\n",
        "\n",
        "print(my_name1, my_name2)\n",
        "print(type(my_name1))"
      ],
      "metadata": {
        "colab": {
          "base_uri": "https://localhost:8080/"
        },
        "id": "qMLiRSczCapz",
        "outputId": "fbd9d8dc-8bbd-4965-d793-256bfabd3a1a"
      },
      "execution_count": 5,
      "outputs": [
        {
          "output_type": "stream",
          "name": "stdout",
          "text": [
            "Fernando1 Fernando2\n",
            "<class 'str'>\n"
          ]
        }
      ]
    },
    {
      "cell_type": "code",
      "source": [
        "#int - Número entero\n",
        "my_age=32\n",
        "\n",
        "print(my_age)\n",
        "print(type(my_age))"
      ],
      "metadata": {
        "colab": {
          "base_uri": "https://localhost:8080/"
        },
        "id": "VEIlaYxuDApU",
        "outputId": "83732703-5c24-4fe3-f662-67c0399af17d"
      },
      "execution_count": 6,
      "outputs": [
        {
          "output_type": "stream",
          "name": "stdout",
          "text": [
            "32\n",
            "<class 'int'>\n"
          ]
        }
      ]
    },
    {
      "cell_type": "code",
      "source": [
        "#boolean - Valores boleanos, corresponden a 1 ó 0, verdadero ó falso\n",
        "\n",
        "is_single = True # El valor booleano debe iniciar con mayúscula\n",
        "is_not_single = False\n",
        "\n",
        "print(\"El valor single es:\", is_single, \"y el valor not single is:\", is_not_single )\n",
        "\n",
        "print(type(is_single))\n",
        "print(type(is_not_single))\n"
      ],
      "metadata": {
        "colab": {
          "base_uri": "https://localhost:8080/"
        },
        "id": "Dux_V8TaDo_c",
        "outputId": "f0bbbb3e-da7a-4a8c-df48-216bf2c5494a"
      },
      "execution_count": 7,
      "outputs": [
        {
          "output_type": "stream",
          "name": "stdout",
          "text": [
            "El valor single es: True y el valor not single is: False\n",
            "<class 'bool'>\n",
            "<class 'bool'>\n"
          ]
        }
      ]
    },
    {
      "cell_type": "code",
      "source": [
        "#inputs - Permiten capturar valores del usuario y guardarlos en las variables.\n",
        "# El tipo de valor guardado siempre va a ser de tipo string, no importa si se ingresan números o valores booleanos.\n",
        "\n",
        "my_age = input(\"¿Cúal es tu edad? \")\n",
        "print(\"Tu edad es: \", my_age)\n",
        "print(type(my_age))\n"
      ],
      "metadata": {
        "colab": {
          "base_uri": "https://localhost:8080/"
        },
        "id": "E73ZdsadEt9-",
        "outputId": "7fa5bc02-41b8-4cb7-bf06-d395c73f108d"
      },
      "execution_count": 8,
      "outputs": [
        {
          "output_type": "stream",
          "name": "stdout",
          "text": [
            "¿Cúal es tu edad? 32\n",
            "Tu edad es:  32\n",
            "<class 'str'>\n"
          ]
        }
      ]
    },
    {
      "cell_type": "markdown",
      "source": [
        "#Strings"
      ],
      "metadata": {
        "id": "19iF23JbGP_b"
      }
    },
    {
      "cell_type": "code",
      "source": [
        "name=\"Fernando\"\n",
        "last_name=\"Acevedo\"\n",
        "\n",
        "print(name, last_name) # Imprime una frase con concatenacion que deja un espacio entre las variables"
      ],
      "metadata": {
        "id": "7ti2tVtTFciM",
        "colab": {
          "base_uri": "https://localhost:8080/"
        },
        "outputId": "ed146560-fb88-4b1d-d36d-1920be827cbe"
      },
      "execution_count": 9,
      "outputs": [
        {
          "output_type": "stream",
          "name": "stdout",
          "text": [
            "Fernando Acevedo\n"
          ]
        }
      ]
    },
    {
      "cell_type": "code",
      "source": [
        "full_name=name + \" \" + last_name # Concatenación para que pueda queda con un espacio entre las variable concatenadas\n",
        "\n",
        "print(full_name)"
      ],
      "metadata": {
        "colab": {
          "base_uri": "https://localhost:8080/"
        },
        "id": "vUZaKX7mnIZw",
        "outputId": "0821de9a-276a-4ff5-fc27-f1c53863ce01"
      },
      "execution_count": 10,
      "outputs": [
        {
          "output_type": "stream",
          "name": "stdout",
          "text": [
            "Fernando Acevedo\n"
          ]
        }
      ]
    },
    {
      "cell_type": "code",
      "source": [
        "quote1 = \"I'm Fernando\" # Se alternan las comillas simple con dobles para que no haya interferencia con la sintaxis de Python\n",
        "quote2 = 'She said \"Hello\"' # Se alternan las comillas simple con dobles para que no haya interferencia con la sintaxis de Python\n",
        "\n",
        "print(quote1)\n",
        "print(quote2)"
      ],
      "metadata": {
        "colab": {
          "base_uri": "https://localhost:8080/"
        },
        "id": "pw0EtlSNn08T",
        "outputId": "334266d5-a57f-4045-8fc4-e04911d12860"
      },
      "execution_count": 11,
      "outputs": [
        {
          "output_type": "stream",
          "name": "stdout",
          "text": [
            "I'm Fernando\n",
            "She said \"Hello\"\n"
          ]
        }
      ]
    },
    {
      "cell_type": "code",
      "source": [
        "#format\n",
        "\n",
        "age = \"32\"\n",
        "\n",
        "template1 = \"Hola, mi nombre es \" + name + \", mi apellido es \" + last_name + \" y mi edad es \" + age # Se pueden guardar variables dentro de una variable y con texto nuevo. Tener en cuenta poner espacios.\n",
        "\n",
        "print(template1)\n",
        "\n",
        "template2 = \"Hola, mi nombre es {}, mi apellido es {} y mi edad es {}.\".format(name, last_name, age) # Con la funcion format se puede reemplazar el contenido de las llaves {} con las variables llamadas en la función.\n",
        "\n",
        "print(template2)\n",
        "\n",
        "template3 = f\"Hola, mi nombre es {name}, mi apellido es {last_name} y mi edad es {age}.\" # Se usa la letra f al comienzo y dentro de las llaves se ingresa la variable. Este es un formato mas común en Python.\n",
        "\n",
        "print(template3)"
      ],
      "metadata": {
        "colab": {
          "base_uri": "https://localhost:8080/"
        },
        "id": "NnRAilropJCT",
        "outputId": "d5d15955-2a1c-48f5-f6a5-df25541de1db"
      },
      "execution_count": 12,
      "outputs": [
        {
          "output_type": "stream",
          "name": "stdout",
          "text": [
            "Hola, mi nombre es Fernando, mi apellido es Acevedo y mi edad es 32\n",
            "Hola, mi nombre es Fernando, mi apellido es Acevedo y mi edad es 32.\n",
            "Hola, mi nombre es Fernando, mi apellido es Acevedo y mi edad es 32.\n"
          ]
        }
      ]
    },
    {
      "cell_type": "markdown",
      "source": [
        "#Numbers"
      ],
      "metadata": {
        "id": "fzHbdtJdAP30"
      }
    },
    {
      "cell_type": "code",
      "source": [
        "lives = 3 #Los valores enteros no usan comillas\n",
        "print(type(lives))#Imprimir el tipo de dato\n",
        "age = 32\n",
        "budget = 100"
      ],
      "metadata": {
        "id": "ei0KG856ARrb",
        "outputId": "a492a08c-9e72-4fe2-9fae-ad17a27f496d",
        "colab": {
          "base_uri": "https://localhost:8080/"
        }
      },
      "execution_count": 13,
      "outputs": [
        {
          "output_type": "stream",
          "name": "stdout",
          "text": [
            "<class 'int'>\n"
          ]
        }
      ]
    },
    {
      "cell_type": "code",
      "source": [
        "temperature = 16.23 #Se pueden almacenar números con decimales, se guardan como tipo flotante\n",
        "print(type(temperature))"
      ],
      "metadata": {
        "id": "2mRQG7hzAd8a",
        "outputId": "fe163486-5cf9-494c-a630-efc8c9b99630",
        "colab": {
          "base_uri": "https://localhost:8080/"
        }
      },
      "execution_count": 14,
      "outputs": [
        {
          "output_type": "stream",
          "name": "stdout",
          "text": [
            "<class 'float'>\n"
          ]
        }
      ]
    },
    {
      "cell_type": "code",
      "source": [
        "lives = 2 #Primera asignación de valores en la variable \"lives\"\n",
        "\n",
        "print(lives)\n",
        "\n",
        "lives = 1#Segunda asignación de valores en la variable \"lives\"\n",
        "\n",
        "print(lives)"
      ],
      "metadata": {
        "id": "sAVj7K2VBHce",
        "outputId": "c36bab6d-8eae-45c6-f4d4-24640a379a8b",
        "colab": {
          "base_uri": "https://localhost:8080/"
        }
      },
      "execution_count": 15,
      "outputs": [
        {
          "output_type": "stream",
          "name": "stdout",
          "text": [
            "2\n",
            "1\n"
          ]
        }
      ]
    },
    {
      "cell_type": "code",
      "source": [
        "lives = 2+1 #se pueden hacer operaciones y guardar el resultado en la varaible\n",
        "print(lives)"
      ],
      "metadata": {
        "id": "wJ3fCnZ1BoDX",
        "outputId": "581b1bf6-e7df-43d7-a3da-f69fc6f1c34b",
        "colab": {
          "base_uri": "https://localhost:8080/"
        }
      },
      "execution_count": 16,
      "outputs": [
        {
          "output_type": "stream",
          "name": "stdout",
          "text": [
            "3\n"
          ]
        }
      ]
    },
    {
      "cell_type": "code",
      "source": [
        "lives = lives - 1 # Decrementa la cantidad que hay en lives en una unidad y el resuldado lo guarda en lives.\n",
        "print(lives)\n",
        "\n",
        "lives -= 1 #Esta es una forma simplificada para hacer operaciones con una variable y que el resultado se guarde en la misma variable, acá se hace un decremento en una unidad.\n",
        "print(lives)\n",
        "\n",
        "lives += 2 #Esta es una forma simplificada para hacer operaciones con una variable y que el resultado se guarde en la misma variable, acá se hace un incremento en dos unidades.\n",
        "print(lives)"
      ],
      "metadata": {
        "id": "NJLd6UCvB1HC",
        "outputId": "f59c6ca9-4218-4ae8-aad0-4c2751aad38a",
        "colab": {
          "base_uri": "https://localhost:8080/"
        }
      },
      "execution_count": 17,
      "outputs": [
        {
          "output_type": "stream",
          "name": "stdout",
          "text": [
            "2\n",
            "1\n",
            "3\n"
          ]
        }
      ]
    },
    {
      "cell_type": "code",
      "source": [
        "number = 36500000000000000000000.1 #Este valor puede ser guardado en la variable, y visualizado como notación científica.\n",
        "print(number)\n",
        "\n",
        "number = 0.0000000000000000002 #Este valor puede ser guardado en la variable, y visualizado como notación científica.\n",
        "print(number)"
      ],
      "metadata": {
        "id": "KHVqhGtiCXtj",
        "outputId": "801e3c4f-a3b3-467c-e38b-cbf603313cc2",
        "colab": {
          "base_uri": "https://localhost:8080/"
        }
      },
      "execution_count": 18,
      "outputs": [
        {
          "output_type": "stream",
          "name": "stdout",
          "text": [
            "3.65e+22\n",
            "2e-19\n"
          ]
        }
      ]
    },
    {
      "cell_type": "code",
      "source": [
        "#Calculo de presupuesto\n",
        "\n",
        "enero = 515000\n",
        "febrero = 485000\n",
        "marzo = 560000\n",
        "\n",
        "presupuesto = (enero + febrero + marzo)/3 #Se promedia el presupuesto de los tres meses.\n",
        "\n",
        "print(presupuesto)\n",
        "print(type(presupuesto))"
      ],
      "metadata": {
        "id": "GFmdvDMSC-8E",
        "outputId": "03787e8f-1139-46a0-dfbc-20fd41f32dbf",
        "colab": {
          "base_uri": "https://localhost:8080/"
        }
      },
      "execution_count": 19,
      "outputs": [
        {
          "output_type": "stream",
          "name": "stdout",
          "text": [
            "520000.0\n",
            "<class 'float'>\n"
          ]
        }
      ]
    },
    {
      "cell_type": "code",
      "source": [],
      "metadata": {
        "id": "xxPgaRFRDt7B"
      },
      "execution_count": 19,
      "outputs": []
    },
    {
      "cell_type": "markdown",
      "source": [
        "#Boolens"
      ],
      "metadata": {
        "id": "1EErLq9z6UY5"
      }
    },
    {
      "cell_type": "code",
      "source": [
        "# los valores booleanos solo tienen dos valores: Falso y verdadero\n",
        "\n",
        "is_single = True # los valores booleanos son asignados comenzando con una mayúscula\n",
        "\n",
        "print(is_single)\n",
        "print(type(is_single))\n",
        "\n",
        "is_single = False # los valores booleanos son asignados comenzando con una mayúscula\n",
        "\n",
        "print(is_single)"
      ],
      "metadata": {
        "id": "ueGZmb476WRj",
        "outputId": "f9675da1-fc57-45af-8fdb-fed3766da1a2",
        "colab": {
          "base_uri": "https://localhost:8080/"
        }
      },
      "execution_count": 20,
      "outputs": [
        {
          "output_type": "stream",
          "name": "stdout",
          "text": [
            "True\n",
            "<class 'bool'>\n",
            "False\n"
          ]
        }
      ]
    },
    {
      "cell_type": "code",
      "source": [
        "print(not True) # Se puede negar la salida e imprimirla en una misma línea al usar not\n",
        "print(not False)\n",
        "\n",
        "print(is_single)  # Valor en la variable antes de invertir su valor\n",
        "\n",
        "is_single = not is_single # El valor contenido en la variable puede ser cambiado al agregar la palabra reservada \"not\" y guardarla en la misma variable\n",
        "\n",
        "print(is_single)  # Valor en la variable despues de invertir su valor"
      ],
      "metadata": {
        "id": "tEd44PXH62kx",
        "outputId": "ecc9c684-518a-499a-89fa-a50bb1278587",
        "colab": {
          "base_uri": "https://localhost:8080/"
        }
      },
      "execution_count": 21,
      "outputs": [
        {
          "output_type": "stream",
          "name": "stdout",
          "text": [
            "False\n",
            "True\n",
            "False\n",
            "True\n"
          ]
        }
      ]
    },
    {
      "cell_type": "code",
      "source": [],
      "metadata": {
        "id": "b9qiFQLL7UBz"
      },
      "execution_count": 21,
      "outputs": []
    },
    {
      "cell_type": "markdown",
      "source": [
        "#Transformación de tipos"
      ],
      "metadata": {
        "id": "rz8hvyS7LXZB"
      }
    },
    {
      "cell_type": "code",
      "source": [
        "name = \"Fernando\"\n",
        "\n",
        "print(type(name))\n",
        "\n",
        "name = 12 # De forma dinámica es posible hacer el cambio del tipo de variable\n",
        "\n",
        "print(type(name))\n",
        "\n",
        "name = True\n",
        "\n",
        "print(type(name))"
      ],
      "metadata": {
        "colab": {
          "base_uri": "https://localhost:8080/"
        },
        "id": "enZHd-WWLa-b",
        "outputId": "89f385f7-4b88-4b73-9f27-27c834ee7835"
      },
      "execution_count": 22,
      "outputs": [
        {
          "output_type": "stream",
          "name": "stdout",
          "text": [
            "<class 'str'>\n",
            "<class 'int'>\n",
            "<class 'bool'>\n"
          ]
        }
      ]
    },
    {
      "cell_type": "code",
      "source": [
        "print(\"Fernando \" + \"Acevedo\") # Esta es una concatenación con carácteres\n",
        "\n",
        "print(20 + 12) # Esta es una suma entre enteros\n",
        "\n",
        "#print(\"Fernando\" + 12) # No se pueden concatenar diferentes tipos de datos y arroja error cuando se utiliza este formato de impresión\n",
        "print(\"Fernando \" + \"32\") # Se pueden concatenar mismos tipos de datos, en este caso el 12 es considerado un string"
      ],
      "metadata": {
        "colab": {
          "base_uri": "https://localhost:8080/"
        },
        "id": "c3hkGOEzLqUm",
        "outputId": "f9893b9b-c468-4d73-e356-ced989706db0"
      },
      "execution_count": 23,
      "outputs": [
        {
          "output_type": "stream",
          "name": "stdout",
          "text": [
            "Fernando Acevedo\n",
            "32\n",
            "Fernando 32\n"
          ]
        }
      ]
    },
    {
      "cell_type": "code",
      "source": [
        "age = 32\n",
        "\n",
        "print(\"Mi edad es \" + str(age)) # En este tipo de concatenación permite hacer la tranformación de tipo de dato de la variable a mostrar en la impresión\n",
        "\n",
        "print(f\"Mi edad es {age}\")  # Este tipo de formato permite hacer una concatenación sin realizar una transformación previa del formato de alguna de las variables"
      ],
      "metadata": {
        "colab": {
          "base_uri": "https://localhost:8080/"
        },
        "id": "yKUZdu5pMB5S",
        "outputId": "965b9c07-6461-4b49-fe2d-8e80102bdadf"
      },
      "execution_count": 24,
      "outputs": [
        {
          "output_type": "stream",
          "name": "stdout",
          "text": [
            "Mi edad es 32\n",
            "Mi edad es 32\n"
          ]
        }
      ]
    },
    {
      "cell_type": "code",
      "source": [
        "age = input(\"Escribe tu edad y presiona Enter: \") # El valor guardado en la variable al usar el método input, es por defecto un string. Para que esta transformación funcione, el usuario debe ingresar un número entero.\n",
        "print(\"Antes de la tranformación el tipo de dato es: \",type(age))\n",
        "\n",
        "age = int(age)  # Se puede realizar la transformación de tipo de variable y guardarla en la misma\n",
        "age +=10  # Depues de hacer la tranformación se puede operar como un entero\n",
        "\n",
        "print(\"Despues de la tranformación el tipo de dato es: \", type(age))  # Verifica el tipo de dato despues de la transformción\n",
        "\n",
        "print(f\"Tu edad en 10 años será: {age}\")\n"
      ],
      "metadata": {
        "colab": {
          "base_uri": "https://localhost:8080/"
        },
        "id": "5PMAwztbMB2x",
        "outputId": "eb6af39a-ce86-4feb-9e7a-0d91f766f73f"
      },
      "execution_count": 25,
      "outputs": [
        {
          "output_type": "stream",
          "name": "stdout",
          "text": [
            "Escribe tu edad y presiona Enter: 32\n",
            "Antes de la tranformación el tipo de dato es:  <class 'str'>\n",
            "Despues de la tranformación el tipo de dato es:  <class 'int'>\n",
            "Tu edad en 10 años será: 42\n"
          ]
        }
      ]
    },
    {
      "cell_type": "markdown",
      "source": [
        "#Operadores ariméticos"
      ],
      "metadata": {
        "id": "POUok4ExSs75"
      }
    },
    {
      "cell_type": "code",
      "source": [
        "print(\"Suma\",10 + 10)  # Sumar enteros\n",
        "print(\"Resta\",10 - 10)  # Restar enteros\n",
        "print(\"Multiplicar\",10 * 10)  # Multiplicar enteros\n",
        "print(\"Dividir\",10 / 10)  # Dividir enteros\n",
        "print(\"Módulo\",10 % 3)  # Operación módulo, muestra el residuo de una división\n",
        "print(\"Entero de división\",10 // 3)  # Dividir enteros y no arroja la parte entera del resultado\n",
        "print(\"Exponencial\",10 ** 10)  # Elevar un número\n",
        "\n",
        "print(\"Fernando \"+ \"Acevedo\")  # Concatenar strings\n",
        "print(\"Fernando \" * 3)  # Multiplicar o repetir string"
      ],
      "metadata": {
        "colab": {
          "base_uri": "https://localhost:8080/"
        },
        "id": "iIcgc2-vMB0I",
        "outputId": "11a826ea-bd4f-448b-92de-eae29ee6fe6e"
      },
      "execution_count": 26,
      "outputs": [
        {
          "output_type": "stream",
          "name": "stdout",
          "text": [
            "Suma 20\n",
            "Resta 0\n",
            "Multiplicar 100\n",
            "Dividir 1.0\n",
            "Módulo 1\n",
            "Entero de división 3\n",
            "Exponencial 10000000000\n",
            "Fernando Acevedo\n",
            "Fernando Fernando Fernando \n"
          ]
        }
      ]
    },
    {
      "cell_type": "markdown",
      "source": [
        "#Operadores de comparación"
      ],
      "metadata": {
        "id": "rJDvRGZTV_sb"
      }
    },
    {
      "cell_type": "code",
      "source": [
        "# > Operador mayor que. Compara dos valores y retorna un valor boleano entre True o False\n",
        "print(\"Mayor que\")\n",
        "print(7 > 3)\n",
        "print(3 > 7)\n",
        "print(7 > 7)\n",
        "\n",
        "# < Operador menor que. Compara dos valores y retorna un valor boleano entre True o False\n",
        "print(\"\\nMenor que\")\n",
        "print(7 < 3)\n",
        "print(3 < 7)\n",
        "print(7 < 7)\n",
        "\n",
        "# > Operador mayor o igual que. Compara dos valores y retorna un valor boleano entre True o False\n",
        "print(\"\\nMayor que o igual\")\n",
        "print(7 >= 3)\n",
        "print(3 >= 7)\n",
        "print(7 >= 7)\n",
        "\n",
        "\n",
        "# < Operador mayor que. Compara dos valores y retorna un valor boleano entre True o False\n",
        "print(\"\\nMenor o igual que\")\n",
        "print(7 <= 3)\n",
        "print(3 <= 7)\n",
        "print(7 <= 7)"
      ],
      "metadata": {
        "colab": {
          "base_uri": "https://localhost:8080/"
        },
        "id": "vAzEGLr9MBui",
        "outputId": "89f59262-2ffc-4f71-e722-4ddd26547d79"
      },
      "execution_count": 27,
      "outputs": [
        {
          "output_type": "stream",
          "name": "stdout",
          "text": [
            "Mayor que\n",
            "True\n",
            "False\n",
            "False\n",
            "\n",
            "Menor que\n",
            "False\n",
            "True\n",
            "False\n",
            "\n",
            "Mayor que o igual\n",
            "True\n",
            "False\n",
            "True\n",
            "\n",
            "Menor o igual que\n",
            "False\n",
            "True\n",
            "True\n"
          ]
        }
      ]
    },
    {
      "cell_type": "code",
      "source": [
        "# == Operador de igualdad. Compara dos valores y retorna un valor boleano entre True o False dependiendo si los valores son o no de mismo valor numérico\n",
        "print(\"Igualdad\")\n",
        "print(7 == 3)\n",
        "print(7 == 7)\n",
        "\n",
        "# == Operador diferente de. Compara dos valores y retorna un valor boleano entre True o False dependiendo si los valores son o no de mismo valor numérico\n",
        "print(\"Diferente de\")\n",
        "print(7 != 3)\n",
        "print(7 != 7)\n"
      ],
      "metadata": {
        "colab": {
          "base_uri": "https://localhost:8080/"
        },
        "id": "bwle5bgihWDx",
        "outputId": "b4810018-5a76-406f-a3d1-74cf23aa23e5"
      },
      "execution_count": 28,
      "outputs": [
        {
          "output_type": "stream",
          "name": "stdout",
          "text": [
            "Igualdad\n",
            "False\n",
            "True\n",
            "Diferente de\n",
            "True\n",
            "False\n"
          ]
        }
      ]
    },
    {
      "cell_type": "code",
      "source": [
        "print(\"Igualdad en strings\")\n",
        "print(\"Coco\" == \"Coco\") # Se pueden comparar otros tipos de dato, no solamente numérico.\n",
        "print(\"Coco\" == \"coco\")\n",
        "\n",
        "print(\"\\nDiferente de en strings\")\n",
        "print(\"Coco\" != \"Coco\") # Se pueden comparar otros tipos de dato, no solamente numérico.\n",
        "print(\"Coco\" != \"coco\")\n",
        "\n",
        "print(\"\\nDiferente de en strings\")\n",
        "print(1 != \"1\") # Los valores a compara deben ser el mismo tipo de dato para que sus valores sean iguales y el resultado pueda ser True\n",
        "print(1 != 1)\n",
        "print(\"1\" != \"1\")\n"
      ],
      "metadata": {
        "colab": {
          "base_uri": "https://localhost:8080/"
        },
        "id": "ZZ3ZpPDrisWz",
        "outputId": "24a23ab8-0c85-46d2-c04a-4b2b165f5261"
      },
      "execution_count": 29,
      "outputs": [
        {
          "output_type": "stream",
          "name": "stdout",
          "text": [
            "Igualdad en strings\n",
            "True\n",
            "False\n",
            "\n",
            "Diferente de en strings\n",
            "False\n",
            "True\n",
            "\n",
            "Diferente de en strings\n",
            "True\n",
            "False\n",
            "False\n"
          ]
        }
      ]
    },
    {
      "cell_type": "markdown",
      "source": [
        "#Comparación con números flotantes"
      ],
      "metadata": {
        "id": "pG4rhV2clCir"
      }
    },
    {
      "cell_type": "code",
      "source": [
        "x = 3.3\n",
        "y = 1.1 + 2.2\n",
        "\n",
        "print(x)\n",
        "print(y)\n",
        "print(x + y)\n",
        "\n",
        "print(\"\\nComparación entre valores flotantes teniendo en cuenta la precisión\")\n",
        "print(x == y) # La precisón que maneja python en la computadora hace que los valores flotantes sean diferentes.\n",
        "\n",
        "y_str = format(y, \"2g\") # Se puede tranformar el valor de y a un string y recortar decimales, es decir quitar precisión.\n",
        "print(\"\\nValor guardado al convertir en string y quitar la precisión\")\n",
        "print(y_str)  # El valor queda sin la precisón, sin embargo queda guardado como un tipo string y no se puede operar matemáticamente con un número entero.\n",
        "\n",
        "print(\"\\nComparación entre valores basados en string\")\n",
        "print(y_str == str(x)) # Compara los valores en términos de string, no es un forma matemática de hacer una comparación y no permite que sus valores sean operados.\n",
        "\n",
        "tolerance = 0.00001\n",
        "print(abs(x -y) < tolerance)  # Esta forma permite hacer la comparación matemática teniendo en cuenta una tolerancia en el margen de precisión."
      ],
      "metadata": {
        "colab": {
          "base_uri": "https://localhost:8080/"
        },
        "id": "SyPNL6BMlBhD",
        "outputId": "0cde60ef-7429-441a-81b5-1fff56a5ee51"
      },
      "execution_count": 30,
      "outputs": [
        {
          "output_type": "stream",
          "name": "stdout",
          "text": [
            "3.3\n",
            "3.3000000000000003\n",
            "6.6\n",
            "\n",
            "Comparación entre valores flotantes teniendo en cuenta la precisión\n",
            "False\n",
            "\n",
            "Valor guardado al convertir en string y quitar la precisión\n",
            "3.3\n",
            "\n",
            "Comparación entre valores basados en string\n",
            "True\n",
            "True\n"
          ]
        }
      ]
    },
    {
      "cell_type": "markdown",
      "source": [
        "#Operadores lógicos: and y or"
      ],
      "metadata": {
        "id": "wYmjikYfwQOd"
      }
    },
    {
      "cell_type": "code",
      "source": [
        "# and, es un operador que solo da verdadero cuando todas las entradas son True\n",
        "print(\"Tabla de verdad AND\")\n",
        "print(\"True and True: \\t\\t\", True and True)\n",
        "print(\"True and False: \\t\", True and False)\n",
        "print(\"False and True: \\t\", False and True)\n",
        "print(\"False and False: \\t\", False and False)\n",
        "\n",
        "print(\"\\nComparando valores booleanos a partir de valores numéricos\")\n",
        "print(10 > 5 and 5 < 10) # El primer valor da True y el segunto True\n",
        "print(10 > 5 and 5 > 10) # El primer valor da True y el segunto False"
      ],
      "metadata": {
        "colab": {
          "base_uri": "https://localhost:8080/"
        },
        "id": "HYIP4VLXjPXX",
        "outputId": "3563915d-5d6e-4ced-868f-8625503e7ca0"
      },
      "execution_count": 31,
      "outputs": [
        {
          "output_type": "stream",
          "name": "stdout",
          "text": [
            "Tabla de verdad AND\n",
            "True and True: \t\t True\n",
            "True and False: \t False\n",
            "False and True: \t False\n",
            "False and False: \t False\n",
            "\n",
            "Comparando valores booleanos a partir de valores numéricos\n",
            "True\n",
            "False\n"
          ]
        }
      ]
    },
    {
      "cell_type": "code",
      "source": [
        "stock = int(input(\"Ingrese el número en stock: \"))\n",
        "\n",
        "print(stock >= 100 and stock <= 1000) # Esta operación limita el valor el stock y le dice al usuario si el valor ingresado es valido para ingresar al stock, da como resultado un valor booleano."
      ],
      "metadata": {
        "colab": {
          "base_uri": "https://localhost:8080/"
        },
        "id": "qWxXI30Uw_8d",
        "outputId": "bb97f33d-0398-4a9d-c7d8-7792e4cdbe48"
      },
      "execution_count": 32,
      "outputs": [
        {
          "output_type": "stream",
          "name": "stdout",
          "text": [
            "Ingrese el número en stock: 100\n",
            "True\n"
          ]
        }
      ]
    },
    {
      "cell_type": "code",
      "source": [
        "# or, es un operador que solo da verdadero cuando al menos una de las entradas son True\n",
        "print(\"Tabla de verdad OR\")\n",
        "print(\"True or True: \\t\",True or True)\n",
        "print(\"True or False \\t\",True or False)\n",
        "print(\"False or True \\t\",False or True)\n",
        "print(\"False or False \\t\",False or False)\n",
        "\n",
        "print(\"\\nComparando valores booleanos a partir de valores numéricos\")\n",
        "print(10 < 5 or 5 > 10) # El primer valor da False y el segunto False\n",
        "print(10 > 5 or 5 > 10) # El primer valor da True y el segunto False"
      ],
      "metadata": {
        "colab": {
          "base_uri": "https://localhost:8080/"
        },
        "id": "KMIpjv-Dxz9u",
        "outputId": "1aee3d8d-8c9f-43cc-ee5f-e4f4d506d16a"
      },
      "execution_count": 33,
      "outputs": [
        {
          "output_type": "stream",
          "name": "stdout",
          "text": [
            "Tabla de verdad OR\n",
            "True or True: \t True\n",
            "True or False \t True\n",
            "False or True \t True\n",
            "False or False \t False\n",
            "\n",
            "Comparando valores booleanos a partir de valores numéricos\n",
            "False\n",
            "True\n"
          ]
        }
      ]
    },
    {
      "cell_type": "code",
      "source": [
        "role = input(\"Digita el rol: \")\n",
        "print(role == \"admin\" or role == \"seller\")  # La salida da verdadero si el valor ingresado coincide con algunos de los dos valores a comparar (admin o seller)"
      ],
      "metadata": {
        "colab": {
          "base_uri": "https://localhost:8080/"
        },
        "id": "3nepC_Nbxz7w",
        "outputId": "f080e096-31d0-4b05-b71f-6fe98dda24c6"
      },
      "execution_count": 34,
      "outputs": [
        {
          "output_type": "stream",
          "name": "stdout",
          "text": [
            "Digita el rol: admin\n",
            "True\n"
          ]
        }
      ]
    },
    {
      "cell_type": "markdown",
      "source": [
        "#Operador lógico not"
      ],
      "metadata": {
        "id": "JY1QOZ-G0xrS"
      }
    },
    {
      "cell_type": "code",
      "source": [
        "# not, este comparador niega el valor booleano y lo transforma a su inverso. Si es False lo transforma a True y viceversa\n",
        "print(\"Tabla de verdad NOT\")\n",
        "print(\"True:\\t\", not True)\n",
        "print(\"False:\\t\", not False)"
      ],
      "metadata": {
        "colab": {
          "base_uri": "https://localhost:8080/"
        },
        "id": "xaeLGo4Ixz5E",
        "outputId": "ed7d917c-742b-4581-e988-fa3b81e53e75"
      },
      "execution_count": 35,
      "outputs": [
        {
          "output_type": "stream",
          "name": "stdout",
          "text": [
            "Tabla de verdad NOT\n",
            "True:\t False\n",
            "False:\t True\n"
          ]
        }
      ]
    },
    {
      "cell_type": "code",
      "source": [
        "print(\"Tabla de verdad NOT con AND\")\n",
        "print(\"True and True: \\t\\t\", not(True or True))\n",
        "print(\"True and False: \\t\", not(True or False))\n",
        "print(\"False and True: \\t\", not(False or True))\n",
        "print(\"False and False: \\t\", not(False or False))"
      ],
      "metadata": {
        "colab": {
          "base_uri": "https://localhost:8080/"
        },
        "id": "jtetJbwbxz2d",
        "outputId": "fabebecd-7aec-4398-ff11-b9b8f7a87f52"
      },
      "execution_count": 36,
      "outputs": [
        {
          "output_type": "stream",
          "name": "stdout",
          "text": [
            "Tabla de verdad NOT con AND\n",
            "True and True: \t\t False\n",
            "True and False: \t False\n",
            "False and True: \t False\n",
            "False and False: \t True\n"
          ]
        }
      ]
    },
    {
      "cell_type": "code",
      "source": [
        "print(\"Tabla de verdad NOT con OR\")\n",
        "print(\"True or True: \\t\", not(True or True))\n",
        "print(\"True or False \\t\", not(True or False))\n",
        "print(\"False or True \\t\", not(False or True))\n",
        "print(\"False or False \\t\", not(False or False))"
      ],
      "metadata": {
        "colab": {
          "base_uri": "https://localhost:8080/"
        },
        "id": "Wbd2ewquxz0H",
        "outputId": "927d4c81-6b97-4506-d0ba-8869d1892ef4"
      },
      "execution_count": 37,
      "outputs": [
        {
          "output_type": "stream",
          "name": "stdout",
          "text": [
            "Tabla de verdad NOT con OR\n",
            "True or True: \t False\n",
            "True or False \t False\n",
            "False or True \t False\n",
            "False or False \t True\n"
          ]
        }
      ]
    },
    {
      "cell_type": "markdown",
      "source": [
        "#Condicionales"
      ],
      "metadata": {
        "id": "O8ZfZxzaCQ2P"
      }
    },
    {
      "cell_type": "code",
      "source": [
        "# if, es una operacion que ejecuta una accion dependiendo si se cumplen las condiciones que le damos\n",
        "if True:  # Cuando esta condición es verdadera, ejecutará las acciones que se le asignen.\n",
        "  print(\"Deberia ejecutarse\")\n",
        "\n",
        "if False: # Cuando esta condición es falsa, nunca va a ejecutas las acciones asignadas.\n",
        "  print(\"Nunca deberia ejecutarse\")"
      ],
      "metadata": {
        "colab": {
          "base_uri": "https://localhost:8080/"
        },
        "id": "rDm_vcJOxzvq",
        "outputId": "cd281385-8c56-473e-c494-4fb833dae40d"
      },
      "execution_count": 38,
      "outputs": [
        {
          "output_type": "stream",
          "name": "stdout",
          "text": [
            "Deberia ejecutarse\n"
          ]
        }
      ]
    },
    {
      "cell_type": "code",
      "source": [
        "# Ejemplo if\n",
        "pet = input(\"Ingresa el tu mascota favorita: \")\n",
        "\n",
        "if pet == \"perro\":\n",
        "  print(\"Que bien, tienes buen gusto\")\n",
        "\n",
        "if pet == \"gato\":\n",
        "  print(\"espero que tengas suerte\")"
      ],
      "metadata": {
        "colab": {
          "base_uri": "https://localhost:8080/"
        },
        "id": "Ox8b4lG_CfFO",
        "outputId": "a31f50ba-0016-4929-8d15-2890c5ba639d"
      },
      "execution_count": 39,
      "outputs": [
        {
          "output_type": "stream",
          "name": "stdout",
          "text": [
            "Ingresa el tu mascota favorita: perro\n",
            "Que bien, tienes buen gusto\n"
          ]
        }
      ]
    },
    {
      "cell_type": "code",
      "source": [
        "# else, ejecuta la instruccion en caso de que la primera acción no se cumpla.\n",
        "stock = int(input(\"Digita el stock: \"))\n",
        "\n",
        "if stock >= 100 and stock <= 1000:\n",
        "  print(\"El stock es correcto\")\n",
        "else:   # Si la condición no se cumple, se ejecutará la suguiente acción.\n",
        "  print(\"El stock es incorrecto\")"
      ],
      "metadata": {
        "colab": {
          "base_uri": "https://localhost:8080/"
        },
        "id": "04REDTBsCfCq",
        "outputId": "56a6edea-73dc-496f-f973-557677a7357a"
      },
      "execution_count": 40,
      "outputs": [
        {
          "output_type": "stream",
          "name": "stdout",
          "text": [
            "Digita el stock: 100\n",
            "El stock es correcto\n"
          ]
        }
      ]
    },
    {
      "cell_type": "code",
      "source": [
        "# elif = else if. Es una contracción de los anteriores condicionales y se ejecutara si el primer if no se cumple y van antes de un else final\n",
        "\n",
        "pet = input(\"Ingresa el tu mascota favorita: \")\n",
        "\n",
        "if pet == \"perro\":\n",
        "  print(\"Que bien, tienes buen gusto\")\n",
        "elif pet == \"gato\":\n",
        "  print(\"Espero que tengas suerte\")\n",
        "elif pet == \"pez\":\n",
        "  print(\"Eres lo máximo\")\n",
        "else:\n",
        "  print(\"Veo que no tienes ninguna mascota interesante\")"
      ],
      "metadata": {
        "colab": {
          "base_uri": "https://localhost:8080/"
        },
        "id": "FNIHlOYACfAA",
        "outputId": "514acf4c-79d1-40d2-8971-f4c7fd136de7"
      },
      "execution_count": 41,
      "outputs": [
        {
          "output_type": "stream",
          "name": "stdout",
          "text": [
            "Ingresa el tu mascota favorita: perro\n",
            "Que bien, tienes buen gusto\n"
          ]
        }
      ]
    },
    {
      "cell_type": "code",
      "source": [
        "# Ejercicio números pares\n",
        "\n",
        "par = int(input(\"Ingresa un número: \"))\n",
        "\n",
        "if par % 2 == 0:\n",
        "  print(\"El número ingresado es par\")\n",
        "elif par % 2 != 0:\n",
        "  print(\"El número ingresado es impar\")\n",
        "else:\n",
        "  print(\"Valor ingresado no es válido\")"
      ],
      "metadata": {
        "colab": {
          "base_uri": "https://localhost:8080/"
        },
        "id": "wDE-SQOTCe-e",
        "outputId": "e3d71edb-dc50-4daf-d907-036f73106e89"
      },
      "execution_count": 42,
      "outputs": [
        {
          "output_type": "stream",
          "name": "stdout",
          "text": [
            "Ingresa un número: 2\n",
            "El número ingresado es par\n"
          ]
        }
      ]
    },
    {
      "cell_type": "markdown",
      "source": [
        "#Proyecto: condicionales"
      ],
      "metadata": {
        "id": "b_pV36vfO2CY"
      }
    },
    {
      "cell_type": "code",
      "source": [
        "# Juego de piedra papel o tijera\n",
        "\n",
        "user_option = input(\"Escoje piedra, papel o tijera: \")\n",
        "compu_option = \"piedra\"\n",
        "\n",
        "print(f\"\\nLa opcion del computador es {compu_option}\")\n",
        "\n",
        "if user_option == compu_option:\n",
        "  print(\"\\nEs empate\")\n",
        "elif user_option == \"piedra\":\n",
        "  if compu_option == \"tijera\":\n",
        "    print(\"\\nPiedra gana a tijera \\nEl usuario ganó\")\n",
        "  else:\n",
        "    print(\"\\nPapel gana a piedra \\nEl computador gana\")\n",
        "elif user_option == \"papel\":\n",
        "  if compu_option == \"tijera\":\n",
        "    print(\"\\nTijera gana a papel \\nEl computador gana\")\n",
        "  else:\n",
        "    print(\"\\nPapel gana a piedra \\nEl usuario ganó\")\n",
        "elif user_option == \"tijera\":\n",
        "  if compu_option == \"papel\":\n",
        "    print(\"\\nTijera gana a papel \\nEl usuario ganó\")\n",
        "  else:\n",
        "    print(\"\\nPiedra gana a tijera \\nEl computador gana\")\n"
      ],
      "metadata": {
        "id": "hRsQk13-Ce6v",
        "colab": {
          "base_uri": "https://localhost:8080/"
        },
        "outputId": "bb64baee-b54c-489d-816f-2b455c1d1e6a"
      },
      "execution_count": 43,
      "outputs": [
        {
          "output_type": "stream",
          "name": "stdout",
          "text": [
            "Escoje piedra, papel o tijera: papel\n",
            "\n",
            "La opcion del computador es piedra\n",
            "\n",
            "Papel gana a piedra \n",
            "El usuario ganó\n"
          ]
        }
      ]
    },
    {
      "cell_type": "markdown",
      "source": [
        "#String recargado\n"
      ],
      "metadata": {
        "id": "BGgH1JZUK7Nn"
      }
    },
    {
      "cell_type": "code",
      "source": [
        "text = \"Ella sabe programar en python\"\n",
        "print(\"JavaScript\" in text) # Busca JavaScript en la frase guardada en text, si esta imprime True sino, False\n",
        "print(\"python\" in text) # Busca python en la frase guardada en text, si esta imprime True sino, False\n",
        "\n",
        "if \"JS\" in text:\n",
        "  print(\"Elegiste JavaScript, que bien\")\n",
        "else:\n",
        "  print(\"Tambien has elegido bien\")\n",
        "\n",
        "size = len(text)  # Mide la longitud de carácteres en la frase guardada en la variable text\n",
        "print(size)"
      ],
      "metadata": {
        "id": "q-NpiBH-Ce3T",
        "colab": {
          "base_uri": "https://localhost:8080/"
        },
        "outputId": "65383da5-4def-44a6-a81b-bbd912ac4f0f"
      },
      "execution_count": 44,
      "outputs": [
        {
          "output_type": "stream",
          "name": "stdout",
          "text": [
            "False\n",
            "True\n",
            "Tambien has elegido bien\n",
            "29\n"
          ]
        }
      ]
    },
    {
      "cell_type": "code",
      "source": [
        "# Trabajar con métodos\n",
        "\n",
        "print(text, text.upper()) # El método upper convierte en mayúsculas los caracteres de un string\n",
        "print(text, text.lower()) # El método lower convierte en minúscilas los caracteres de un string\n",
        "print(text, text.count(\"a\")) # El método count cuenta las veces que se repite un carácter o carácteres en una cadena de carácteres\n",
        "\n",
        "print(\"\\n\",text, text.swapcase()) # El método swapcase convierte en mayúsculas los carácteres en minúsculas y viceversa\n",
        "print(text, text.startswith(\"Ella\")) # El método startwith pregunta si la frase guardada inicia con una palabra o caráter especificado en el argumento\n",
        "print(text, text.endswith(\"Rust\")) # El método endwith pregunta si la frase guardada termina con una palabra o caráter especificado en el argumento\n",
        "print(text, text.replace(\"python\", \"Go\")) # El método replace reemplaza los carácteres especificado en el argumento"
      ],
      "metadata": {
        "colab": {
          "base_uri": "https://localhost:8080/"
        },
        "id": "TqlPXD5JLbmy",
        "outputId": "c2db64e8-3304-433e-b044-a5baefbef09d"
      },
      "execution_count": 45,
      "outputs": [
        {
          "output_type": "stream",
          "name": "stdout",
          "text": [
            "Ella sabe programar en python ELLA SABE PROGRAMAR EN PYTHON\n",
            "Ella sabe programar en python ella sabe programar en python\n",
            "Ella sabe programar en python 4\n",
            "\n",
            " Ella sabe programar en python eLLA SABE PROGRAMAR EN PYTHON\n",
            "Ella sabe programar en python True\n",
            "Ella sabe programar en python False\n",
            "Ella sabe programar en python Ella sabe programar en Go\n"
          ]
        }
      ]
    },
    {
      "cell_type": "code",
      "source": [
        "text_2 = \"este es un titulo\"\n",
        "\n",
        "print(text_2, text_2.capitalize())  # El método capitalize cambia a mayúscula el primer carácter del texto\n",
        "print(text_2, text_2.title())  # El método title cambia a mayúscula el primer carácter de cada palabra del texto\n",
        "print(text_2, text_2.isdigit())  # El método isdigit pregunta si el contenido de la variable es un dígito\n",
        "print(\"2323\".isdigit())  # El método isdigit pregunta si el contenido de la variable es un dígito\n"
      ],
      "metadata": {
        "colab": {
          "base_uri": "https://localhost:8080/"
        },
        "id": "JEbJRzVUMsW0",
        "outputId": "2fc4abaf-12f1-49bd-a019-75b45dec4e48"
      },
      "execution_count": 46,
      "outputs": [
        {
          "output_type": "stream",
          "name": "stdout",
          "text": [
            "este es un titulo Este es un titulo\n",
            "este es un titulo Este Es Un Titulo\n",
            "este es un titulo False\n",
            "True\n"
          ]
        }
      ]
    },
    {
      "cell_type": "code",
      "source": [
        "# Juego de piedra papel o tijera con modificación para transformación en minúsculas\n",
        "\n",
        "user_option = input(\"Escoje piedra, papel o tijera: \")\n",
        "compu_option = \"piedra\"\n",
        "\n",
        "user_option = user_option.lower()\n",
        "\n",
        "print(f\"\\nLa opcion del computador es {compu_option}\")\n",
        "\n",
        "if user_option == compu_option:\n",
        "  print(\"\\nEs empate\")\n",
        "elif user_option == \"piedra\":\n",
        "  if compu_option == \"tijera\":\n",
        "    print(\"\\nPiedra gana a tijera \\nEl usuario ganó\")\n",
        "  else:\n",
        "    print(\"\\nPapel gana a piedra \\nEl computador gana\")\n",
        "elif user_option == \"papel\":\n",
        "  if compu_option == \"tijera\":\n",
        "    print(\"\\nTijera gana a papel \\nEl computador gana\")\n",
        "  else:\n",
        "    print(\"\\nPapel gana a piedra \\nEl usuario ganó\")\n",
        "elif user_option == \"tijera\":\n",
        "  if compu_option == \"papel\":\n",
        "    print(\"\\nTijera gana a papel \\nEl usuario ganó\")\n",
        "  else:\n",
        "    print(\"\\nPiedra gana a tijera \\nEl computador gana\")"
      ],
      "metadata": {
        "colab": {
          "base_uri": "https://localhost:8080/"
        },
        "id": "QK9BU_kaQgHr",
        "outputId": "834672bc-5469-44cd-8dbb-9ec8cb9ec314"
      },
      "execution_count": 47,
      "outputs": [
        {
          "output_type": "stream",
          "name": "stdout",
          "text": [
            "Escoje piedra, papel o tijera: papel\n",
            "\n",
            "La opcion del computador es piedra\n",
            "\n",
            "Papel gana a piedra \n",
            "El usuario ganó\n"
          ]
        }
      ]
    },
    {
      "cell_type": "markdown",
      "source": [
        "#Indexing y slicing"
      ],
      "metadata": {
        "id": "0MHhqrHCSdZF"
      }
    },
    {
      "cell_type": "code",
      "source": [
        "# Indexing\n",
        "\n",
        "text = \"Ella sabe Python\"\n",
        "print(text[0])  # Imprime el carácter en la posición 1\n",
        "print(text[1])  # Imprime el carácter en la posición 2\n",
        "#print(text[999])  # Si la posición no existe, se imprime un error\n",
        "\n",
        "size = len(text)\n",
        "print(size)\n",
        "print(text[size - 1]) # Los carácteres se empiezan a contar desde 0, de esta manera se cuenta el tamaño de la variable en carácteres y se resta uno para extraer el último caracter\n",
        "print(text[-1]) # De esta manera se le dice a Python que traiga el último carácter, el conteo empieza desde el último carácter"
      ],
      "metadata": {
        "id": "KYO5ZRzfR5iK",
        "colab": {
          "base_uri": "https://localhost:8080/"
        },
        "outputId": "eb803f83-42f5-430b-adef-6991886b4a17"
      },
      "execution_count": 48,
      "outputs": [
        {
          "output_type": "stream",
          "name": "stdout",
          "text": [
            "E\n",
            "l\n",
            "16\n",
            "n\n",
            "n\n"
          ]
        }
      ]
    },
    {
      "cell_type": "code",
      "source": [
        "# Slicing\n",
        "\n",
        "print(text[0:5])  # Se imprime los carácteres desde cero hasta la posición cinco menos uno, es decir toma la posicion uno hasta la cuarta extrayendo 4 carácteres\n",
        "print(text[10:16])  # Se imprime los carácteres desde el decimo índice hasta el índice dieciseis menos uno, es decir toma la posicion diez hasta el decimoquinto extrayendo 6 carácteres\n",
        "print(text[:10])  # De esta manera se omite dar la orden de empezar desde el carácter en la posición cero, Python entiende que se toma desde el índice cero hasta el décimo menos uno\n",
        "\n",
        "print(text[5:])  # De esta manera se omite dar la orden de tomar los carácteres hasta la última posición desde un índice establecido, Python entiende que se toma desde el índice indicado hasta el último\n",
        "print(text[:])  # Esta es una manera redundante de imprimir el contenido de la variable"
      ],
      "metadata": {
        "colab": {
          "base_uri": "https://localhost:8080/"
        },
        "id": "kTn7i3M262XL",
        "outputId": "64154c2f-663c-4701-c3fc-25e60409aa16"
      },
      "execution_count": 49,
      "outputs": [
        {
          "output_type": "stream",
          "name": "stdout",
          "text": [
            "Ella \n",
            "Python\n",
            "Ella sabe \n",
            "sabe Python\n",
            "Ella sabe Python\n"
          ]
        }
      ]
    },
    {
      "cell_type": "code",
      "source": [
        "print(text[10:16:1])  # Se indica que imprima los carácteres desde el décimo índice al quinceavo tomado los caracteres de uno en uno\n",
        "print(text[10:16:2])  # Se indica que imprima los carácteres desde el décimo índice al quinceavo tomado los caracteres de dos en dos\n",
        "print(text[::2])  # Imprime todos los carácteres tomándolos de dos en dos"
      ],
      "metadata": {
        "colab": {
          "base_uri": "https://localhost:8080/"
        },
        "id": "JnA8sKQL8pD3",
        "outputId": "6b12379f-b49e-4d02-c5b1-9ad65f1f6fca"
      },
      "execution_count": 50,
      "outputs": [
        {
          "output_type": "stream",
          "name": "stdout",
          "text": [
            "Python\n",
            "Pto\n",
            "El aePto\n"
          ]
        }
      ]
    },
    {
      "cell_type": "markdown",
      "source": [
        "#Listas"
      ],
      "metadata": {
        "id": "j1DDDElMDHcX"
      }
    },
    {
      "cell_type": "code",
      "source": [
        "numbers = [1, 2, 3, 4, 5, 6]\n",
        "print(numbers,type(numbers))"
      ],
      "metadata": {
        "colab": {
          "base_uri": "https://localhost:8080/"
        },
        "id": "hGzEpjIt_fUM",
        "outputId": "338053d5-75e2-483d-ea95-9f5800e0f974"
      },
      "execution_count": 51,
      "outputs": [
        {
          "output_type": "stream",
          "name": "stdout",
          "text": [
            "[1, 2, 3, 4, 5, 6] <class 'list'>\n"
          ]
        }
      ]
    },
    {
      "cell_type": "code",
      "source": [
        "tasks = [\"make the dishes\", \"play videogames\"]\n",
        "print(tasks)"
      ],
      "metadata": {
        "id": "mGXo1ttEDWfP",
        "outputId": "488f00c2-5f31-4c42-c799-48b52135824d",
        "colab": {
          "base_uri": "https://localhost:8080/"
        }
      },
      "execution_count": 52,
      "outputs": [
        {
          "output_type": "stream",
          "name": "stdout",
          "text": [
            "['make the dishes', 'play videogames']\n"
          ]
        }
      ]
    },
    {
      "cell_type": "code",
      "source": [
        "types = [3, \"play videogames\", False] # Una lista puede guardar diferentes tipos de datos\n",
        "print(types)\n",
        "\n",
        "print(tasks[0])\n",
        "print(types[2])"
      ],
      "metadata": {
        "id": "nqBj7HUPD8vP",
        "outputId": "35cbb11f-7df3-4885-a0a3-71944823d3cd",
        "colab": {
          "base_uri": "https://localhost:8080/"
        }
      },
      "execution_count": 53,
      "outputs": [
        {
          "output_type": "stream",
          "name": "stdout",
          "text": [
            "[3, 'play videogames', False]\n",
            "make the dishes\n",
            "False\n"
          ]
        }
      ]
    },
    {
      "cell_type": "code",
      "source": [
        "#text = \"Hola\"\n",
        "#text[0] = \"h\"\n",
        "\n",
        "tasks[0] = \"Watch Platzi courses\" # Es posible actualizar los elementos de una lista\n",
        "print(tasks)\n",
        "\n",
        "tasks[0] = \"Do the dishes\" # Es posible actualizar los elementos de una lista\n",
        "print(tasks)"
      ],
      "metadata": {
        "id": "lLEDzlWvEK3c",
        "colab": {
          "base_uri": "https://localhost:8080/"
        },
        "outputId": "fa9b15f4-14ff-4b71-cf22-c6fc2da169cf"
      },
      "execution_count": 57,
      "outputs": [
        {
          "output_type": "stream",
          "name": "stdout",
          "text": [
            "['Watch Platzi courses', 'play videogames']\n",
            "['Do the dishes', 'play videogames']\n"
          ]
        }
      ]
    },
    {
      "cell_type": "code",
      "source": [
        "print(numbers)\n",
        "print(numbers[:3])  # Puede imprimir elementos de las listas\n",
        "print(numbers[2:])\n",
        "print(numbers[3:5])\n"
      ],
      "metadata": {
        "colab": {
          "base_uri": "https://localhost:8080/"
        },
        "id": "FuFzVLE-zLc_",
        "outputId": "056f0455-c338-4a7e-824d-81025cda816c"
      },
      "execution_count": 62,
      "outputs": [
        {
          "output_type": "stream",
          "name": "stdout",
          "text": [
            "[1, 2, 3, 4, 5, 6]\n",
            "[1, 2, 3]\n",
            "[3, 4, 5, 6]\n",
            "[4, 5]\n"
          ]
        }
      ]
    },
    {
      "cell_type": "markdown",
      "source": [
        "# Métodos de listas"
      ],
      "metadata": {
        "id": "aMK2n1fI0bwW"
      }
    },
    {
      "cell_type": "code",
      "source": [
        "#CRUD - Crate, Read, Update, Delete\n",
        "\n",
        "numbers = [1, 2, 3, 4, 5, 6, 7]\n",
        "print(numbers[1])\n",
        "numbers[-1] = 10  # Reemplazar el último valor de la lista\n",
        "print(numbers)"
      ],
      "metadata": {
        "colab": {
          "base_uri": "https://localhost:8080/"
        },
        "id": "a_PMNbZNztZP",
        "outputId": "94993ace-736a-4d0c-935e-dd1a2ece059e"
      },
      "execution_count": 64,
      "outputs": [
        {
          "output_type": "stream",
          "name": "stdout",
          "text": [
            "2\n",
            "[1, 2, 3, 4, 5, 6, 10]\n"
          ]
        }
      ]
    },
    {
      "cell_type": "code",
      "source": [
        "numbers.append(700) # Agrega un nuevo elmento en la última posicion de la lista\n",
        "print(numbers)"
      ],
      "metadata": {
        "colab": {
          "base_uri": "https://localhost:8080/"
        },
        "id": "HIw3H9QrztXA",
        "outputId": "239ac6ee-aae8-44c9-b974-65d6f2364fdf"
      },
      "execution_count": 66,
      "outputs": [
        {
          "output_type": "stream",
          "name": "stdout",
          "text": [
            "[1, 2, 3, 4, 5, 6, 10, 700, 700]\n"
          ]
        }
      ]
    },
    {
      "cell_type": "code",
      "source": [
        "# Método para agregar elementos que tiene dos parámetros, el primero hace referencia a la posición y el segundo al elemento que se desee insertar, despues los elementos de la lista se ajusta a un nuevo indice\n",
        "\n",
        "numbers.insert(0, \"hola\")\n",
        "print(numbers)"
      ],
      "metadata": {
        "colab": {
          "base_uri": "https://localhost:8080/"
        },
        "id": "eCJN_cYeztUd",
        "outputId": "b55b5df0-2e8d-451f-a421-02585a001edb"
      },
      "execution_count": 68,
      "outputs": [
        {
          "output_type": "stream",
          "name": "stdout",
          "text": [
            "['hola', 'hola', 1, 2, 3, 4, 5, 6, 10, 700, 700]\n"
          ]
        }
      ]
    },
    {
      "cell_type": "code",
      "source": [
        "# Ejemplo del método insert\n",
        "numbers.insert(3, \"change\")\n",
        "print(numbers)\n"
      ],
      "metadata": {
        "colab": {
          "base_uri": "https://localhost:8080/"
        },
        "id": "lKbJShTeztRu",
        "outputId": "95a3c497-f7ed-4d2e-d78a-9bfc9914bdcc"
      },
      "execution_count": 70,
      "outputs": [
        {
          "output_type": "stream",
          "name": "stdout",
          "text": [
            "['hola', 'hola', 1, 'change', 2, 3, 4, 5, 6, 10, 700, 700]\n"
          ]
        }
      ]
    },
    {
      "cell_type": "code",
      "source": [
        "# Fusionar listar\n",
        "\n",
        "new_list = numbers + tasks  # Une el contenido de las dos lista en una sola lista\n",
        "print(new_list)"
      ],
      "metadata": {
        "colab": {
          "base_uri": "https://localhost:8080/"
        },
        "id": "jRWHMU52ztPC",
        "outputId": "ebd0a2c6-e49a-4468-e13b-7edb5064b4db"
      },
      "execution_count": 71,
      "outputs": [
        {
          "output_type": "stream",
          "name": "stdout",
          "text": [
            "['hola', 'hola', 1, 'change', 2, 3, 4, 5, 6, 10, 700, 700, 'Do the dishes', 'play videogames']\n"
          ]
        }
      ]
    },
    {
      "cell_type": "code",
      "source": [
        "# Descubrir la posición de un elemento de una lista\n",
        "\n",
        "print(new_list.index(700))\n",
        "\n",
        "index = new_list.index(700) # Es posible guardar la posición del index del elemento solicitado\n",
        "new_list[index] = \"801\" # Depues es posible reemplazar el valor del elemento en la lista\n",
        "\n",
        "print(new_list)"
      ],
      "metadata": {
        "id": "cdjfdGO93eow",
        "outputId": "866f7bce-9cce-4da9-e77a-4ba09218a948",
        "colab": {
          "base_uri": "https://localhost:8080/"
        }
      },
      "execution_count": 77,
      "outputs": [
        {
          "output_type": "stream",
          "name": "stdout",
          "text": [
            "11\n",
            "['hola', 'hola', 1, 'change', 2, 3, 4, 5, 6, 10, '801', '801', 'Do the dishes', 'play videogames']\n"
          ]
        }
      ]
    },
    {
      "cell_type": "code",
      "source": [
        "# Eliminar el último elemento de la lista\n",
        "\n",
        "new_list.pop()\n",
        "print(new_list)"
      ],
      "metadata": {
        "id": "QHLsc7Qn38zj",
        "outputId": "900326b1-f798-41a7-81e0-d813bd41fa64",
        "colab": {
          "base_uri": "https://localhost:8080/"
        }
      },
      "execution_count": 84,
      "outputs": [
        {
          "output_type": "stream",
          "name": "stdout",
          "text": [
            "['hola', 'hola', 1, 'change', 2, 3, 4, 5, 6, 10, '801', '801']\n",
            "['hola', 'hola', 1, 'change', 2, 3, 4, 5, 6, 10, '200', '200', 'Do the dishes', 'play videogames']\n"
          ]
        }
      ]
    },
    {
      "cell_type": "code",
      "source": [
        "new_list.pop(1) #Al agregar una posición somo párametro, se elimina el elemento guardado en esa posición\n",
        "print(new_list)"
      ],
      "metadata": {
        "id": "TD1zmbOT665Q",
        "outputId": "b550a465-8443-44d0-df83-f9edf06b7995",
        "colab": {
          "base_uri": "https://localhost:8080/"
        }
      },
      "execution_count": 85,
      "outputs": [
        {
          "output_type": "stream",
          "name": "stdout",
          "text": [
            "['hola', 'change', 2, 3, 4, 5, 6, 10, '801', '801']\n"
          ]
        }
      ]
    },
    {
      "cell_type": "code",
      "source": [],
      "metadata": {
        "id": "Th8dXNR07QR7"
      },
      "execution_count": null,
      "outputs": []
    }
  ]
}