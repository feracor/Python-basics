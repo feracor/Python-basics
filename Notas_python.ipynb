{
  "nbformat": 4,
  "nbformat_minor": 0,
  "metadata": {
    "colab": {
      "provenance": [],
      "authorship_tag": "ABX9TyP0eZI7bZt/yZNsbKTe8Wln",
      "include_colab_link": true
    },
    "kernelspec": {
      "name": "python3",
      "display_name": "Python 3"
    },
    "language_info": {
      "name": "python"
    }
  },
  "cells": [
    {
      "cell_type": "markdown",
      "metadata": {
        "id": "view-in-github",
        "colab_type": "text"
      },
      "source": [
        "<a href=\"https://colab.research.google.com/github/feracor/Python-basics/blob/main/Notas_python.ipynb\" target=\"_parent\"><img src=\"https://colab.research.google.com/assets/colab-badge.svg\" alt=\"Open In Colab\"/></a>"
      ]
    },
    {
      "cell_type": "markdown",
      "source": [
        "#Imprimir"
      ],
      "metadata": {
        "id": "POS-3mvOGZ5F"
      }
    },
    {
      "cell_type": "code",
      "execution_count": null,
      "metadata": {
        "colab": {
          "base_uri": "https://localhost:8080/"
        },
        "id": "yOphWiw_lkbH",
        "outputId": "e9af0b80-2c0a-4027-ed84-96d31dc0cffa"
      },
      "outputs": [
        {
          "output_type": "stream",
          "name": "stdout",
          "text": [
            "Hola Fernando\n"
          ]
        }
      ],
      "source": [
        "print('Hola Fernando')"
      ]
    },
    {
      "cell_type": "markdown",
      "source": [
        "#Variables"
      ],
      "metadata": {
        "id": "pBS5aV4obuY5"
      }
    },
    {
      "cell_type": "code",
      "source": [
        "#Variables\n",
        "\n",
        "my_name='Fernando'\n",
        "print(my_name)\n",
        "\n",
        "my_age=32\n",
        "print(my_age)\n",
        "\n",
        "my_name=\"Acevedo\"\n",
        "print(\"Acá cambia el contenido de la variable y, ahora es:\",my_name)\n",
        "\n",
        "#input: Pemite al usuario ingresar los valores que se van a guardar en la variable\n",
        "my_name=input(\"¿Cuál es tu nombre?: \")\n",
        "print(\"Gusto en conocerte,\",my_name)"
      ],
      "metadata": {
        "id": "ACoZMjFxl5hI",
        "colab": {
          "base_uri": "https://localhost:8080/"
        },
        "outputId": "fa106737-a249-4864-fd03-95315c209943"
      },
      "execution_count": null,
      "outputs": [
        {
          "output_type": "stream",
          "name": "stdout",
          "text": [
            "Fernando\n",
            "32\n",
            "Acá cambia el contenido de la variable y, ahora es: Acevedo\n"
          ]
        }
      ]
    },
    {
      "cell_type": "code",
      "source": [
        "text = 2\n",
        "print(text)"
      ],
      "metadata": {
        "colab": {
          "base_uri": "https://localhost:8080/"
        },
        "id": "VNAqVB3ealQu",
        "outputId": "c111df7f-3561-456d-b4f7-dcbd49b25f8b"
      },
      "execution_count": null,
      "outputs": [
        {
          "output_type": "stream",
          "name": "stdout",
          "text": [
            "2\n"
          ]
        }
      ]
    },
    {
      "cell_type": "markdown",
      "source": [
        "#Tipos de datos"
      ],
      "metadata": {
        "id": "8P101o0YCW6B"
      }
    },
    {
      "cell_type": "code",
      "source": [
        "#String - Cadena de texto\n",
        "\n",
        "my_name1=\"Fernando1\"\n",
        "my_name2='Fernando2'\n",
        "\n",
        "print(my_name1, my_name2)\n",
        "print(type(my_name1))"
      ],
      "metadata": {
        "colab": {
          "base_uri": "https://localhost:8080/"
        },
        "id": "qMLiRSczCapz",
        "outputId": "31308f4d-de2a-4281-fdd8-cd515b37f98b"
      },
      "execution_count": null,
      "outputs": [
        {
          "output_type": "stream",
          "name": "stdout",
          "text": [
            "Fernando1 Fernando2\n",
            "<class 'str'>\n"
          ]
        }
      ]
    },
    {
      "cell_type": "code",
      "source": [
        "#int - Número entero\n",
        "my_age=32\n",
        "\n",
        "print(my_age)\n",
        "print(type(my_age))"
      ],
      "metadata": {
        "colab": {
          "base_uri": "https://localhost:8080/"
        },
        "id": "VEIlaYxuDApU",
        "outputId": "c5e5068a-6613-44e8-87b4-893e861c5adb"
      },
      "execution_count": null,
      "outputs": [
        {
          "output_type": "stream",
          "name": "stdout",
          "text": [
            "32\n",
            "<class 'int'>\n"
          ]
        }
      ]
    },
    {
      "cell_type": "code",
      "source": [
        "#boolean - Valores boleanos, corresponden a 1 ó 0, verdadero ó falso\n",
        "\n",
        "is_single = True # El valor booleano debe iniciar con mayúscula\n",
        "is_not_single = False\n",
        "\n",
        "print(\"El valor single es:\", is_single, \"y el valor not single is:\", is_not_single )\n",
        "\n",
        "print(type(is_single))\n",
        "print(type(is_not_single))\n"
      ],
      "metadata": {
        "colab": {
          "base_uri": "https://localhost:8080/"
        },
        "id": "Dux_V8TaDo_c",
        "outputId": "febc353f-71f0-4f85-ca25-846e0d1de9dd"
      },
      "execution_count": null,
      "outputs": [
        {
          "output_type": "stream",
          "name": "stdout",
          "text": [
            "El valor single es: True y el valor not single is: False\n",
            "<class 'bool'>\n",
            "<class 'bool'>\n"
          ]
        }
      ]
    },
    {
      "cell_type": "code",
      "source": [
        "#inputs - Permiten capturar valores del usuario y guardarlos en las variables.\n",
        "# El tipo de valor guardado siempre va a ser de tipo string, no importa si se ingresan números o valores booleanos.\n",
        "\n",
        "my_age = input(\"¿Cúal es tu edad? \")\n",
        "print(\"Tu edad es: \", my_age)\n",
        "print(type(my_age))\n"
      ],
      "metadata": {
        "colab": {
          "base_uri": "https://localhost:8080/"
        },
        "id": "E73ZdsadEt9-",
        "outputId": "e2b993ea-4d1f-46ff-d5aa-6d12b2d05a86"
      },
      "execution_count": null,
      "outputs": [
        {
          "output_type": "stream",
          "name": "stdout",
          "text": [
            "¿Cúal es tu edad? 4\n",
            "Tu edad es:  4\n",
            "<class 'str'>\n"
          ]
        }
      ]
    },
    {
      "cell_type": "markdown",
      "source": [
        "#Strings"
      ],
      "metadata": {
        "id": "19iF23JbGP_b"
      }
    },
    {
      "cell_type": "code",
      "source": [
        "name=\"Fernando\"\n",
        "last_name=\"Acevedo\"\n",
        "\n",
        "print(name, last_name) # Imprime una frase con concatenacion que deja un espacio entre las variables"
      ],
      "metadata": {
        "id": "7ti2tVtTFciM",
        "colab": {
          "base_uri": "https://localhost:8080/"
        },
        "outputId": "06277403-e320-4add-8761-c8e5475a064f"
      },
      "execution_count": null,
      "outputs": [
        {
          "output_type": "stream",
          "name": "stdout",
          "text": [
            "Fernando Acevedo\n"
          ]
        }
      ]
    },
    {
      "cell_type": "code",
      "source": [
        "full_name=name + \" \" + last_name # Concatenación para que pueda queda con un espacio entre las variable concatenadas\n",
        "\n",
        "print(full_name)"
      ],
      "metadata": {
        "colab": {
          "base_uri": "https://localhost:8080/"
        },
        "id": "vUZaKX7mnIZw",
        "outputId": "1d8bf96e-4226-4ad8-c054-f3d2c325c6ec"
      },
      "execution_count": null,
      "outputs": [
        {
          "output_type": "stream",
          "name": "stdout",
          "text": [
            "Fernando Acevedo\n"
          ]
        }
      ]
    },
    {
      "cell_type": "code",
      "source": [
        "quote1 = \"I'm Fernando\" # Se alternan las comillas simple con dobles para que no haya interferencia con la sintaxis de Python\n",
        "quote2 = 'She said \"Hello\"' # Se alternan las comillas simple con dobles para que no haya interferencia con la sintaxis de Python\n",
        "\n",
        "print(quote1)\n",
        "print(quote2)"
      ],
      "metadata": {
        "colab": {
          "base_uri": "https://localhost:8080/"
        },
        "id": "pw0EtlSNn08T",
        "outputId": "2a3fd758-c472-4f3a-f4f3-e5161e98fc11"
      },
      "execution_count": null,
      "outputs": [
        {
          "output_type": "stream",
          "name": "stdout",
          "text": [
            "I'm Fernando\n",
            "She said \"Hello\"\n"
          ]
        }
      ]
    },
    {
      "cell_type": "code",
      "source": [
        "#format\n",
        "\n",
        "age = \"32\"\n",
        "\n",
        "template1 = \"Hola, mi nombre es \" + name + \", mi apellido es \" + last_name + \" y mi edad es \" + age # Se pueden guardar variables dentro de una variable y con texto nuevo. Tener en cuenta poner espacios.\n",
        "\n",
        "print(template1)\n",
        "\n",
        "template2 = \"Hola, mi nombre es {}, mi apellido es {} y mi edad es {}.\".format(name, last_name, age) # Con la funcion format se puede reemplazar el contenido de las llaves {} con las variables llamadas en la función.\n",
        "\n",
        "print(template2)\n",
        "\n",
        "template3 = f\"Hola, mi nombre es {name}, mi apellido es {last_name} y mi edad es {age}.\" # Se usa la letra f al comienzo y dentro de las llaves se ingresa la variable. Este es un formato mas común en Python.\n",
        "\n",
        "print(template3)"
      ],
      "metadata": {
        "colab": {
          "base_uri": "https://localhost:8080/"
        },
        "id": "NnRAilropJCT",
        "outputId": "e1886aac-1c5e-49ba-bf16-b5e27bf41dab"
      },
      "execution_count": null,
      "outputs": [
        {
          "output_type": "stream",
          "name": "stdout",
          "text": [
            "Hola, mi nombre es Fernando, mi apellido es Acevedo y mi edad es 32\n",
            "Hola, mi nombre es Fernando, mi apellido es Acevedo y mi edad es 32.\n",
            "Hola, mi nombre es Fernando, mi apellido es Acevedo y mi edad es 32.\n"
          ]
        }
      ]
    },
    {
      "cell_type": "markdown",
      "source": [
        "#Numbers"
      ],
      "metadata": {
        "id": "fzHbdtJdAP30"
      }
    },
    {
      "cell_type": "code",
      "source": [
        "lives = 3 #Los valores enteros no usan comillas\n",
        "print(type(lives))#Imprimir el tipo de dato\n",
        "age = 32\n",
        "budget = 100"
      ],
      "metadata": {
        "id": "ei0KG856ARrb",
        "outputId": "f0a35a25-a40b-4b0c-c0da-de5be034db44",
        "colab": {
          "base_uri": "https://localhost:8080/"
        }
      },
      "execution_count": null,
      "outputs": [
        {
          "output_type": "stream",
          "name": "stdout",
          "text": [
            "<class 'int'>\n"
          ]
        }
      ]
    },
    {
      "cell_type": "code",
      "source": [
        "temperature = 16.23 #Se pueden almacenar números con decimales, se guardan como tipo flotante\n",
        "print(type(temperature))"
      ],
      "metadata": {
        "id": "2mRQG7hzAd8a",
        "outputId": "b746fed1-cf96-48a5-af40-98ccb6bef7fd",
        "colab": {
          "base_uri": "https://localhost:8080/"
        }
      },
      "execution_count": null,
      "outputs": [
        {
          "output_type": "stream",
          "name": "stdout",
          "text": [
            "<class 'float'>\n"
          ]
        }
      ]
    },
    {
      "cell_type": "code",
      "source": [
        "lives = 2 #Primera asignación de valores en la variable \"lives\"\n",
        "\n",
        "print(lives)\n",
        "\n",
        "lives = 1#Segunda asignación de valores en la variable \"lives\"\n",
        "\n",
        "print(lives)"
      ],
      "metadata": {
        "id": "sAVj7K2VBHce",
        "outputId": "b9114888-2d4c-4191-be64-0faf5652422e",
        "colab": {
          "base_uri": "https://localhost:8080/"
        }
      },
      "execution_count": null,
      "outputs": [
        {
          "output_type": "stream",
          "name": "stdout",
          "text": [
            "2\n",
            "1\n"
          ]
        }
      ]
    },
    {
      "cell_type": "code",
      "source": [
        "lives = 2+1 #se pueden hacer operaciones y guardar el resultado en la varaible\n",
        "print(lives)"
      ],
      "metadata": {
        "id": "wJ3fCnZ1BoDX",
        "outputId": "1518607c-832b-4950-d555-7fbb2ec5a054",
        "colab": {
          "base_uri": "https://localhost:8080/"
        }
      },
      "execution_count": null,
      "outputs": [
        {
          "output_type": "stream",
          "name": "stdout",
          "text": [
            "3\n"
          ]
        }
      ]
    },
    {
      "cell_type": "code",
      "source": [
        "lives = lives - 1 # Decrementa la cantidad que hay en lives en una unidad y el resuldado lo guarda en lives.\n",
        "print(lives)\n",
        "\n",
        "lives -= 1 #Esta es una forma simplificada para hacer operaciones con una variable y que el resultado se guarde en la misma variable, acá se hace un decremento en una unidad.\n",
        "print(lives)\n",
        "\n",
        "lives += 2 #Esta es una forma simplificada para hacer operaciones con una variable y que el resultado se guarde en la misma variable, acá se hace un incremento en dos unidades.\n",
        "print(lives)"
      ],
      "metadata": {
        "id": "NJLd6UCvB1HC",
        "outputId": "11f4dad9-5bec-4341-e737-a22fe50a5eae",
        "colab": {
          "base_uri": "https://localhost:8080/"
        }
      },
      "execution_count": null,
      "outputs": [
        {
          "output_type": "stream",
          "name": "stdout",
          "text": [
            "-2\n",
            "-3\n",
            "-1\n"
          ]
        }
      ]
    },
    {
      "cell_type": "code",
      "source": [
        "number = 36500000000000000000000.1 #Este valor puede ser guardado en la variable, y visualizado como notación científica.\n",
        "print(number)\n",
        "\n",
        "number = 0.0000000000000000002 #Este valor puede ser guardado en la variable, y visualizado como notación científica.\n",
        "print(number)"
      ],
      "metadata": {
        "id": "KHVqhGtiCXtj",
        "outputId": "abb7f093-e646-43e6-8270-5b1d148fb0c5",
        "colab": {
          "base_uri": "https://localhost:8080/"
        }
      },
      "execution_count": null,
      "outputs": [
        {
          "output_type": "stream",
          "name": "stdout",
          "text": [
            "3.65e+22\n",
            "2e-19\n"
          ]
        }
      ]
    },
    {
      "cell_type": "code",
      "source": [
        "#Calculo de presupuesto\n",
        "\n",
        "enero = 515000\n",
        "febrero = 485000\n",
        "marzo = 560000\n",
        "\n",
        "presupuesto = (enero + febrero + marzo)/3 #Se promedia el presupuesto de los tres meses.\n",
        "\n",
        "print(presupuesto)\n",
        "print(type(presupuesto))"
      ],
      "metadata": {
        "id": "GFmdvDMSC-8E",
        "outputId": "17fb4b08-6d14-43ad-8de1-85f1e9e5a04c",
        "colab": {
          "base_uri": "https://localhost:8080/"
        }
      },
      "execution_count": null,
      "outputs": [
        {
          "output_type": "stream",
          "name": "stdout",
          "text": [
            "520000.0\n",
            "<class 'float'>\n"
          ]
        }
      ]
    },
    {
      "cell_type": "code",
      "source": [],
      "metadata": {
        "id": "xxPgaRFRDt7B"
      },
      "execution_count": null,
      "outputs": []
    },
    {
      "cell_type": "markdown",
      "source": [
        "#Boolens"
      ],
      "metadata": {
        "id": "1EErLq9z6UY5"
      }
    },
    {
      "cell_type": "code",
      "source": [
        "# los valores booleanos solo tienen dos valores: Falso y verdadero\n",
        "\n",
        "is_single = True # los valores booleanos son asignados comenzando con una mayúscula\n",
        "\n",
        "print(is_single)\n",
        "print(type(is_single))\n",
        "\n",
        "is_single = False # los valores booleanos son asignados comenzando con una mayúscula\n",
        "\n",
        "print(is_single)"
      ],
      "metadata": {
        "id": "ueGZmb476WRj",
        "outputId": "ee082c09-cdfe-4d04-d1d4-af5007a431b4",
        "colab": {
          "base_uri": "https://localhost:8080/"
        }
      },
      "execution_count": null,
      "outputs": [
        {
          "output_type": "stream",
          "name": "stdout",
          "text": [
            "True\n",
            "<class 'bool'>\n",
            "False\n"
          ]
        }
      ]
    },
    {
      "cell_type": "code",
      "source": [
        "print(not True) # Se puede negar la salida e imprimirla en una misma línea al usar not\n",
        "print(not False)\n",
        "\n",
        "print(is_single)  # Valor en la variable antes de invertir su valor\n",
        "\n",
        "is_single = not is_single # El valor contenido en la variable puede ser cambiado al agregar la palabra reservada \"not\" y guardarla en la misma variable\n",
        "\n",
        "print(is_single)  # Valor en la variable despues de invertir su valor"
      ],
      "metadata": {
        "id": "tEd44PXH62kx",
        "outputId": "880889ce-0d29-45ce-cde1-6cffd749d571",
        "colab": {
          "base_uri": "https://localhost:8080/"
        }
      },
      "execution_count": null,
      "outputs": [
        {
          "output_type": "stream",
          "name": "stdout",
          "text": [
            "False\n",
            "True\n",
            "False\n",
            "True\n"
          ]
        }
      ]
    },
    {
      "cell_type": "code",
      "source": [],
      "metadata": {
        "id": "b9qiFQLL7UBz"
      },
      "execution_count": null,
      "outputs": []
    },
    {
      "cell_type": "markdown",
      "source": [
        "#Transformación de tipos"
      ],
      "metadata": {
        "id": "rz8hvyS7LXZB"
      }
    },
    {
      "cell_type": "code",
      "source": [
        "name = \"Fernando\"\n",
        "\n",
        "print(type(name))\n",
        "\n",
        "name = 12 # De forma dinámica es posible hacer el cambio del tipo de variable\n",
        "\n",
        "print(type(name))\n",
        "\n",
        "name = True\n",
        "\n",
        "print(type(name))"
      ],
      "metadata": {
        "colab": {
          "base_uri": "https://localhost:8080/"
        },
        "id": "enZHd-WWLa-b",
        "outputId": "476caa71-2d2e-4f9e-b8c1-cd2daf6db6fa"
      },
      "execution_count": null,
      "outputs": [
        {
          "output_type": "stream",
          "name": "stdout",
          "text": [
            "<class 'str'>\n",
            "<class 'int'>\n",
            "<class 'bool'>\n"
          ]
        }
      ]
    },
    {
      "cell_type": "code",
      "source": [
        "print(\"Fernando \" + \"Acevedo\") # Esta es una concatenación con carácteres\n",
        "\n",
        "print(20 + 12) # Esta es una suma entre enteros\n",
        "\n",
        "#print(\"Fernando\" + 12) # No se pueden concatenar diferentes tipos de datos y arroja error cuando se utiliza este formato de impresión\n",
        "print(\"Fernando \" + \"32\") # Se pueden concatenar mismos tipos de datos, en este caso el 12 es considerado un string"
      ],
      "metadata": {
        "colab": {
          "base_uri": "https://localhost:8080/"
        },
        "id": "c3hkGOEzLqUm",
        "outputId": "d38023f0-0d65-4ac2-8909-a9aa8adf2e6b"
      },
      "execution_count": null,
      "outputs": [
        {
          "output_type": "stream",
          "name": "stdout",
          "text": [
            "Fernando Acevedo\n",
            "32\n",
            "Fernando 32\n"
          ]
        }
      ]
    },
    {
      "cell_type": "code",
      "source": [
        "age = 32\n",
        "\n",
        "print(\"Mi edad es \" + str(age)) # En este tipo de concatenación permite hacer la tranformación de tipo de dato de la variable a mostrar en la impresión\n",
        "\n",
        "print(f\"Mi edad es {age}\")  # Este tipo de formato permite hacer una concatenación sin realizar una transformación previa del formato de alguna de las variables"
      ],
      "metadata": {
        "colab": {
          "base_uri": "https://localhost:8080/"
        },
        "id": "yKUZdu5pMB5S",
        "outputId": "59074030-4b4a-4308-a502-265480023b28"
      },
      "execution_count": null,
      "outputs": [
        {
          "output_type": "stream",
          "name": "stdout",
          "text": [
            "Mi edad es 32\n",
            "Mi edad es 32\n"
          ]
        }
      ]
    },
    {
      "cell_type": "code",
      "source": [
        "age = input(\"Escribe tu edad y presiona Enter: \") # El valor guardado en la variable al usar el método input, es por defecto un string. Para que esta transformación funcione, el usuario debe ingresar un número entero.\n",
        "print(\"Antes de la tranformación el tipo de dato es: \",type(age))\n",
        "\n",
        "age = int(age)  # Se puede realizar la transformación de tipo de variable y guardarla en la misma\n",
        "age +=10  # Depues de hacer la tranformación se puede operar como un entero\n",
        "\n",
        "print(\"Despues de la tranformación el tipo de dato es: \", type(age))  # Verifica el tipo de dato despues de la transformción\n",
        "\n",
        "print(f\"Tu edad en 10 años será: {age}\")\n"
      ],
      "metadata": {
        "colab": {
          "base_uri": "https://localhost:8080/"
        },
        "id": "5PMAwztbMB2x",
        "outputId": "a502a3a2-0f55-4e13-f8a3-acdd84f3a3c4"
      },
      "execution_count": null,
      "outputs": [
        {
          "output_type": "stream",
          "name": "stdout",
          "text": [
            "Escribe tu edad y presiona Enter: 34\n",
            "Antes de la tranformación el tipo de dato es:  <class 'str'>\n",
            "Despues de la tranformación el tipo de dato es:  <class 'int'>\n",
            "Tu edad en 10 años será: 44\n"
          ]
        }
      ]
    },
    {
      "cell_type": "markdown",
      "source": [
        "#Operadores ariméticos"
      ],
      "metadata": {
        "id": "POUok4ExSs75"
      }
    },
    {
      "cell_type": "code",
      "source": [
        "print(\"Suma\",10 + 10)  # Sumar enteros\n",
        "print(\"Resta\",10 - 10)  # Restar enteros\n",
        "print(\"Multiplicar\",10 * 10)  # Multiplicar enteros\n",
        "print(\"Dividir\",10 / 10)  # Dividir enteros\n",
        "print(\"Módulo\",10 % 3)  # Operación módulo, muestra el residuo de una división\n",
        "print(\"Entero de división\",10 // 3)  # Dividir enteros y no arroja la parte entera del resultado\n",
        "print(\"Exponencial\",10 ** 10)  # Elevar un número\n",
        "\n",
        "print(\"Fernando \"+ \"Acevedo\")  # Concatenar strings\n",
        "print(\"Fernando \" * 3)  # Multiplicar o repetir string"
      ],
      "metadata": {
        "colab": {
          "base_uri": "https://localhost:8080/"
        },
        "id": "iIcgc2-vMB0I",
        "outputId": "39574d04-b3df-459e-a264-7a16e94e7804"
      },
      "execution_count": null,
      "outputs": [
        {
          "output_type": "stream",
          "name": "stdout",
          "text": [
            "Suma 20\n",
            "Resta 0\n",
            "Multiplicar 100\n",
            "Dividir 1.0\n",
            " 1.0\n",
            "Módulo 1\n",
            "Entero de división 3\n",
            "Exponencial 10000000000\n",
            "Fernando Acevedo\n",
            "Fernando Fernando Fernando \n"
          ]
        }
      ]
    },
    {
      "cell_type": "markdown",
      "source": [
        "#Operadores de comparación"
      ],
      "metadata": {
        "id": "rJDvRGZTV_sb"
      }
    },
    {
      "cell_type": "code",
      "source": [
        "# > Operador mayor que. Compara dos valores y retorna un valor boleano entre True o False\n",
        "print(\"Mayor que\")\n",
        "print(7 > 3)\n",
        "print(3 > 7)\n",
        "print(7 > 7)\n",
        "\n",
        "# < Operador menor que. Compara dos valores y retorna un valor boleano entre True o False\n",
        "print(\"\\nMenor que\")\n",
        "print(7 < 3)\n",
        "print(3 < 7)\n",
        "print(7 < 7)\n",
        "\n",
        "# > Operador mayor o igual que. Compara dos valores y retorna un valor boleano entre True o False\n",
        "print(\"\\nMayor que o igual\")\n",
        "print(7 >= 3)\n",
        "print(3 >= 7)\n",
        "print(7 >= 7)\n",
        "\n",
        "\n",
        "# < Operador mayor que. Compara dos valores y retorna un valor boleano entre True o False\n",
        "print(\"\\nMenor o igual que\")\n",
        "print(7 <= 3)\n",
        "print(3 <= 7)\n",
        "print(7 <= 7)"
      ],
      "metadata": {
        "colab": {
          "base_uri": "https://localhost:8080/"
        },
        "id": "vAzEGLr9MBui",
        "outputId": "aefea0b8-2f7a-4a21-aa38-d8cd2b1a2e18"
      },
      "execution_count": null,
      "outputs": [
        {
          "output_type": "stream",
          "name": "stdout",
          "text": [
            "Mayor que\n",
            "True\n",
            "False\n",
            "False\n",
            "Menor que\n",
            "False\n",
            "True\n",
            "False\n",
            "Mayor que o igual\n",
            "True\n",
            "False\n",
            "True\n",
            "Menor o igual que\n",
            "False\n",
            "True\n",
            "True\n"
          ]
        }
      ]
    },
    {
      "cell_type": "code",
      "source": [
        "# == Operador de igualdad. Compara dos valores y retorna un valor boleano entre True o False dependiendo si los valores son o no de mismo valor numérico\n",
        "print(\"Igualdad\")\n",
        "print(7 == 3)\n",
        "print(7 == 7)\n",
        "\n",
        "# == Operador diferente de. Compara dos valores y retorna un valor boleano entre True o False dependiendo si los valores son o no de mismo valor numérico\n",
        "print(\"Diferente de\")\n",
        "print(7 != 3)\n",
        "print(7 != 7)\n"
      ],
      "metadata": {
        "colab": {
          "base_uri": "https://localhost:8080/"
        },
        "id": "bwle5bgihWDx",
        "outputId": "8dca07c1-4d9e-4487-d782-92b5b0d5bae5"
      },
      "execution_count": null,
      "outputs": [
        {
          "output_type": "stream",
          "name": "stdout",
          "text": [
            "Igualdad\n",
            "False\n",
            "True\n",
            "Diferente de\n",
            "True\n",
            "False\n"
          ]
        }
      ]
    },
    {
      "cell_type": "code",
      "source": [
        "print(\"Igualdad en strings\")\n",
        "print(\"Coco\" == \"Coco\") # Se pueden comparar otros tipos de dato, no solamente numérico.\n",
        "print(\"Coco\" == \"coco\")\n",
        "\n",
        "print(\"\\nDiferente de en strings\")\n",
        "print(\"Coco\" != \"Coco\") # Se pueden comparar otros tipos de dato, no solamente numérico.\n",
        "print(\"Coco\" != \"coco\")\n",
        "\n",
        "print(\"\\nDiferente de en strings\")\n",
        "print(1 != \"1\") # Los valores a compara deben ser el mismo tipo de dato para que sus valores sean iguales y el resultado pueda ser True\n",
        "print(1 != 1)\n",
        "print(\"1\" != \"1\")\n"
      ],
      "metadata": {
        "colab": {
          "base_uri": "https://localhost:8080/"
        },
        "id": "ZZ3ZpPDrisWz",
        "outputId": "b21fb9d2-0d77-4945-deba-f6008ea510a8"
      },
      "execution_count": null,
      "outputs": [
        {
          "output_type": "stream",
          "name": "stdout",
          "text": [
            "Igualdad en strings\n",
            "True\n",
            "False\n",
            "\n",
            "Diferente de en strings\n",
            "False\n",
            "True\n",
            "\n",
            "Diferente de en strings\n",
            "True\n",
            "False\n",
            "False\n"
          ]
        }
      ]
    },
    {
      "cell_type": "markdown",
      "source": [
        "#Comparación con números flotantes"
      ],
      "metadata": {
        "id": "pG4rhV2clCir"
      }
    },
    {
      "cell_type": "code",
      "source": [
        "x = 3.3\n",
        "y = 1.1 + 2.2\n",
        "\n",
        "print(x)\n",
        "print(y)\n",
        "print(x + y)\n",
        "\n",
        "print(\"\\nComparación entre valores flotantes teniendo en cuenta la precisión\")\n",
        "print(x == y) # La precisón que maneja python en la computadora hace que los valores flotantes sean diferentes.\n",
        "\n",
        "y_str = format(y, \"2g\") # Se puede tranformar el valor de y a un string y recortar decimales, es decir quitar precisión.\n",
        "print(\"\\nValor guardado al convertir en string y quitar la precisión\")\n",
        "print(y_str)  # El valor queda sin la precisón, sin embargo queda guardado como un tipo string y no se puede operar matemáticamente con un número entero.\n",
        "\n",
        "print(\"\\nComparación entre valores basados en string\")\n",
        "print(y_str == str(x)) # Compara los valores en términos de string, no es un forma matemática de hacer una comparación y no permite que sus valores sean operados.\n",
        "\n",
        "tolerance = 0.00001\n",
        "print(abs(x -y) < tolerance)  # Esta forma permite hacer la comparación matemática teniendo en cuenta una tolerancia en el margen de precisión."
      ],
      "metadata": {
        "colab": {
          "base_uri": "https://localhost:8080/"
        },
        "id": "SyPNL6BMlBhD",
        "outputId": "7b6cb738-b921-4e46-a45e-5b557c1be22e"
      },
      "execution_count": null,
      "outputs": [
        {
          "output_type": "stream",
          "name": "stdout",
          "text": [
            "3.3\n",
            "3.3000000000000003\n",
            "6.6\n",
            "\n",
            "Comparación entre valores flotantes teniendo en cuenta la precisión\n",
            "False\n",
            "\n",
            "Valor guardado al convertir en string y quitar la precisión\n",
            "3.3\n",
            "\n",
            "Comparación entre valores basados en string\n",
            "True\n",
            "True\n"
          ]
        }
      ]
    },
    {
      "cell_type": "markdown",
      "source": [
        "#Operadores lógicos: and y or"
      ],
      "metadata": {
        "id": "wYmjikYfwQOd"
      }
    },
    {
      "cell_type": "code",
      "source": [
        "# and, es un operador que solo da verdadero cuando todas las entradas son True\n",
        "print(\"Tabla de verdad AND\")\n",
        "print(\"True and True: \\t\\t\", True and True)\n",
        "print(\"True and False: \\t\", True and False)\n",
        "print(\"False and True: \\t\", False and True)\n",
        "print(\"False and False: \\t\", False and False)\n",
        "\n",
        "print(\"\\nComparando valores booleanos a partir de valores numéricos\")\n",
        "print(10 > 5 and 5 < 10) # El primer valor da True y el segunto True\n",
        "print(10 > 5 and 5 > 10) # El primer valor da True y el segunto False"
      ],
      "metadata": {
        "colab": {
          "base_uri": "https://localhost:8080/"
        },
        "id": "HYIP4VLXjPXX",
        "outputId": "6d644fbb-47e7-4d5b-9e1b-e2af4e4f0a02"
      },
      "execution_count": null,
      "outputs": [
        {
          "output_type": "stream",
          "name": "stdout",
          "text": [
            "Tabla de verdad AND\n",
            "True and True: \t\t True\n",
            "True and False: \t False\n",
            "False and True: \t False\n",
            "False and False: \t False\n",
            "\n",
            "Comparando valores booleanos a partir de valores numéricos\n",
            "True\n",
            "False\n"
          ]
        }
      ]
    },
    {
      "cell_type": "code",
      "source": [
        "stock = int(input(\"Ingrese el número en stock: \"))\n",
        "\n",
        "print(stock >= 100 and stock <= 1000) # Esta operación limita el valor el stock y le dice al usuario si el valor ingresado es valido para ingresar al stock, da como resultado un valor booleano."
      ],
      "metadata": {
        "colab": {
          "base_uri": "https://localhost:8080/"
        },
        "id": "qWxXI30Uw_8d",
        "outputId": "8b0ff000-bc27-4edc-eb16-f74143156c31"
      },
      "execution_count": null,
      "outputs": [
        {
          "output_type": "stream",
          "name": "stdout",
          "text": [
            "Ingrese el número en stock: 10\n",
            "False\n"
          ]
        }
      ]
    },
    {
      "cell_type": "code",
      "source": [
        "# or, es un operador que solo da verdadero cuando al menos una de las entradas son True\n",
        "print(\"Tabla de verdad OR\")\n",
        "print(\"True or True: \\t\",True or True)\n",
        "print(\"True or False \\t\",True or False)\n",
        "print(\"False or True \\t\",False or True)\n",
        "print(\"False or False \\t\",False or False)\n",
        "\n",
        "print(\"\\nComparando valores booleanos a partir de valores numéricos\")\n",
        "print(10 < 5 or 5 > 10) # El primer valor da False y el segunto False\n",
        "print(10 > 5 or 5 > 10) # El primer valor da True y el segunto False"
      ],
      "metadata": {
        "colab": {
          "base_uri": "https://localhost:8080/"
        },
        "id": "KMIpjv-Dxz9u",
        "outputId": "2eeb591d-035f-4042-d0ec-774b96c5a77d"
      },
      "execution_count": null,
      "outputs": [
        {
          "output_type": "stream",
          "name": "stdout",
          "text": [
            "Tabla de verdad OR\n",
            "True or True: \t True\n",
            "True or False \t True\n",
            "False or True \t True\n",
            "False or False \t False\n",
            "\n",
            "Comparando valores booleanos a partir de valores numéricos\n",
            "False\n",
            "True\n"
          ]
        }
      ]
    },
    {
      "cell_type": "code",
      "source": [
        "role = input(\"Digita el rol: \")\n",
        "print(role == \"admin\" or role == \"seller\")  # La salida da verdadero si el valor ingresado coincide con algunos de los dos valores a comparar (admin o seller)"
      ],
      "metadata": {
        "colab": {
          "base_uri": "https://localhost:8080/"
        },
        "id": "3nepC_Nbxz7w",
        "outputId": "8d189839-3fc7-4ad9-c35b-040694ec18a9"
      },
      "execution_count": null,
      "outputs": [
        {
          "output_type": "stream",
          "name": "stdout",
          "text": [
            "Digita el rol: advisor\n",
            "False\n"
          ]
        }
      ]
    },
    {
      "cell_type": "markdown",
      "source": [
        "#Operador lógico not"
      ],
      "metadata": {
        "id": "JY1QOZ-G0xrS"
      }
    },
    {
      "cell_type": "code",
      "source": [
        "# not, este comparador niega el valor booleano y lo transforma a su inverso. Si es False lo transforma a True y viceversa\n",
        "print(\"Tabla de verdad NOT\")\n",
        "print(\"True:\\t\", not True)\n",
        "print(\"False:\\t\", not False)"
      ],
      "metadata": {
        "colab": {
          "base_uri": "https://localhost:8080/"
        },
        "id": "xaeLGo4Ixz5E",
        "outputId": "25a9853c-fd51-4018-ba83-a65b1a03611a"
      },
      "execution_count": null,
      "outputs": [
        {
          "output_type": "stream",
          "name": "stdout",
          "text": [
            "Tabla de verdad NOT\n",
            "True:\t False\n",
            "False:\t True\n"
          ]
        }
      ]
    },
    {
      "cell_type": "code",
      "source": [
        "print(\"Tabla de verdad NOT con AND\")\n",
        "print(\"True and True: \\t\\t\", not(True or True))\n",
        "print(\"True and False: \\t\", not(True or False))\n",
        "print(\"False and True: \\t\", not(False or True))\n",
        "print(\"False and False: \\t\", not(False or False))"
      ],
      "metadata": {
        "colab": {
          "base_uri": "https://localhost:8080/"
        },
        "id": "jtetJbwbxz2d",
        "outputId": "b71cbef9-4a9d-431f-9de4-69976b8b5d31"
      },
      "execution_count": null,
      "outputs": [
        {
          "output_type": "stream",
          "name": "stdout",
          "text": [
            "Tabla de verdad NOT con AND\n",
            "True and True: \t\t False\n",
            "True and False: \t False\n",
            "False and True: \t False\n",
            "False and False: \t True\n"
          ]
        }
      ]
    },
    {
      "cell_type": "code",
      "source": [
        "print(\"Tabla de verdad NOT con OR\")\n",
        "print(\"True or True: \\t\", not(True or True))\n",
        "print(\"True or False \\t\", not(True or False))\n",
        "print(\"False or True \\t\", not(False or True))\n",
        "print(\"False or False \\t\", not(False or False))"
      ],
      "metadata": {
        "colab": {
          "base_uri": "https://localhost:8080/"
        },
        "id": "Wbd2ewquxz0H",
        "outputId": "d3494c66-fe7b-451d-825e-8fa1c81d5235"
      },
      "execution_count": null,
      "outputs": [
        {
          "output_type": "stream",
          "name": "stdout",
          "text": [
            "Tabla de verdad NOT con OR\n",
            "True or True: \t False\n",
            "True or False \t False\n",
            "False or True \t False\n",
            "False or False \t True\n"
          ]
        }
      ]
    },
    {
      "cell_type": "markdown",
      "source": [
        "#Condicionales"
      ],
      "metadata": {
        "id": "O8ZfZxzaCQ2P"
      }
    },
    {
      "cell_type": "code",
      "source": [
        "# if, es una operacion que ejecuta una accion dependiendo si se cumplen las condiciones que le damos\n",
        "if True:  # Cuando esta condición es verdadera, ejecutará las acciones que se le asignen.\n",
        "  print(\"Deberia ejecutarse\")\n",
        "\n",
        "if False: # Cuando esta condición es falsa, nunca va a ejecutas las acciones asignadas.\n",
        "  print(\"Nunca deberia ejecutarse\")"
      ],
      "metadata": {
        "colab": {
          "base_uri": "https://localhost:8080/"
        },
        "id": "rDm_vcJOxzvq",
        "outputId": "fe36d49b-70a2-4a9d-c473-2c9c00fbcc8a"
      },
      "execution_count": null,
      "outputs": [
        {
          "output_type": "stream",
          "name": "stdout",
          "text": [
            "Deberia ejecutarse\n"
          ]
        }
      ]
    },
    {
      "cell_type": "code",
      "source": [
        "# Ejemplo if\n",
        "pet = input(\"Ingresa el tu mascota favorita: \")\n",
        "\n",
        "if pet == \"perro\":\n",
        "  print(\"Que bien, tienes buen gusto\")\n",
        "\n",
        "if pet == \"gato\":\n",
        "  print(\"espero que tengas suerte\")"
      ],
      "metadata": {
        "colab": {
          "base_uri": "https://localhost:8080/"
        },
        "id": "Ox8b4lG_CfFO",
        "outputId": "742557e1-d99e-4769-81c5-558101b5b823"
      },
      "execution_count": null,
      "outputs": [
        {
          "output_type": "stream",
          "name": "stdout",
          "text": [
            "Ingresa el tu mascota favorita: perro\n",
            "Que bien, tienes buen gusto\n"
          ]
        }
      ]
    },
    {
      "cell_type": "code",
      "source": [
        "# else, ejecuta la instruccion en caso de que la primera acción no se cumpla.\n",
        "stock = int(input(\"Digita el stock: \"))\n",
        "\n",
        "if stock >= 100 and stock <= 1000:\n",
        "  print(\"El stock es correcto\")\n",
        "else:   # Si la condición no se cumple, se ejecutará la suguiente acción.\n",
        "  print(\"El stock es incorrecto\")"
      ],
      "metadata": {
        "colab": {
          "base_uri": "https://localhost:8080/"
        },
        "id": "04REDTBsCfCq",
        "outputId": "6661a7e6-7263-42ad-ed77-04d4ea4f6070"
      },
      "execution_count": null,
      "outputs": [
        {
          "name": "stdout",
          "output_type": "stream",
          "text": [
            "Digita el stock: 10\n"
          ]
        }
      ]
    },
    {
      "cell_type": "code",
      "source": [
        "# elif = else if. Es una contracción de los anteriores condicionales y se ejecutara si el primer if no se cumple y van antes de un else final\n",
        "\n",
        "pet = input(\"Ingresa el tu mascota favorita: \")\n",
        "\n",
        "if pet == \"perro\":\n",
        "  print(\"Que bien, tienes buen gusto\")\n",
        "elif pet == \"gato\":\n",
        "  print(\"Espero que tengas suerte\")\n",
        "elif pet == \"pez\":\n",
        "  print(\"Eres lo máximo\")\n",
        "else:\n",
        "  print(\"Veo que no tienes ninguna mascota interesante\")"
      ],
      "metadata": {
        "colab": {
          "base_uri": "https://localhost:8080/"
        },
        "id": "FNIHlOYACfAA",
        "outputId": "49607ea0-d22c-4d00-de4f-49fd6746fefb"
      },
      "execution_count": null,
      "outputs": [
        {
          "output_type": "stream",
          "name": "stdout",
          "text": [
            "Ingresa el tu mascota favorita: pez\n",
            "Eres lo máximo\n"
          ]
        }
      ]
    },
    {
      "cell_type": "code",
      "source": [
        "# Ejercicio números pares\n",
        "\n",
        "par = int(input(\"Ingresa un número: \"))\n",
        "\n",
        "if par % 2 == 0:\n",
        "  print(\"El número ingresado es par\")\n",
        "elif par % 2 != 0:\n",
        "  print(\"El número ingresado es impar\")\n",
        "else:\n",
        "  print(\"Valor ingresado no es válido\")"
      ],
      "metadata": {
        "colab": {
          "base_uri": "https://localhost:8080/"
        },
        "id": "wDE-SQOTCe-e",
        "outputId": "c0ef16c9-2fe8-4c65-b72e-59fbc206644f"
      },
      "execution_count": null,
      "outputs": [
        {
          "output_type": "stream",
          "name": "stdout",
          "text": [
            "Ingresa un número: 3\n",
            "El número ingresado es impar\n"
          ]
        }
      ]
    },
    {
      "cell_type": "markdown",
      "source": [
        "#Proyecto: condicionales"
      ],
      "metadata": {
        "id": "b_pV36vfO2CY"
      }
    },
    {
      "cell_type": "code",
      "source": [
        "# Juego de piedra papel o tijera\n",
        "\n",
        "user_option = input(\"Escoje piedra, papel o tijera: \")\n",
        "compu_option = \"piedra\"\n",
        "\n",
        "print(f\"\\nLa opcion del computador es {compu_option}\")\n",
        "\n",
        "if user_option == compu_option:\n",
        "  print(\"\\nEs empate\")\n",
        "elif user_option == \"piedra\":\n",
        "  if compu_option == \"tijera\":\n",
        "    print(\"\\nPiedra gana a tijera \\nEl usuario ganó\")\n",
        "  else:\n",
        "    print(\"\\nPapel gana a piedra \\nEl computador gana\")\n",
        "elif user_option == \"papel\":\n",
        "  if compu_option == \"tijera\":\n",
        "    print(\"\\nTijera gana a papel \\nEl computador gana\")\n",
        "  else:\n",
        "    print(\"\\nPapel gana a piedra \\nEl usuario ganó\")\n",
        "elif user_option == \"tijera\":\n",
        "  if compu_option == \"papel\":\n",
        "    print(\"\\nTijera gana a papel \\nEl usuario ganó\")\n",
        "  else:\n",
        "    print(\"\\nPiedra gana a tijera \\nEl computador gana\")\n"
      ],
      "metadata": {
        "id": "hRsQk13-Ce6v"
      },
      "execution_count": null,
      "outputs": []
    },
    {
      "cell_type": "markdown",
      "source": [
        "#String recargado\n"
      ],
      "metadata": {
        "id": "BGgH1JZUK7Nn"
      }
    },
    {
      "cell_type": "code",
      "source": [
        "text = \"Ella sabe programar en python\"\n",
        "print(\"JavaScript\" in text) # Busca JavaScript en la frase guardada en text, si esta imprime True sino, False\n",
        "print(\"python\" in text) # Busca python en la frase guardada en text, si esta imprime True sino, False\n",
        "\n",
        "if \"JS\" in text:\n",
        "  print(\"Elegiste JavaScript, que bien\")\n",
        "else:\n",
        "  print(\"Tambien has elegido bien\")\n",
        "\n",
        "size = len(text)  # Mide la longitud de carácteres en la frase guardada en la variable text\n",
        "print(size)"
      ],
      "metadata": {
        "id": "q-NpiBH-Ce3T",
        "colab": {
          "base_uri": "https://localhost:8080/"
        },
        "outputId": "bd86bb8f-3443-4646-848c-c6c93fb6ab35"
      },
      "execution_count": 4,
      "outputs": [
        {
          "output_type": "stream",
          "name": "stdout",
          "text": [
            "False\n",
            "True\n",
            "Tambien has elegido bien\n",
            "29\n"
          ]
        }
      ]
    },
    {
      "cell_type": "code",
      "source": [
        "# Trabajar con métodos\n",
        "\n",
        "print(text, text.upper()) # El método upper convierte en mayúsculas los caracteres de un string\n",
        "print(text, text.lower()) # El método lower convierte en minúscilas los caracteres de un string\n",
        "print(text, text.count(\"a\")) # El método count cuenta las veces que se repite un carácter o carácteres en una cadena de carácteres\n",
        "\n",
        "print(\"\\n\",text, text.swapcase()) # El método swapcase convierte en mayúsculas los carácteres en minúsculas y viceversa\n",
        "print(text, text.startswith(\"Ella\")) # El método startwith pregunta si la frase guardada inicia con una palabra o caráter especificado en el argumento\n",
        "print(text, text.endswith(\"Rust\")) # El método endwith pregunta si la frase guardada termina con una palabra o caráter especificado en el argumento\n",
        "print(text, text.replace(\"python\", \"Go\")) # El método replace reemplaza los carácteres especificado en el argumento"
      ],
      "metadata": {
        "colab": {
          "base_uri": "https://localhost:8080/"
        },
        "id": "TqlPXD5JLbmy",
        "outputId": "fe714a30-cb85-4e4c-cc83-352d30ae3255"
      },
      "execution_count": 18,
      "outputs": [
        {
          "output_type": "stream",
          "name": "stdout",
          "text": [
            "Ella sabe programar en python ELLA SABE PROGRAMAR EN PYTHON\n",
            "Ella sabe programar en python ella sabe programar en python\n",
            "Ella sabe programar en python 4\n",
            "\n",
            " Ella sabe programar en python eLLA SABE PROGRAMAR EN PYTHON\n",
            "Ella sabe programar en python True\n",
            "Ella sabe programar en python False\n",
            "Ella sabe programar en python Ella sabe programar en Go\n"
          ]
        }
      ]
    },
    {
      "cell_type": "code",
      "source": [
        "text_2 = \"este es un titulo\"\n",
        "\n",
        "print(text_2, text_2.capitalize())  # El método capitalize cambia a mayúscula el primer carácter del texto\n",
        "print(text_2, text_2.title())  # El método title cambia a mayúscula el primer carácter de cada palabra del texto\n",
        "print(text_2, text_2.isdigit())  # El método isdigit pregunta si el contenido de la variable es un dígito\n",
        "print(\"2323\".isdigit())  # El método isdigit pregunta si el contenido de la variable es un dígito\n"
      ],
      "metadata": {
        "colab": {
          "base_uri": "https://localhost:8080/"
        },
        "id": "JEbJRzVUMsW0",
        "outputId": "e8f7f314-16f0-4b17-99ac-08aba24d2653"
      },
      "execution_count": 24,
      "outputs": [
        {
          "output_type": "stream",
          "name": "stdout",
          "text": [
            "este es un titulo Este es un titulo\n",
            "este es un titulo Este Es Un Titulo\n",
            "este es un titulo False\n",
            "True\n"
          ]
        }
      ]
    },
    {
      "cell_type": "code",
      "source": [
        "# Juego de piedra papel o tijera con modificación para transformación en minúsculas\n",
        "\n",
        "user_option = input(\"Escoje piedra, papel o tijera: \")\n",
        "compu_option = \"piedra\"\n",
        "\n",
        "user_option = user_option.lower()\n",
        "\n",
        "print(f\"\\nLa opcion del computador es {compu_option}\")\n",
        "\n",
        "if user_option == compu_option:\n",
        "  print(\"\\nEs empate\")\n",
        "elif user_option == \"piedra\":\n",
        "  if compu_option == \"tijera\":\n",
        "    print(\"\\nPiedra gana a tijera \\nEl usuario ganó\")\n",
        "  else:\n",
        "    print(\"\\nPapel gana a piedra \\nEl computador gana\")\n",
        "elif user_option == \"papel\":\n",
        "  if compu_option == \"tijera\":\n",
        "    print(\"\\nTijera gana a papel \\nEl computador gana\")\n",
        "  else:\n",
        "    print(\"\\nPapel gana a piedra \\nEl usuario ganó\")\n",
        "elif user_option == \"tijera\":\n",
        "  if compu_option == \"papel\":\n",
        "    print(\"\\nTijera gana a papel \\nEl usuario ganó\")\n",
        "  else:\n",
        "    print(\"\\nPiedra gana a tijera \\nEl computador gana\")"
      ],
      "metadata": {
        "colab": {
          "base_uri": "https://localhost:8080/"
        },
        "id": "QK9BU_kaQgHr",
        "outputId": "a8326d39-c649-4e03-d25a-b3fb1f50437c"
      },
      "execution_count": 27,
      "outputs": [
        {
          "output_type": "stream",
          "name": "stdout",
          "text": [
            "Escoje piedra, papel o tijera: PIEDRA\n",
            "\n",
            "La opcion del computador es piedra\n",
            "\n",
            "Es empate\n"
          ]
        }
      ]
    },
    {
      "cell_type": "markdown",
      "source": [
        "#Indexing y slicing"
      ],
      "metadata": {
        "id": "0MHhqrHCSdZF"
      }
    },
    {
      "cell_type": "code",
      "source": [],
      "metadata": {
        "id": "KYO5ZRzfR5iK"
      },
      "execution_count": 26,
      "outputs": []
    }
  ]
}