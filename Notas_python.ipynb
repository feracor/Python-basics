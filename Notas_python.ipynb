{
  "nbformat": 4,
  "nbformat_minor": 0,
  "metadata": {
    "colab": {
      "provenance": [],
      "authorship_tag": "ABX9TyM6KgM/OduEyMB6D8IQUK33",
      "include_colab_link": true
    },
    "kernelspec": {
      "name": "python3",
      "display_name": "Python 3"
    },
    "language_info": {
      "name": "python"
    }
  },
  "cells": [
    {
      "cell_type": "markdown",
      "metadata": {
        "id": "view-in-github",
        "colab_type": "text"
      },
      "source": [
        "<a href=\"https://colab.research.google.com/github/feracor/Python-basics/blob/main/Notas_python.ipynb\" target=\"_parent\"><img src=\"https://colab.research.google.com/assets/colab-badge.svg\" alt=\"Open In Colab\"/></a>"
      ]
    },
    {
      "cell_type": "markdown",
      "source": [
        "#Imprimir"
      ],
      "metadata": {
        "id": "POS-3mvOGZ5F"
      }
    },
    {
      "cell_type": "code",
      "execution_count": 1,
      "metadata": {
        "colab": {
          "base_uri": "https://localhost:8080/"
        },
        "id": "yOphWiw_lkbH",
        "outputId": "92190c62-dd02-4624-e4b2-36f05ffbc7f9"
      },
      "outputs": [
        {
          "output_type": "stream",
          "name": "stdout",
          "text": [
            "Hola Mundo\n"
          ]
        }
      ],
      "source": [
        "print('Hola Mundo')"
      ]
    },
    {
      "cell_type": "markdown",
      "source": [
        "#Variables"
      ],
      "metadata": {
        "id": "pBS5aV4obuY5"
      }
    },
    {
      "cell_type": "code",
      "source": [
        "#Variables\n",
        "\n",
        "my_name='Fernando'\n",
        "print(my_name)\n",
        "\n",
        "my_age=32\n",
        "print(my_age)\n",
        "\n",
        "my_name=\"Acevedo\"\n",
        "print(\"Acá cambia el contenido de la variable y, ahora es:\",my_name)\n",
        "\n",
        "#input: Pemite al usuario ingresar los valores que se van a guardar en la variable\n",
        "my_name=input(\"¿Cuál es tu nombre?: \")\n",
        "print(\"Gusto en conocerte,\",my_name)"
      ],
      "metadata": {
        "id": "ACoZMjFxl5hI",
        "colab": {
          "base_uri": "https://localhost:8080/"
        },
        "outputId": "661abe39-e8b7-4835-b343-aca789397be5"
      },
      "execution_count": null,
      "outputs": [
        {
          "output_type": "stream",
          "name": "stdout",
          "text": [
            "Fernando\n",
            "32\n",
            "Acá cambia el contenido de la variable y, ahora es: Acevedo\n",
            "¿Cuál es tu nombre?: p\n",
            "Gusto en conocerte, p\n"
          ]
        }
      ]
    },
    {
      "cell_type": "code",
      "source": [
        "text = 2\n",
        "print(text)"
      ],
      "metadata": {
        "colab": {
          "base_uri": "https://localhost:8080/"
        },
        "id": "VNAqVB3ealQu",
        "outputId": "83637b8c-428c-4538-f6f4-4d9fcd0307ae"
      },
      "execution_count": null,
      "outputs": [
        {
          "output_type": "stream",
          "name": "stdout",
          "text": [
            "2\n"
          ]
        }
      ]
    },
    {
      "cell_type": "markdown",
      "source": [
        "#Tipos de datos"
      ],
      "metadata": {
        "id": "8P101o0YCW6B"
      }
    },
    {
      "cell_type": "code",
      "source": [
        "#String - Cadena de texto\n",
        "\n",
        "my_name1=\"Fernando1\"\n",
        "my_name2='Fernando2'\n",
        "\n",
        "print(my_name1, my_name2)\n",
        "print(type(my_name1))"
      ],
      "metadata": {
        "colab": {
          "base_uri": "https://localhost:8080/"
        },
        "id": "qMLiRSczCapz",
        "outputId": "66f1c843-6706-4071-ee66-d05f166dd0da"
      },
      "execution_count": null,
      "outputs": [
        {
          "output_type": "stream",
          "name": "stdout",
          "text": [
            "Fernando1 Fernando2\n",
            "<class 'str'>\n"
          ]
        }
      ]
    },
    {
      "cell_type": "code",
      "source": [
        "#int - Número entero\n",
        "my_age=32\n",
        "\n",
        "print(my_age)\n",
        "print(type(my_age))"
      ],
      "metadata": {
        "colab": {
          "base_uri": "https://localhost:8080/"
        },
        "id": "VEIlaYxuDApU",
        "outputId": "9207a538-e3c9-4a94-bcd5-23c9d3d943e6"
      },
      "execution_count": null,
      "outputs": [
        {
          "output_type": "stream",
          "name": "stdout",
          "text": [
            "32\n",
            "<class 'int'>\n"
          ]
        }
      ]
    },
    {
      "cell_type": "code",
      "source": [
        "#boolean - Valores boleanos, corresponden a 1 ó 0, verdadero ó falso\n",
        "\n",
        "is_single = True # El valor booleano debe iniciar con mayúscula\n",
        "is_not_single = False\n",
        "\n",
        "print(\"El valor single es:\", is_single, \"y el valor not single is:\", is_not_single )\n",
        "\n",
        "print(type(is_single))\n",
        "print(type(is_not_single))\n"
      ],
      "metadata": {
        "colab": {
          "base_uri": "https://localhost:8080/"
        },
        "id": "Dux_V8TaDo_c",
        "outputId": "9a37fc24-876b-4539-bdcf-bce8582c8009"
      },
      "execution_count": null,
      "outputs": [
        {
          "output_type": "stream",
          "name": "stdout",
          "text": [
            "El valor single es: True y el valor not single is: False\n",
            "<class 'bool'>\n",
            "<class 'bool'>\n"
          ]
        }
      ]
    },
    {
      "cell_type": "code",
      "source": [
        "my_age = input(\"¿Cúal es tu edad? \") #inputs - Permiten capturar valores del usuario y guardarlos en las variables.\n",
        "print(\"Tu edad es: \", my_age) # Imprime el valor suministrado por el usuario\n",
        "print(type(my_age)) #Imprime el tipo de dato."
      ],
      "metadata": {
        "colab": {
          "base_uri": "https://localhost:8080/"
        },
        "id": "E73ZdsadEt9-",
        "outputId": "a2e51a20-96ac-47bb-dea7-e2cdb5614fb8"
      },
      "execution_count": null,
      "outputs": [
        {
          "output_type": "stream",
          "name": "stdout",
          "text": [
            "¿Cúal es tu edad? 2\n",
            "Tu edad es:  2\n",
            "<class 'str'>\n"
          ]
        }
      ]
    },
    {
      "cell_type": "markdown",
      "source": [
        "#Strings"
      ],
      "metadata": {
        "id": "19iF23JbGP_b"
      }
    },
    {
      "cell_type": "code",
      "source": [
        "name=\"Fernando\"\n",
        "last_name=\"Acevedo\"\n",
        "\n",
        "print(name, last_name) # Imprime una frase con concatenacion que deja un espacio entre las variables"
      ],
      "metadata": {
        "id": "7ti2tVtTFciM",
        "colab": {
          "base_uri": "https://localhost:8080/"
        },
        "outputId": "400bc62b-0ee6-44fe-e06e-bac07f8e2443"
      },
      "execution_count": null,
      "outputs": [
        {
          "output_type": "stream",
          "name": "stdout",
          "text": [
            "Fernando Acevedo\n"
          ]
        }
      ]
    },
    {
      "cell_type": "code",
      "source": [
        "full_name=name + \" \" + last_name # Concatenación para que pueda queda con un espacio entre las variable concatenadas\n",
        "\n",
        "print(full_name)"
      ],
      "metadata": {
        "colab": {
          "base_uri": "https://localhost:8080/"
        },
        "id": "vUZaKX7mnIZw",
        "outputId": "a2639d29-a2c9-470b-dfc2-90ac32111e1f"
      },
      "execution_count": null,
      "outputs": [
        {
          "output_type": "stream",
          "name": "stdout",
          "text": [
            "Fernando Acevedo\n"
          ]
        }
      ]
    },
    {
      "cell_type": "code",
      "source": [
        "quote1 = \"I'm Fernando\" # Se alternan las comillas simple con dobles para que no haya interferencia con la sintaxis de Python\n",
        "quote2 = 'She said \"Hello\"' # Se alternan las comillas simple con dobles para que no haya interferencia con la sintaxis de Python\n",
        "\n",
        "print(quote1)\n",
        "print(quote2)"
      ],
      "metadata": {
        "colab": {
          "base_uri": "https://localhost:8080/"
        },
        "id": "pw0EtlSNn08T",
        "outputId": "e2e85030-9bd0-45ab-c452-df6968264fd9"
      },
      "execution_count": null,
      "outputs": [
        {
          "output_type": "stream",
          "name": "stdout",
          "text": [
            "I'm Fernando\n",
            "She said \"Hello\"\n"
          ]
        }
      ]
    },
    {
      "cell_type": "code",
      "source": [
        "#format\n",
        "\n",
        "age = \"32\"\n",
        "\n",
        "template1 = \"Hola, mi nombre es \" + name + \", mi apellido es \" + last_name + \" y mi edad es \" + age # Se pueden guardar variables dentro de una variable y con texto nuevo. Tener en cuenta poner espacios.\n",
        "\n",
        "print(template1)\n",
        "\n",
        "template2 = \"Hola, mi nombre es {}, mi apellido es {} y mi edad es {}.\".format(name, last_name, age) # Con la funcion format se puede reemplazar el contenido de las llaves {} con las variables llamadas en la función.\n",
        "\n",
        "print(template2)\n",
        "\n",
        "template3 = f\"Hola, mi nombre es {name}, mi apellido es {last_name} y mi edad es {age}.\" # Se usa la letra f al comienzo y dentro de las llaves se ingresa la variable. Este es un formato mas común en Python.\n",
        "\n",
        "print(template3)"
      ],
      "metadata": {
        "colab": {
          "base_uri": "https://localhost:8080/"
        },
        "id": "NnRAilropJCT",
        "outputId": "6cf141a3-188f-4d6d-829d-d93d70b0a0e2"
      },
      "execution_count": null,
      "outputs": [
        {
          "output_type": "stream",
          "name": "stdout",
          "text": [
            "Hola, mi nombre es Fernando, mi apellido es Acevedo y mi edad es 32\n",
            "Hola, mi nombre es Fernando, mi apellido es Acevedo y mi edad es 32.\n",
            "Hola, mi nombre es Fernando, mi apellido es Acevedo y mi edad es 32.\n"
          ]
        }
      ]
    },
    {
      "cell_type": "markdown",
      "source": [
        "#Numbers"
      ],
      "metadata": {
        "id": "fzHbdtJdAP30"
      }
    },
    {
      "cell_type": "code",
      "source": [
        "lives = 3 #Los valores enteros no usan comillas\n",
        "print(type(lives))#Imprimir el tipo de dato\n",
        "age = 32\n",
        "budget = 100"
      ],
      "metadata": {
        "id": "ei0KG856ARrb",
        "outputId": "f8ccca22-d7b8-4aca-bdc6-62508cf232e9",
        "colab": {
          "base_uri": "https://localhost:8080/"
        }
      },
      "execution_count": null,
      "outputs": [
        {
          "output_type": "stream",
          "name": "stdout",
          "text": [
            "<class 'int'>\n"
          ]
        }
      ]
    },
    {
      "cell_type": "code",
      "source": [
        "temperature = 16.23 #Se pueden almacenar números con decimales, se guardan como tipo flotante\n",
        "print(type(temperature))"
      ],
      "metadata": {
        "id": "2mRQG7hzAd8a",
        "outputId": "0fb0159b-6559-477c-adf0-6138513c76b1",
        "colab": {
          "base_uri": "https://localhost:8080/"
        }
      },
      "execution_count": null,
      "outputs": [
        {
          "output_type": "stream",
          "name": "stdout",
          "text": [
            "<class 'float'>\n"
          ]
        }
      ]
    },
    {
      "cell_type": "code",
      "source": [
        "lives = 2 #Primera asignación de valores en la variable \"lives\"\n",
        "\n",
        "print(lives)\n",
        "\n",
        "lives = 1#Segunda asignación de valores en la variable \"lives\"\n",
        "\n",
        "print(lives)"
      ],
      "metadata": {
        "id": "sAVj7K2VBHce",
        "outputId": "f971b323-c986-4f3c-dd65-911d5a7d2c81",
        "colab": {
          "base_uri": "https://localhost:8080/"
        }
      },
      "execution_count": null,
      "outputs": [
        {
          "output_type": "stream",
          "name": "stdout",
          "text": [
            "2\n",
            "1\n"
          ]
        }
      ]
    },
    {
      "cell_type": "code",
      "source": [
        "lives = 2+1 #se pueden hacer operaciones y guardar el resultado en la varaible\n",
        "print(lives)"
      ],
      "metadata": {
        "id": "wJ3fCnZ1BoDX",
        "outputId": "23cbf346-90a0-4516-9b7c-f547754a0482",
        "colab": {
          "base_uri": "https://localhost:8080/"
        }
      },
      "execution_count": null,
      "outputs": [
        {
          "output_type": "stream",
          "name": "stdout",
          "text": [
            "3\n"
          ]
        }
      ]
    },
    {
      "cell_type": "code",
      "source": [
        "lives = lives - 1 # Decrementa la cantidad que hay en lives en una unidad y el resuldado lo guarda en lives.\n",
        "print(lives)\n",
        "\n",
        "lives -= 1 #Esta es una forma simplificada para hacer operaciones con una variable y que el resultado se guarde en la misma variable, acá se hace un decremento en una unidad.\n",
        "print(lives)\n",
        "\n",
        "lives += 2 #Esta es una forma simplificada para hacer operaciones con una variable y que el resultado se guarde en la misma variable, acá se hace un incremento en dos unidades.\n",
        "print(lives)"
      ],
      "metadata": {
        "id": "NJLd6UCvB1HC",
        "outputId": "22d064af-b1fd-4dea-fbfd-0441d491d27c",
        "colab": {
          "base_uri": "https://localhost:8080/"
        }
      },
      "execution_count": null,
      "outputs": [
        {
          "output_type": "stream",
          "name": "stdout",
          "text": [
            "2\n",
            "1\n",
            "3\n"
          ]
        }
      ]
    },
    {
      "cell_type": "code",
      "source": [
        "number = 36500000000000000000000.1 #Este valor puede ser guardado en la variable, y visualizado como notación científica.\n",
        "print(number)\n",
        "\n",
        "number = 0.0000000000000000002 #Este valor puede ser guardado en la variable, y visualizado como notación científica.\n",
        "print(number)"
      ],
      "metadata": {
        "id": "KHVqhGtiCXtj",
        "outputId": "b5e7596f-46b4-4e5b-e974-02bc4c9cfb19",
        "colab": {
          "base_uri": "https://localhost:8080/"
        }
      },
      "execution_count": null,
      "outputs": [
        {
          "output_type": "stream",
          "name": "stdout",
          "text": [
            "3.65e+22\n",
            "2e-19\n"
          ]
        }
      ]
    },
    {
      "cell_type": "code",
      "source": [
        "#Calculo de presupuesto\n",
        "\n",
        "enero = 515000\n",
        "febrero = 485000\n",
        "marzo = 560000\n",
        "\n",
        "presupuesto = (enero + febrero + marzo)/3 #Se promedia el presupuesto de los tres meses.\n",
        "\n",
        "print(presupuesto)\n",
        "print(type(presupuesto))"
      ],
      "metadata": {
        "id": "GFmdvDMSC-8E",
        "outputId": "5c5d1060-d738-4385-ade7-91953c23180f",
        "colab": {
          "base_uri": "https://localhost:8080/"
        }
      },
      "execution_count": null,
      "outputs": [
        {
          "output_type": "stream",
          "name": "stdout",
          "text": [
            "520000.0\n",
            "<class 'float'>\n"
          ]
        }
      ]
    },
    {
      "cell_type": "code",
      "source": [],
      "metadata": {
        "id": "xxPgaRFRDt7B"
      },
      "execution_count": null,
      "outputs": []
    },
    {
      "cell_type": "markdown",
      "source": [
        "#Boolens"
      ],
      "metadata": {
        "id": "1EErLq9z6UY5"
      }
    },
    {
      "cell_type": "code",
      "source": [
        "# los valores booleanos solo tienen dos valores: Falso y verdadero\n",
        "\n",
        "is_single = True # los valores booleanos son asignados comenzando con una mayúscula\n",
        "\n",
        "print(is_single)\n",
        "print(type(is_single))\n",
        "\n",
        "is_single = False # los valores booleanos son asignados comenzando con una mayúscula\n",
        "\n",
        "print(is_single)"
      ],
      "metadata": {
        "id": "ueGZmb476WRj",
        "outputId": "4346b358-bec8-4b7a-e38c-3a40de590914",
        "colab": {
          "base_uri": "https://localhost:8080/"
        }
      },
      "execution_count": null,
      "outputs": [
        {
          "output_type": "stream",
          "name": "stdout",
          "text": [
            "True\n",
            "<class 'bool'>\n",
            "False\n"
          ]
        }
      ]
    },
    {
      "cell_type": "code",
      "source": [
        "print(not True) # Se puede negar la salida e imprimirla en una misma línea al usar not\n",
        "print(not False)\n",
        "\n",
        "print(is_single)  # Valor en la variable antes de invertir su valor\n",
        "\n",
        "is_single = not is_single # El valor contenido en la variable puede ser cambiado al agregar la palabra reservada \"not\" y guardarla en la misma variable\n",
        "\n",
        "print(is_single)  # Valor en la variable despues de invertir su valor"
      ],
      "metadata": {
        "id": "tEd44PXH62kx",
        "outputId": "30439e37-07e4-4715-e41b-53efc4575b09",
        "colab": {
          "base_uri": "https://localhost:8080/"
        }
      },
      "execution_count": null,
      "outputs": [
        {
          "output_type": "stream",
          "name": "stdout",
          "text": [
            "False\n",
            "True\n",
            "False\n",
            "True\n"
          ]
        }
      ]
    },
    {
      "cell_type": "code",
      "source": [],
      "metadata": {
        "id": "b9qiFQLL7UBz"
      },
      "execution_count": null,
      "outputs": []
    },
    {
      "cell_type": "markdown",
      "source": [
        "#Transformación de tipos"
      ],
      "metadata": {
        "id": "rz8hvyS7LXZB"
      }
    },
    {
      "cell_type": "code",
      "source": [
        "name = \"Fernando\"\n",
        "\n",
        "print(type(name))\n",
        "\n",
        "name = 12 # De forma dinámica es posible hacer el cambio del tipo de variable\n",
        "\n",
        "print(type(name))\n",
        "\n",
        "name = True\n",
        "\n",
        "print(type(name))"
      ],
      "metadata": {
        "colab": {
          "base_uri": "https://localhost:8080/"
        },
        "id": "enZHd-WWLa-b",
        "outputId": "1ee96b6a-6841-4c56-9047-dc9747211787"
      },
      "execution_count": null,
      "outputs": [
        {
          "output_type": "stream",
          "name": "stdout",
          "text": [
            "<class 'str'>\n",
            "<class 'int'>\n",
            "<class 'bool'>\n"
          ]
        }
      ]
    },
    {
      "cell_type": "code",
      "source": [
        "print(\"Fernando \" + \"Acevedo\") # Esta es una concatenación con carácteres\n",
        "\n",
        "print(20 + 12) # Esta es una suma entre enteros\n",
        "\n",
        "#print(\"Fernando\" + 12) # No se pueden concatenar diferentes tipos de datos y arroja error cuando se utiliza este formato de impresión\n",
        "print(\"Fernando \" + \"32\") # Se pueden concatenar mismos tipos de datos, en este caso el 12 es considerado un string"
      ],
      "metadata": {
        "colab": {
          "base_uri": "https://localhost:8080/"
        },
        "id": "c3hkGOEzLqUm",
        "outputId": "e4aab758-730b-48e1-b8a0-80da2ca83c3e"
      },
      "execution_count": null,
      "outputs": [
        {
          "output_type": "stream",
          "name": "stdout",
          "text": [
            "Fernando Acevedo\n",
            "32\n",
            "Fernando 32\n"
          ]
        }
      ]
    },
    {
      "cell_type": "code",
      "source": [
        "age = 32\n",
        "\n",
        "print(\"Mi edad es \" + str(age)) # En este tipo de concatenación permite hacer la tranformación de tipo de dato de la variable a mostrar en la impresión\n",
        "\n",
        "print(f\"Mi edad es {age}\")  # Este tipo de formato permite hacer una concatenación sin realizar una transformación previa del formato de alguna de las variables"
      ],
      "metadata": {
        "colab": {
          "base_uri": "https://localhost:8080/"
        },
        "id": "yKUZdu5pMB5S",
        "outputId": "17d194f6-832b-45fd-b6c0-3fdafe805397"
      },
      "execution_count": null,
      "outputs": [
        {
          "output_type": "stream",
          "name": "stdout",
          "text": [
            "Mi edad es 32\n",
            "Mi edad es 32\n"
          ]
        }
      ]
    },
    {
      "cell_type": "code",
      "source": [
        "age = input(\"Escribe tu edad y presiona Enter: \") # El valor guardado en la variable al usar el método input, es por defecto un string. Para que esta transformación funcione, el usuario debe ingresar un número entero.\n",
        "print(\"Antes de la tranformación el tipo de dato es: \",type(age))\n",
        "\n",
        "age = int(age)  # Se puede realizar la transformación de tipo de variable y guardarla en la misma\n",
        "age +=10  # Depues de hacer la tranformación se puede operar como un entero\n",
        "\n",
        "print(\"Despues de la tranformación el tipo de dato es: \", type(age))  # Verifica el tipo de dato despues de la transformción\n",
        "\n",
        "print(f\"Tu edad en 10 años será: {age}\")\n"
      ],
      "metadata": {
        "colab": {
          "base_uri": "https://localhost:8080/"
        },
        "id": "5PMAwztbMB2x",
        "outputId": "e43f2708-269e-48bd-88cd-07a955c78183"
      },
      "execution_count": null,
      "outputs": [
        {
          "output_type": "stream",
          "name": "stdout",
          "text": [
            "Escribe tu edad y presiona Enter: 21\n",
            "Antes de la tranformación el tipo de dato es:  <class 'str'>\n",
            "Despues de la tranformación el tipo de dato es:  <class 'int'>\n",
            "Tu edad en 10 años será: 31\n"
          ]
        }
      ]
    },
    {
      "cell_type": "markdown",
      "source": [
        "#Operadores ariméticos"
      ],
      "metadata": {
        "id": "POUok4ExSs75"
      }
    },
    {
      "cell_type": "code",
      "source": [
        "print(\"Suma\",10 + 10)  # Sumar enteros\n",
        "print(\"Resta\",10 - 10)  # Restar enteros\n",
        "print(\"Multiplicar\",10 * 10)  # Multiplicar enteros\n",
        "print(\"Dividir\",10 / 10)  # Dividir enteros\n",
        "print(\"Módulo\",10 % 3)  # Operación módulo, muestra el residuo de una división\n",
        "print(\"Entero de división\",10 // 3)  # Dividir enteros y no arroja la parte entera del resultado\n",
        "print(\"Exponencial\",10 ** 10)  # Elevar un número\n",
        "\n",
        "print(\"Fernando \"+ \"Acevedo\")  # Concatenar strings\n",
        "print(\"Fernando \" * 3)  # Multiplicar o repetir string"
      ],
      "metadata": {
        "colab": {
          "base_uri": "https://localhost:8080/"
        },
        "id": "iIcgc2-vMB0I",
        "outputId": "4e09c3a8-a673-47ac-bc51-2a4d3456c25f"
      },
      "execution_count": null,
      "outputs": [
        {
          "output_type": "stream",
          "name": "stdout",
          "text": [
            "Suma 20\n",
            "Resta 0\n",
            "Multiplicar 100\n",
            "Dividir 1.0\n",
            "Módulo 1\n",
            "Entero de división 3\n",
            "Exponencial 10000000000\n",
            "Fernando Acevedo\n",
            "Fernando Fernando Fernando \n"
          ]
        }
      ]
    },
    {
      "cell_type": "markdown",
      "source": [
        "#Operadores de comparación"
      ],
      "metadata": {
        "id": "rJDvRGZTV_sb"
      }
    },
    {
      "cell_type": "code",
      "source": [
        "# > Operador mayor que. Compara dos valores y retorna un valor boleano entre True o False\n",
        "print(\"Mayor que\")\n",
        "print(7 > 3)\n",
        "print(3 > 7)\n",
        "print(7 > 7)\n",
        "\n",
        "# < Operador menor que. Compara dos valores y retorna un valor boleano entre True o False\n",
        "print(\"\\nMenor que\")\n",
        "print(7 < 3)\n",
        "print(3 < 7)\n",
        "print(7 < 7)\n",
        "\n",
        "# > Operador mayor o igual que. Compara dos valores y retorna un valor boleano entre True o False\n",
        "print(\"\\nMayor que o igual\")\n",
        "print(7 >= 3)\n",
        "print(3 >= 7)\n",
        "print(7 >= 7)\n",
        "\n",
        "\n",
        "# < Operador mayor que. Compara dos valores y retorna un valor boleano entre True o False\n",
        "print(\"\\nMenor o igual que\")\n",
        "print(7 <= 3)\n",
        "print(3 <= 7)\n",
        "print(7 <= 7)"
      ],
      "metadata": {
        "colab": {
          "base_uri": "https://localhost:8080/"
        },
        "id": "vAzEGLr9MBui",
        "outputId": "6aba211f-8c40-4160-c82e-d4a64ba8b4cc"
      },
      "execution_count": null,
      "outputs": [
        {
          "output_type": "stream",
          "name": "stdout",
          "text": [
            "Mayor que\n",
            "True\n",
            "False\n",
            "False\n",
            "\n",
            "Menor que\n",
            "False\n",
            "True\n",
            "False\n",
            "\n",
            "Mayor que o igual\n",
            "True\n",
            "False\n",
            "True\n",
            "\n",
            "Menor o igual que\n",
            "False\n",
            "True\n",
            "True\n"
          ]
        }
      ]
    },
    {
      "cell_type": "code",
      "source": [
        "# == Operador de igualdad. Compara dos valores y retorna un valor boleano entre True o False dependiendo si los valores son o no de mismo valor numérico\n",
        "print(\"Igualdad\")\n",
        "print(7 == 3)\n",
        "print(7 == 7)\n",
        "\n",
        "# == Operador diferente de. Compara dos valores y retorna un valor boleano entre True o False dependiendo si los valores son o no de mismo valor numérico\n",
        "print(\"Diferente de\")\n",
        "print(7 != 3)\n",
        "print(7 != 7)\n"
      ],
      "metadata": {
        "colab": {
          "base_uri": "https://localhost:8080/"
        },
        "id": "bwle5bgihWDx",
        "outputId": "cc1b3387-fd5a-4a0d-b5e3-4b69b9fb092d"
      },
      "execution_count": null,
      "outputs": [
        {
          "output_type": "stream",
          "name": "stdout",
          "text": [
            "Igualdad\n",
            "False\n",
            "True\n",
            "Diferente de\n",
            "True\n",
            "False\n"
          ]
        }
      ]
    },
    {
      "cell_type": "code",
      "source": [
        "print(\"Igualdad en strings\")\n",
        "print(\"Coco\" == \"Coco\") # Se pueden comparar otros tipos de dato, no solamente numérico.\n",
        "print(\"Coco\" == \"coco\")\n",
        "\n",
        "print(\"\\nDiferente de en strings\")\n",
        "print(\"Coco\" != \"Coco\") # Se pueden comparar otros tipos de dato, no solamente numérico.\n",
        "print(\"Coco\" != \"coco\")\n",
        "\n",
        "print(\"\\nDiferente de en strings\")\n",
        "print(1 != \"1\") # Los valores a compara deben ser el mismo tipo de dato para que sus valores sean iguales y el resultado pueda ser True\n",
        "print(1 != 1)\n",
        "print(\"1\" != \"1\")\n"
      ],
      "metadata": {
        "colab": {
          "base_uri": "https://localhost:8080/"
        },
        "id": "ZZ3ZpPDrisWz",
        "outputId": "607c474f-d426-42a2-a4bb-acc75ec1e761"
      },
      "execution_count": null,
      "outputs": [
        {
          "output_type": "stream",
          "name": "stdout",
          "text": [
            "Igualdad en strings\n",
            "True\n",
            "False\n",
            "\n",
            "Diferente de en strings\n",
            "False\n",
            "True\n",
            "\n",
            "Diferente de en strings\n",
            "True\n",
            "False\n",
            "False\n"
          ]
        }
      ]
    },
    {
      "cell_type": "markdown",
      "source": [
        "#Comparación con números flotantes"
      ],
      "metadata": {
        "id": "pG4rhV2clCir"
      }
    },
    {
      "cell_type": "code",
      "source": [
        "x = 3.3\n",
        "y = 1.1 + 2.2\n",
        "\n",
        "print(x)\n",
        "print(y)\n",
        "print(x + y)\n",
        "\n",
        "print(\"\\nComparación entre valores flotantes teniendo en cuenta la precisión\")\n",
        "print(x == y) # La precisón que maneja python en la computadora hace que los valores flotantes sean diferentes.\n",
        "\n",
        "y_str = format(y, \"2g\") # Se puede tranformar el valor de y a un string y recortar decimales, es decir quitar precisión.\n",
        "print(\"\\nValor guardado al convertir en string y quitar la precisión\")\n",
        "print(y_str)  # El valor queda sin la precisón, sin embargo queda guardado como un tipo string y no se puede operar matemáticamente con un número entero.\n",
        "\n",
        "print(\"\\nComparación entre valores basados en string\")\n",
        "print(y_str == str(x)) # Compara los valores en términos de string, no es un forma matemática de hacer una comparación y no permite que sus valores sean operados.\n",
        "\n",
        "tolerance = 0.00001\n",
        "print(abs(x -y) < tolerance)  # Esta forma permite hacer la comparación matemática teniendo en cuenta una tolerancia en el margen de precisión."
      ],
      "metadata": {
        "colab": {
          "base_uri": "https://localhost:8080/"
        },
        "id": "SyPNL6BMlBhD",
        "outputId": "00f1c139-c9dc-4da9-bb88-31668e16292f"
      },
      "execution_count": null,
      "outputs": [
        {
          "output_type": "stream",
          "name": "stdout",
          "text": [
            "3.3\n",
            "3.3000000000000003\n",
            "6.6\n",
            "\n",
            "Comparación entre valores flotantes teniendo en cuenta la precisión\n",
            "False\n",
            "\n",
            "Valor guardado al convertir en string y quitar la precisión\n",
            "3.3\n",
            "\n",
            "Comparación entre valores basados en string\n",
            "True\n",
            "True\n"
          ]
        }
      ]
    },
    {
      "cell_type": "markdown",
      "source": [
        "#Operadores lógicos: and y or"
      ],
      "metadata": {
        "id": "wYmjikYfwQOd"
      }
    },
    {
      "cell_type": "code",
      "source": [
        "# and, es un operador que solo da verdadero cuando todas las entradas son True\n",
        "print(\"Tabla de verdad AND\")\n",
        "print(\"True and True: \\t\\t\", True and True)\n",
        "print(\"True and False: \\t\", True and False)\n",
        "print(\"False and True: \\t\", False and True)\n",
        "print(\"False and False: \\t\", False and False)\n",
        "\n",
        "print(\"\\nComparando valores booleanos a partir de valores numéricos\")\n",
        "print(10 > 5 and 5 < 10) # El primer valor da True y el segunto True\n",
        "print(10 > 5 and 5 > 10) # El primer valor da True y el segunto False"
      ],
      "metadata": {
        "colab": {
          "base_uri": "https://localhost:8080/"
        },
        "id": "HYIP4VLXjPXX",
        "outputId": "2fa192f0-ca7e-4b56-c291-6b58fb6969a9"
      },
      "execution_count": null,
      "outputs": [
        {
          "output_type": "stream",
          "name": "stdout",
          "text": [
            "Tabla de verdad AND\n",
            "True and True: \t\t True\n",
            "True and False: \t False\n",
            "False and True: \t False\n",
            "False and False: \t False\n",
            "\n",
            "Comparando valores booleanos a partir de valores numéricos\n",
            "True\n",
            "False\n"
          ]
        }
      ]
    },
    {
      "cell_type": "code",
      "source": [
        "stock = int(input(\"Ingrese el número en stock: \"))\n",
        "\n",
        "print(stock >= 100 and stock <= 1000) # Esta operación limita el valor el stock y le dice al usuario si el valor ingresado es valido para ingresar al stock, da como resultado un valor booleano."
      ],
      "metadata": {
        "colab": {
          "base_uri": "https://localhost:8080/"
        },
        "id": "qWxXI30Uw_8d",
        "outputId": "425fe004-9cd6-44fd-d1fd-250a870f9da6"
      },
      "execution_count": null,
      "outputs": [
        {
          "output_type": "stream",
          "name": "stdout",
          "text": [
            "Ingrese el número en stock: 100\n",
            "True\n"
          ]
        }
      ]
    },
    {
      "cell_type": "code",
      "source": [
        "# or, es un operador que solo da verdadero cuando al menos una de las entradas son True\n",
        "print(\"Tabla de verdad OR\")\n",
        "print(\"True or True: \\t\",True or True)\n",
        "print(\"True or False \\t\",True or False)\n",
        "print(\"False or True \\t\",False or True)\n",
        "print(\"False or False \\t\",False or False)\n",
        "\n",
        "print(\"\\nComparando valores booleanos a partir de valores numéricos\")\n",
        "print(10 < 5 or 5 > 10) # El primer valor da False y el segunto False\n",
        "print(10 > 5 or 5 > 10) # El primer valor da True y el segunto False"
      ],
      "metadata": {
        "colab": {
          "base_uri": "https://localhost:8080/"
        },
        "id": "KMIpjv-Dxz9u",
        "outputId": "93d4cf40-07ee-4c95-ef97-32cd1e88b337"
      },
      "execution_count": null,
      "outputs": [
        {
          "output_type": "stream",
          "name": "stdout",
          "text": [
            "Tabla de verdad OR\n",
            "True or True: \t True\n",
            "True or False \t True\n",
            "False or True \t True\n",
            "False or False \t False\n",
            "\n",
            "Comparando valores booleanos a partir de valores numéricos\n",
            "False\n",
            "True\n"
          ]
        }
      ]
    },
    {
      "cell_type": "code",
      "source": [
        "role = input(\"Digita el rol: \")\n",
        "print(role == \"admin\" or role == \"seller\")  # La salida da verdadero si el valor ingresado coincide con algunos de los dos valores a comparar (admin o seller)"
      ],
      "metadata": {
        "colab": {
          "base_uri": "https://localhost:8080/"
        },
        "id": "3nepC_Nbxz7w",
        "outputId": "ce51503f-8683-4f4e-9e15-bc05b876c3c0"
      },
      "execution_count": null,
      "outputs": [
        {
          "output_type": "stream",
          "name": "stdout",
          "text": [
            "Digita el rol: admin\n",
            "True\n"
          ]
        }
      ]
    },
    {
      "cell_type": "markdown",
      "source": [
        "#Operador lógico not"
      ],
      "metadata": {
        "id": "JY1QOZ-G0xrS"
      }
    },
    {
      "cell_type": "code",
      "source": [
        "# not, este comparador niega el valor booleano y lo transforma a su inverso. Si es False lo transforma a True y viceversa\n",
        "print(\"Tabla de verdad NOT\")\n",
        "print(\"True:\\t\", not True)\n",
        "print(\"False:\\t\", not False)"
      ],
      "metadata": {
        "colab": {
          "base_uri": "https://localhost:8080/"
        },
        "id": "xaeLGo4Ixz5E",
        "outputId": "66905433-47d7-42ff-c8cd-0135d04a9ebe"
      },
      "execution_count": null,
      "outputs": [
        {
          "output_type": "stream",
          "name": "stdout",
          "text": [
            "Tabla de verdad NOT\n",
            "True:\t False\n",
            "False:\t True\n"
          ]
        }
      ]
    },
    {
      "cell_type": "code",
      "source": [
        "print(\"Tabla de verdad NOT con AND\")\n",
        "print(\"True and True: \\t\\t\", not(True or True))\n",
        "print(\"True and False: \\t\", not(True or False))\n",
        "print(\"False and True: \\t\", not(False or True))\n",
        "print(\"False and False: \\t\", not(False or False))"
      ],
      "metadata": {
        "colab": {
          "base_uri": "https://localhost:8080/"
        },
        "id": "jtetJbwbxz2d",
        "outputId": "780ac552-e255-4cc5-8fa9-429cc2a2f341"
      },
      "execution_count": null,
      "outputs": [
        {
          "output_type": "stream",
          "name": "stdout",
          "text": [
            "Tabla de verdad NOT con AND\n",
            "True and True: \t\t False\n",
            "True and False: \t False\n",
            "False and True: \t False\n",
            "False and False: \t True\n"
          ]
        }
      ]
    },
    {
      "cell_type": "code",
      "source": [
        "print(\"Tabla de verdad NOT con OR\")\n",
        "print(\"True or True: \\t\", not(True or True))\n",
        "print(\"True or False \\t\", not(True or False))\n",
        "print(\"False or True \\t\", not(False or True))\n",
        "print(\"False or False \\t\", not(False or False))"
      ],
      "metadata": {
        "colab": {
          "base_uri": "https://localhost:8080/"
        },
        "id": "Wbd2ewquxz0H",
        "outputId": "85535313-2426-431c-dfae-c1761fc1cc66"
      },
      "execution_count": null,
      "outputs": [
        {
          "output_type": "stream",
          "name": "stdout",
          "text": [
            "Tabla de verdad NOT con OR\n",
            "True or True: \t False\n",
            "True or False \t False\n",
            "False or True \t False\n",
            "False or False \t True\n"
          ]
        }
      ]
    },
    {
      "cell_type": "markdown",
      "source": [
        "#Condicionales"
      ],
      "metadata": {
        "id": "O8ZfZxzaCQ2P"
      }
    },
    {
      "cell_type": "code",
      "source": [
        "# if, es una operacion que ejecuta una accion dependiendo si se cumplen las condiciones que le damos\n",
        "if True:  # Cuando esta condición es verdadera, ejecutará las acciones que se le asignen.\n",
        "  print(\"Deberia ejecutarse\")\n",
        "\n",
        "if False: # Cuando esta condición es falsa, nunca va a ejecutas las acciones asignadas.\n",
        "  print(\"Nunca deberia ejecutarse\")"
      ],
      "metadata": {
        "colab": {
          "base_uri": "https://localhost:8080/"
        },
        "id": "rDm_vcJOxzvq",
        "outputId": "47b71723-8443-45cb-c5ff-b6b2f25eaf70"
      },
      "execution_count": null,
      "outputs": [
        {
          "output_type": "stream",
          "name": "stdout",
          "text": [
            "Deberia ejecutarse\n"
          ]
        }
      ]
    },
    {
      "cell_type": "code",
      "source": [
        "# Ejemplo if\n",
        "pet = input(\"Ingresa el tu mascota favorita: \")\n",
        "\n",
        "if pet == \"perro\":\n",
        "  print(\"Que bien, tienes buen gusto\")\n",
        "\n",
        "if pet == \"gato\":\n",
        "  print(\"espero que tengas suerte\")"
      ],
      "metadata": {
        "colab": {
          "base_uri": "https://localhost:8080/"
        },
        "id": "Ox8b4lG_CfFO",
        "outputId": "4d047da2-3d58-4c8c-dd93-83bb5ec998bd"
      },
      "execution_count": null,
      "outputs": [
        {
          "output_type": "stream",
          "name": "stdout",
          "text": [
            "Ingresa el tu mascota favorita: perro\n",
            "Que bien, tienes buen gusto\n"
          ]
        }
      ]
    },
    {
      "cell_type": "code",
      "source": [
        "# else, ejecuta la instruccion en caso de que la primera acción no se cumpla.\n",
        "stock = int(input(\"Digita el stock: \"))\n",
        "\n",
        "if stock >= 100 and stock <= 1000:\n",
        "  print(\"El stock es correcto\")\n",
        "else:   # Si la condición no se cumple, se ejecutará la suguiente acción.\n",
        "  print(\"El stock es incorrecto\")"
      ],
      "metadata": {
        "colab": {
          "base_uri": "https://localhost:8080/"
        },
        "id": "04REDTBsCfCq",
        "outputId": "4c1cbf12-cda7-459c-a300-c223745d4d8c"
      },
      "execution_count": null,
      "outputs": [
        {
          "output_type": "stream",
          "name": "stdout",
          "text": [
            "Digita el stock: 100\n",
            "El stock es correcto\n"
          ]
        }
      ]
    },
    {
      "cell_type": "code",
      "source": [
        "# elif = else if. Es una contracción de los anteriores condicionales y se ejecutara si el primer if no se cumple y van antes de un else final\n",
        "\n",
        "pet = input(\"Ingresa el tu mascota favorita: \")\n",
        "\n",
        "if pet == \"perro\":\n",
        "  print(\"Que bien, tienes buen gusto\")\n",
        "elif pet == \"gato\":\n",
        "  print(\"Espero que tengas suerte\")\n",
        "elif pet == \"pez\":\n",
        "  print(\"Eres lo máximo\")\n",
        "else:\n",
        "  print(\"Veo que no tienes ninguna mascota interesante\")"
      ],
      "metadata": {
        "colab": {
          "base_uri": "https://localhost:8080/"
        },
        "id": "FNIHlOYACfAA",
        "outputId": "a1556ec3-521e-49ba-ca48-2e1cb9f919b9"
      },
      "execution_count": null,
      "outputs": [
        {
          "output_type": "stream",
          "name": "stdout",
          "text": [
            "Ingresa el tu mascota favorita: gato\n",
            "Espero que tengas suerte\n"
          ]
        }
      ]
    },
    {
      "cell_type": "code",
      "source": [
        "# Ejercicio números pares\n",
        "\n",
        "par = int(input(\"Ingresa un número: \"))\n",
        "\n",
        "if par % 2 == 0:\n",
        "  print(\"El número ingresado es par\")\n",
        "elif par % 2 != 0:\n",
        "  print(\"El número ingresado es impar\")\n",
        "else:\n",
        "  print(\"Valor ingresado no es válido\")"
      ],
      "metadata": {
        "colab": {
          "base_uri": "https://localhost:8080/"
        },
        "id": "wDE-SQOTCe-e",
        "outputId": "be1fe027-9cbf-4c36-bd0a-b2e12bbe3e1a"
      },
      "execution_count": null,
      "outputs": [
        {
          "output_type": "stream",
          "name": "stdout",
          "text": [
            "Ingresa un número: 5\n",
            "El número ingresado es impar\n"
          ]
        }
      ]
    },
    {
      "cell_type": "markdown",
      "source": [
        "#Proyecto: condicionales"
      ],
      "metadata": {
        "id": "b_pV36vfO2CY"
      }
    },
    {
      "cell_type": "code",
      "source": [
        "# Juego de piedra papel o tijera\n",
        "\n",
        "user_option = input(\"Escoje piedra, papel o tijera: \")\n",
        "compu_option = \"piedra\"\n",
        "\n",
        "print(f\"\\nLa opcion del computador es {compu_option}\")\n",
        "\n",
        "if user_option == compu_option:\n",
        "  print(\"\\nEs empate\")\n",
        "elif user_option == \"piedra\":\n",
        "  if compu_option == \"tijera\":\n",
        "    print(\"\\nPiedra gana a tijera \\nEl usuario ganó\")\n",
        "  else:\n",
        "    print(\"\\nPapel gana a piedra \\nEl computador gana\")\n",
        "elif user_option == \"papel\":\n",
        "  if compu_option == \"tijera\":\n",
        "    print(\"\\nTijera gana a papel \\nEl computador gana\")\n",
        "  else:\n",
        "    print(\"\\nPapel gana a piedra \\nEl usuario ganó\")\n",
        "elif user_option == \"tijera\":\n",
        "  if compu_option == \"papel\":\n",
        "    print(\"\\nTijera gana a papel \\nEl usuario ganó\")\n",
        "  else:\n",
        "    print(\"\\nPiedra gana a tijera \\nEl computador gana\")\n"
      ],
      "metadata": {
        "id": "hRsQk13-Ce6v",
        "colab": {
          "base_uri": "https://localhost:8080/"
        },
        "outputId": "f0d0aa96-d865-4400-f3b7-c8ac053ee25f"
      },
      "execution_count": null,
      "outputs": [
        {
          "output_type": "stream",
          "name": "stdout",
          "text": [
            "Escoje piedra, papel o tijera: papel\n",
            "\n",
            "La opcion del computador es piedra\n",
            "\n",
            "Papel gana a piedra \n",
            "El usuario ganó\n"
          ]
        }
      ]
    },
    {
      "cell_type": "markdown",
      "source": [
        "#String recargado\n"
      ],
      "metadata": {
        "id": "BGgH1JZUK7Nn"
      }
    },
    {
      "cell_type": "code",
      "source": [
        "text = \"Ella sabe programar en python\"\n",
        "print(\"JavaScript\" in text) # Busca JavaScript en la frase guardada en text, si esta imprime True sino, False\n",
        "print(\"python\" in text) # Busca python en la frase guardada en text, si esta imprime True sino, False\n",
        "\n",
        "if \"JS\" in text:\n",
        "  print(\"Elegiste JavaScript, que bien\")\n",
        "else:\n",
        "  print(\"Tambien has elegido bien\")\n",
        "\n",
        "size = len(text)  # Mide la longitud de carácteres en la frase guardada en la variable text\n",
        "print(size)"
      ],
      "metadata": {
        "id": "q-NpiBH-Ce3T",
        "colab": {
          "base_uri": "https://localhost:8080/"
        },
        "outputId": "eecc618e-b14d-47bc-8db3-830be4704ed5"
      },
      "execution_count": null,
      "outputs": [
        {
          "output_type": "stream",
          "name": "stdout",
          "text": [
            "False\n",
            "True\n",
            "Tambien has elegido bien\n",
            "29\n"
          ]
        }
      ]
    },
    {
      "cell_type": "code",
      "source": [
        "# Trabajar con métodos\n",
        "\n",
        "print(text, text.upper()) # El método upper convierte en mayúsculas los caracteres de un string\n",
        "print(text, text.lower()) # El método lower convierte en minúscilas los caracteres de un string\n",
        "print(text, text.count(\"a\")) # El método count cuenta las veces que se repite un carácter o carácteres en una cadena de carácteres\n",
        "\n",
        "print(\"\\n\",text, text.swapcase()) # El método swapcase convierte en mayúsculas los carácteres en minúsculas y viceversa\n",
        "print(text, text.startswith(\"Ella\")) # El método startwith pregunta si la frase guardada inicia con una palabra o caráter especificado en el argumento\n",
        "print(text, text.endswith(\"Rust\")) # El método endwith pregunta si la frase guardada termina con una palabra o caráter especificado en el argumento\n",
        "print(text, text.replace(\"python\", \"Go\")) # El método replace reemplaza los carácteres especificado en el argumento"
      ],
      "metadata": {
        "colab": {
          "base_uri": "https://localhost:8080/"
        },
        "id": "TqlPXD5JLbmy",
        "outputId": "0d24e9db-330a-4d83-c9cc-9f73956ce6db"
      },
      "execution_count": null,
      "outputs": [
        {
          "output_type": "stream",
          "name": "stdout",
          "text": [
            "Ella sabe programar en python ELLA SABE PROGRAMAR EN PYTHON\n",
            "Ella sabe programar en python ella sabe programar en python\n",
            "Ella sabe programar en python 4\n",
            "\n",
            " Ella sabe programar en python eLLA SABE PROGRAMAR EN PYTHON\n",
            "Ella sabe programar en python True\n",
            "Ella sabe programar en python False\n",
            "Ella sabe programar en python Ella sabe programar en Go\n"
          ]
        }
      ]
    },
    {
      "cell_type": "code",
      "source": [
        "text_2 = \"este es un titulo\"\n",
        "\n",
        "print(text_2, text_2.capitalize())  # El método capitalize cambia a mayúscula el primer carácter del texto\n",
        "print(text_2, text_2.title())  # El método title cambia a mayúscula el primer carácter de cada palabra del texto\n",
        "print(text_2, text_2.isdigit())  # El método isdigit pregunta si el contenido de la variable es un dígito\n",
        "print(\"2323\".isdigit())  # El método isdigit pregunta si el contenido de la variable es un dígito\n"
      ],
      "metadata": {
        "colab": {
          "base_uri": "https://localhost:8080/"
        },
        "id": "JEbJRzVUMsW0",
        "outputId": "a27acc65-816c-46e9-9a26-b17c85eeddeb"
      },
      "execution_count": null,
      "outputs": [
        {
          "output_type": "stream",
          "name": "stdout",
          "text": [
            "este es un titulo Este es un titulo\n",
            "este es un titulo Este Es Un Titulo\n",
            "este es un titulo False\n",
            "True\n"
          ]
        }
      ]
    },
    {
      "cell_type": "code",
      "source": [
        "# Juego de piedra papel o tijera con modificación para transformación en minúsculas\n",
        "\n",
        "user_option = input(\"Escoje piedra, papel o tijera: \")\n",
        "compu_option = \"piedra\"\n",
        "\n",
        "user_option = user_option.lower()\n",
        "\n",
        "print(f\"\\nLa opcion del computador es {compu_option}\")\n",
        "\n",
        "if user_option == compu_option:\n",
        "  print(\"\\nEs empate\")\n",
        "elif user_option == \"piedra\":\n",
        "  if compu_option == \"tijera\":\n",
        "    print(\"\\nPiedra gana a tijera \\nEl usuario ganó\")\n",
        "  else:\n",
        "    print(\"\\nPapel gana a piedra \\nEl computador gana\")\n",
        "elif user_option == \"papel\":\n",
        "  if compu_option == \"tijera\":\n",
        "    print(\"\\nTijera gana a papel \\nEl computador gana\")\n",
        "  else:\n",
        "    print(\"\\nPapel gana a piedra \\nEl usuario ganó\")\n",
        "elif user_option == \"tijera\":\n",
        "  if compu_option == \"papel\":\n",
        "    print(\"\\nTijera gana a papel \\nEl usuario ganó\")\n",
        "  else:\n",
        "    print(\"\\nPiedra gana a tijera \\nEl computador gana\")"
      ],
      "metadata": {
        "colab": {
          "base_uri": "https://localhost:8080/"
        },
        "id": "QK9BU_kaQgHr",
        "outputId": "1f9d267a-48b7-489c-d4a5-e61255eb05bc"
      },
      "execution_count": null,
      "outputs": [
        {
          "output_type": "stream",
          "name": "stdout",
          "text": [
            "Escoje piedra, papel o tijera: papel\n",
            "\n",
            "La opcion del computador es piedra\n",
            "\n",
            "Papel gana a piedra \n",
            "El usuario ganó\n"
          ]
        }
      ]
    },
    {
      "cell_type": "markdown",
      "source": [
        "#Indexing y slicing"
      ],
      "metadata": {
        "id": "0MHhqrHCSdZF"
      }
    },
    {
      "cell_type": "code",
      "source": [
        "# Indexing\n",
        "\n",
        "text = \"Ella sabe Python\"\n",
        "print(text[0])  # Imprime el carácter en la posición 1\n",
        "print(text[1])  # Imprime el carácter en la posición 2\n",
        "#print(text[999])  # Si la posición no existe, se imprime un error\n",
        "\n",
        "size = len(text)\n",
        "print(size)\n",
        "print(text[size - 1]) # Los carácteres se empiezan a contar desde 0, de esta manera se cuenta el tamaño de la variable en carácteres y se resta uno para extraer el último caracter\n",
        "print(text[-1]) # De esta manera se le dice a Python que traiga el último carácter, el conteo empieza desde el último carácter"
      ],
      "metadata": {
        "id": "KYO5ZRzfR5iK",
        "colab": {
          "base_uri": "https://localhost:8080/"
        },
        "outputId": "44adf4e7-f6be-4013-c483-efa7f13d3be4"
      },
      "execution_count": null,
      "outputs": [
        {
          "output_type": "stream",
          "name": "stdout",
          "text": [
            "E\n",
            "l\n",
            "16\n",
            "n\n",
            "n\n"
          ]
        }
      ]
    },
    {
      "cell_type": "code",
      "source": [
        "# Slicing\n",
        "\n",
        "print(text[0:5])  # Se imprime los carácteres desde cero hasta la posición cinco menos uno, es decir toma la posicion uno hasta la cuarta extrayendo 4 carácteres\n",
        "print(text[10:16])  # Se imprime los carácteres desde el decimo índice hasta el índice dieciseis menos uno, es decir toma la posicion diez hasta el decimoquinto extrayendo 6 carácteres\n",
        "print(text[:10])  # De esta manera se omite dar la orden de empezar desde el carácter en la posición cero, Python entiende que se toma desde el índice cero hasta el décimo menos uno\n",
        "\n",
        "print(text[5:])  # De esta manera se omite dar la orden de tomar los carácteres hasta la última posición desde un índice establecido, Python entiende que se toma desde el índice indicado hasta el último\n",
        "print(text[:])  # Esta es una manera redundante de imprimir el contenido de la variable"
      ],
      "metadata": {
        "colab": {
          "base_uri": "https://localhost:8080/"
        },
        "id": "kTn7i3M262XL",
        "outputId": "3578cb2f-fda2-4d52-ed4f-3c545d0920e5"
      },
      "execution_count": null,
      "outputs": [
        {
          "output_type": "stream",
          "name": "stdout",
          "text": [
            "Ella \n",
            "Python\n",
            "Ella sabe \n",
            "sabe Python\n",
            "Ella sabe Python\n"
          ]
        }
      ]
    },
    {
      "cell_type": "code",
      "source": [
        "print(text[10:16:1])  # Se indica que imprima los carácteres desde el décimo índice al quinceavo tomado los caracteres de uno en uno\n",
        "print(text[10:16:2])  # Se indica que imprima los carácteres desde el décimo índice al quinceavo tomado los caracteres de dos en dos\n",
        "print(text[::2])  # Imprime todos los carácteres tomándolos de dos en dos"
      ],
      "metadata": {
        "colab": {
          "base_uri": "https://localhost:8080/"
        },
        "id": "JnA8sKQL8pD3",
        "outputId": "4bc63176-aab8-4bf6-e2aa-be55c65eb1d0"
      },
      "execution_count": null,
      "outputs": [
        {
          "output_type": "stream",
          "name": "stdout",
          "text": [
            "Python\n",
            "Pto\n",
            "El aePto\n"
          ]
        }
      ]
    },
    {
      "cell_type": "markdown",
      "source": [
        "#Listas"
      ],
      "metadata": {
        "id": "j1DDDElMDHcX"
      }
    },
    {
      "cell_type": "code",
      "source": [
        "numbers = [1, 2, 3, 4, 5, 6]\n",
        "print(numbers,type(numbers))"
      ],
      "metadata": {
        "colab": {
          "base_uri": "https://localhost:8080/"
        },
        "id": "hGzEpjIt_fUM",
        "outputId": "07a8460c-942b-420c-b126-0db2a7db9a31"
      },
      "execution_count": null,
      "outputs": [
        {
          "output_type": "stream",
          "name": "stdout",
          "text": [
            "[1, 2, 3, 4, 5, 6] <class 'list'>\n"
          ]
        }
      ]
    },
    {
      "cell_type": "code",
      "source": [
        "tasks = [\"make the dishes\", \"play videogames\"]\n",
        "print(tasks)"
      ],
      "metadata": {
        "id": "mGXo1ttEDWfP",
        "outputId": "a7e40586-5200-4c4f-f8bc-d69657b375a4",
        "colab": {
          "base_uri": "https://localhost:8080/"
        }
      },
      "execution_count": null,
      "outputs": [
        {
          "output_type": "stream",
          "name": "stdout",
          "text": [
            "['make the dishes', 'play videogames']\n"
          ]
        }
      ]
    },
    {
      "cell_type": "code",
      "source": [
        "types = [3, \"play videogames\", False] # Una lista puede guardar diferentes tipos de datos\n",
        "print(types)\n",
        "\n",
        "print(tasks[0])\n",
        "print(types[2])"
      ],
      "metadata": {
        "id": "nqBj7HUPD8vP",
        "outputId": "0d368548-6eb2-4a89-ed1d-1320e4a02e95",
        "colab": {
          "base_uri": "https://localhost:8080/"
        }
      },
      "execution_count": null,
      "outputs": [
        {
          "output_type": "stream",
          "name": "stdout",
          "text": [
            "[3, 'play videogames', False]\n",
            "make the dishes\n",
            "False\n"
          ]
        }
      ]
    },
    {
      "cell_type": "code",
      "source": [
        "#text = \"Hola\"\n",
        "#text[0] = \"h\"\n",
        "\n",
        "tasks[0] = \"Watch Platzi courses\" # Es posible actualizar los elementos de una lista\n",
        "print(tasks)\n",
        "\n",
        "tasks[0] = \"Do the dishes\" # Es posible actualizar los elementos de una lista\n",
        "print(tasks)"
      ],
      "metadata": {
        "id": "lLEDzlWvEK3c",
        "colab": {
          "base_uri": "https://localhost:8080/"
        },
        "outputId": "80ca5236-8a45-45ad-af41-cb2c0783a24e"
      },
      "execution_count": null,
      "outputs": [
        {
          "output_type": "stream",
          "name": "stdout",
          "text": [
            "['Watch Platzi courses', 'play videogames']\n",
            "['Do the dishes', 'play videogames']\n"
          ]
        }
      ]
    },
    {
      "cell_type": "code",
      "source": [
        "print(numbers)\n",
        "print(numbers[:3])  # Puede imprimir elementos de las listas\n",
        "print(numbers[2:])\n",
        "print(numbers[3:5])\n",
        "print(numbers[3])\n"
      ],
      "metadata": {
        "colab": {
          "base_uri": "https://localhost:8080/"
        },
        "id": "FuFzVLE-zLc_",
        "outputId": "262a3836-5d4f-4b8a-de5b-3ee15409b840"
      },
      "execution_count": null,
      "outputs": [
        {
          "output_type": "stream",
          "name": "stdout",
          "text": [
            "[1, 2, 3, 4, 5, 6]\n",
            "[1, 2, 3]\n",
            "[3, 4, 5, 6]\n",
            "[4, 5]\n",
            "4\n"
          ]
        }
      ]
    },
    {
      "cell_type": "markdown",
      "source": [
        "# Métodos de listas"
      ],
      "metadata": {
        "id": "aMK2n1fI0bwW"
      }
    },
    {
      "cell_type": "code",
      "source": [
        "#CRUD - Crate, Read, Update, Delete\n",
        "\n",
        "numbers = [1, 2, 3, 4, 5, 6, 7] # Crea una lista\n",
        "print(numbers[1]) # Imprime el segundo elemento de la lista\n",
        "\n",
        "numbers[-1] = 10  # Reemplazar el último valor de la lista\n",
        "print(numbers) # Imprime el último estado de la lista"
      ],
      "metadata": {
        "colab": {
          "base_uri": "https://localhost:8080/"
        },
        "id": "a_PMNbZNztZP",
        "outputId": "30d4bbc4-7684-45b2-e6ca-89a964c6a1f7"
      },
      "execution_count": null,
      "outputs": [
        {
          "output_type": "stream",
          "name": "stdout",
          "text": [
            "2\n",
            "[1, 2, 3, 4, 5, 6, 10]\n"
          ]
        }
      ]
    },
    {
      "cell_type": "code",
      "source": [
        "# append: Agrega un nuevo elemento en la última posicion de la lista\n",
        "\n",
        "numbers.append(700)\n",
        "print(numbers)"
      ],
      "metadata": {
        "colab": {
          "base_uri": "https://localhost:8080/"
        },
        "id": "HIw3H9QrztXA",
        "outputId": "f3e03680-ee95-4b68-c5d6-665ac8436ff9"
      },
      "execution_count": null,
      "outputs": [
        {
          "output_type": "stream",
          "name": "stdout",
          "text": [
            "[1, 2, 3, 4, 5, 6, 10, 700]\n"
          ]
        }
      ]
    },
    {
      "cell_type": "code",
      "source": [
        "# insert: Método para agregar elementos que tiene dos parámetros, el primero hace referencia a la posición y el segundo al elemento que se desee insertar, despues los elementos de la lista se ajusta a un nuevo indice\n",
        "\n",
        "numbers.insert(0, \"hola\")\n",
        "print(numbers)"
      ],
      "metadata": {
        "colab": {
          "base_uri": "https://localhost:8080/"
        },
        "id": "eCJN_cYeztUd",
        "outputId": "2e980244-c96b-4cf1-9483-6793bf6b33bf"
      },
      "execution_count": null,
      "outputs": [
        {
          "output_type": "stream",
          "name": "stdout",
          "text": [
            "['hola', 1, 2, 3, 4, 5, 6, 10, 700]\n"
          ]
        }
      ]
    },
    {
      "cell_type": "code",
      "source": [
        "# Ejemplo del método insert\n",
        "numbers.insert(3, \"change\")\n",
        "print(numbers)\n"
      ],
      "metadata": {
        "colab": {
          "base_uri": "https://localhost:8080/"
        },
        "id": "lKbJShTeztRu",
        "outputId": "c91f9692-50ff-48ad-bedf-fc762cccb049"
      },
      "execution_count": null,
      "outputs": [
        {
          "output_type": "stream",
          "name": "stdout",
          "text": [
            "['hola', 1, 2, 'change', 3, 4, 5, 6, 10, 700]\n"
          ]
        }
      ]
    },
    {
      "cell_type": "code",
      "source": [
        "# Fusionar listar\n",
        "\n",
        "new_list = numbers + tasks  # Une el contenido de las dos lista en una sola lista\n",
        "print(new_list)"
      ],
      "metadata": {
        "colab": {
          "base_uri": "https://localhost:8080/"
        },
        "id": "jRWHMU52ztPC",
        "outputId": "a7e2548a-8b2d-408a-949a-2e5927e38aa3"
      },
      "execution_count": null,
      "outputs": [
        {
          "output_type": "stream",
          "name": "stdout",
          "text": [
            "['hola', 1, 2, 'change', 3, 4, 5, 6, 10, 700, 'Do the dishes', 'play videogames']\n"
          ]
        }
      ]
    },
    {
      "cell_type": "code",
      "source": [
        "# Descubrir la posición de un elemento de una lista\n",
        "\n",
        "print(new_list.index(700))\n",
        "\n",
        "index = new_list.index(700) # Es posible guardar la posición del index del elemento solicitado\n",
        "new_list[index] = \"801\" # Depues es posible reemplazar el valor del elemento en la lista\n",
        "\n",
        "print(new_list)"
      ],
      "metadata": {
        "colab": {
          "base_uri": "https://localhost:8080/"
        },
        "id": "cdjfdGO93eow",
        "outputId": "b095f344-8089-4e48-aab6-a9613d57d439"
      },
      "execution_count": null,
      "outputs": [
        {
          "output_type": "stream",
          "name": "stdout",
          "text": [
            "9\n",
            "['hola', 1, 2, 'change', 3, 4, 5, 6, 10, '801', 'Do the dishes', 'play videogames']\n"
          ]
        }
      ]
    },
    {
      "cell_type": "code",
      "source": [
        "# Eliminar el último elemento de la lista\n",
        "\n",
        "new_list.pop()\n",
        "print(new_list)"
      ],
      "metadata": {
        "colab": {
          "base_uri": "https://localhost:8080/"
        },
        "id": "QHLsc7Qn38zj",
        "outputId": "c8fad1a4-de02-449b-88cc-7629c56df4ce"
      },
      "execution_count": null,
      "outputs": [
        {
          "output_type": "stream",
          "name": "stdout",
          "text": [
            "['hola', 1, 2, 'change', 3, 4, 5, 6, 10, '801', 'Do the dishes']\n"
          ]
        }
      ]
    },
    {
      "cell_type": "code",
      "source": [
        "#Al agregar una posición como párametro, se elimina el elemento guardado en esa posición\n",
        "new_list.pop(1)\n",
        "print(new_list)"
      ],
      "metadata": {
        "colab": {
          "base_uri": "https://localhost:8080/"
        },
        "id": "TD1zmbOT665Q",
        "outputId": "d6536e1f-72b2-457d-f6fe-45a87d0364d9"
      },
      "execution_count": null,
      "outputs": [
        {
          "output_type": "stream",
          "name": "stdout",
          "text": [
            "['hola', 2, 'change', 3, 4, 5, 6, 10, '801', 'Do the dishes']\n"
          ]
        }
      ]
    },
    {
      "cell_type": "code",
      "source": [
        "#Invierte al reves los elementos de la lista\n",
        "print(new_list)\n",
        "new_list.reverse()\n",
        "print(new_list)\n"
      ],
      "metadata": {
        "colab": {
          "base_uri": "https://localhost:8080/"
        },
        "id": "Th8dXNR07QR7",
        "outputId": "4ed83c96-3d70-4903-e674-53acc018a5cf"
      },
      "execution_count": null,
      "outputs": [
        {
          "output_type": "stream",
          "name": "stdout",
          "text": [
            "['hola', 2, 'change', 3, 4, 5, 6, 10, '801', 'Do the dishes']\n",
            "['Do the dishes', '801', 10, 6, 5, 4, 3, 'change', 2, 'hola']\n"
          ]
        }
      ]
    },
    {
      "cell_type": "code",
      "source": [
        "#Ordenar los elementos de una lista\n",
        "numbers_a= [2, 4, 8, 3, 0, 1, 9, 5]\n",
        "print(numbers_a)\n",
        "numbers_a.sort()\n",
        "print(numbers_a)"
      ],
      "metadata": {
        "id": "A1tRlnmN8zzn",
        "outputId": "ce5548f5-94d6-400e-9d79-8e8d0f471bd3",
        "colab": {
          "base_uri": "https://localhost:8080/"
        }
      },
      "execution_count": null,
      "outputs": [
        {
          "output_type": "stream",
          "name": "stdout",
          "text": [
            "[2, 4, 8, 3, 0, 1, 9, 5]\n",
            "[0, 1, 2, 3, 4, 5, 8, 9]\n"
          ]
        }
      ]
    },
    {
      "cell_type": "code",
      "source": [
        "#Ordenar los elementos de una lista\n",
        "strings_a= [ \"ter\", \"cua\", \"sei\"]\n",
        "print(strings_a)\n",
        "strings_a.sort()\n",
        "print(strings_a)\n",
        "\n",
        "#Solo se pueden ordenar listas con mismos tipos de datos contenidos en este."
      ],
      "metadata": {
        "id": "Xfoz0Lw29JDw",
        "outputId": "33eb32e4-d729-42b9-ba34-c5c3938c19ad",
        "colab": {
          "base_uri": "https://localhost:8080/"
        }
      },
      "execution_count": null,
      "outputs": [
        {
          "output_type": "stream",
          "name": "stdout",
          "text": [
            "['ter', 'cua', 'sei']\n",
            "['cua', 'sei', 'ter']\n"
          ]
        }
      ]
    },
    {
      "cell_type": "markdown",
      "source": [
        "#Tuplas"
      ],
      "metadata": {
        "id": "NF884-LY-CI0"
      }
    },
    {
      "cell_type": "code",
      "source": [
        "# Las tuplas son inmutable, es decirno se pueden modificar\n",
        "\n",
        "t_numbers = (1, 2, 3, 4, 5, )\n",
        "t_strings = (\"fer\", \"ace\", \"santi\")\n",
        "print(t_numbers)\n",
        "print(type(t_numbers))\n",
        "print(type(t_strings))\n",
        "\n",
        "print(\"0 =>\", t_numbers[0])\n",
        "print(\"0 =>\", t_strings[0])"
      ],
      "metadata": {
        "id": "rCvY5S-K9_Qo",
        "colab": {
          "base_uri": "https://localhost:8080/"
        },
        "outputId": "f67c02f8-d73f-43a1-ec44-3a156c82d8d5"
      },
      "execution_count": null,
      "outputs": [
        {
          "output_type": "stream",
          "name": "stdout",
          "text": [
            "(1, 2, 3, 4, 5)\n",
            "<class 'tuple'>\n",
            "<class 'tuple'>\n",
            "0 => 1\n",
            "0 => fer\n"
          ]
        }
      ]
    },
    {
      "cell_type": "code",
      "source": [
        "#t_numbers.append(10)  #No es posible hace modificaciones en una tupla, solo se puede hacer consultas.\n",
        "t_numbers[1]  #No se pueden hacer cambios en tuplas"
      ],
      "metadata": {
        "id": "eM0_g0Y_9_Od",
        "colab": {
          "base_uri": "https://localhost:8080/"
        },
        "outputId": "1c2100d8-acd9-46ac-b2e9-0e034967c6be"
      },
      "execution_count": null,
      "outputs": [
        {
          "output_type": "execute_result",
          "data": {
            "text/plain": [
              "2"
            ]
          },
          "metadata": {},
          "execution_count": 68
        }
      ]
    },
    {
      "cell_type": "code",
      "source": [
        "#Se pueden hacer consultas con respecto a la posición (index)\n",
        "print(t_strings)\n",
        "print(t_strings.index(\"santi\"))\n",
        "#Es posible ver repeticiones de un elemento de una tupla.\n",
        "print(t_strings.count(\"fer\"))"
      ],
      "metadata": {
        "id": "exfPL13t9_I9",
        "colab": {
          "base_uri": "https://localhost:8080/"
        },
        "outputId": "232889c4-cb66-4712-ab7f-1ffe71d41a54"
      },
      "execution_count": null,
      "outputs": [
        {
          "output_type": "stream",
          "name": "stdout",
          "text": [
            "('fer', 'ace', 'santi')\n",
            "2\n",
            "1\n"
          ]
        }
      ]
    },
    {
      "cell_type": "code",
      "source": [
        "#Se pueden guardar los elementos de una tupla en una lista con el método \"list\" en una variable nueva\n",
        "t_list = list(t_strings)\n",
        "print(t_list)\n",
        "print(type(t_list))\n",
        "\n",
        "#Despues de tener la lista, si es posible modificar los elementos de dicha lista\n",
        "t_list[1] = \"san\"\n",
        "print(t_list)\n",
        "print(type(t_list))\n",
        "\n",
        "#Luego de modificar la lista, se puede convertir la lista en tupla\n",
        "tup_list = tuple(t_list)\n",
        "print(type(tup_list))"
      ],
      "metadata": {
        "id": "8NnDS0JY9nv7",
        "colab": {
          "base_uri": "https://localhost:8080/"
        },
        "outputId": "3578edbe-307b-464d-fa93-5634df7b7896"
      },
      "execution_count": null,
      "outputs": [
        {
          "output_type": "stream",
          "name": "stdout",
          "text": [
            "['fer', 'ace', 'santi']\n",
            "<class 'list'>\n",
            "['fer', 'san', 'santi']\n",
            "<class 'list'>\n",
            "<class 'tuple'>\n"
          ]
        }
      ]
    },
    {
      "cell_type": "code",
      "source": [
        "#Implementación de tuplas en el juego de piedra, papel o tijera\n",
        "\n",
        "import random\n",
        "\n",
        "options = (\"piedra\", \"papel\", \"tijera\") #Se crea una tupla para agregar las opciones para el computador\n",
        "\n",
        "user_option = input(\"Escoje piedra, papel o tijera: \")\n",
        "\n",
        "if not user_option in options:\n",
        "  print(\"Esta opción no es válida\")\n",
        "\n",
        "\n",
        "compu_option = random.choice(options) #De manera aleatoria se escoje una opcion de la tupla\n",
        "user_option = user_option.lower()\n",
        "\n",
        "print(f\"\\nLa opción del usuario es {user_option}\")\n",
        "print(f\"\\nLa opcion del computador es {compu_option}\")\n",
        "\n",
        "if user_option == compu_option:\n",
        "  print(\"\\nEs empate\")\n",
        "elif user_option == \"piedra\":\n",
        "  if compu_option == \"tijera\":\n",
        "    print(\"\\nPiedra gana a tijera \\nEl usuario ganó\")\n",
        "  else:\n",
        "    print(\"\\nPapel gana a piedra \\nEl computador gana\")\n",
        "elif user_option == \"papel\":\n",
        "  if compu_option == \"tijera\":\n",
        "    print(\"\\nTijera gana a papel \\nEl computador gana\")\n",
        "  else:\n",
        "    print(\"\\nPapel gana a piedra \\nEl usuario ganó\")\n",
        "elif user_option == \"tijera\":\n",
        "  if compu_option == \"papel\":\n",
        "    print(\"\\nTijera gana a papel \\nEl usuario ganó\")\n",
        "  else:\n",
        "    print(\"\\nPiedra gana a tijera \\nEl computador gana\")\n",
        "\n"
      ],
      "metadata": {
        "colab": {
          "base_uri": "https://localhost:8080/"
        },
        "id": "8W_NCmFpB7K-",
        "outputId": "579eb195-00f3-4c75-9b9f-6d730f3dacd2"
      },
      "execution_count": null,
      "outputs": [
        {
          "output_type": "stream",
          "name": "stdout",
          "text": [
            "Escoje piedra, papel o tijera: piedra\n",
            "\n",
            "La opción del usuario es piedra\n",
            "\n",
            "La opcion del computador es tijera\n",
            "\n",
            "Piedra gana a tijera \n",
            "El usuario ganó\n"
          ]
        }
      ]
    },
    {
      "cell_type": "markdown",
      "source": [
        "#Diccionarios"
      ],
      "metadata": {
        "id": "zEYo6AY9GvMd"
      }
    },
    {
      "cell_type": "code",
      "source": [
        "#\n",
        "\n",
        "my_dict = {}\n",
        "print(type(my_dict))\n",
        "\n",
        "my_dict = {\n",
        "    \"avion\": \"maquina voldora\",\n",
        "    \"name\": \"Fernando\",\n",
        "    \"last_name\": \"Acevedo\",\n",
        "    \"age\": 32\n",
        "}\n",
        "\n",
        "print(my_dict)"
      ],
      "metadata": {
        "colab": {
          "base_uri": "https://localhost:8080/"
        },
        "id": "fNAMbq_SFuAx",
        "outputId": "a9e8e9b1-5d06-493c-d7df-c6a2be0b0f9e"
      },
      "execution_count": null,
      "outputs": [
        {
          "output_type": "stream",
          "name": "stdout",
          "text": [
            "<class 'dict'>\n",
            "{'avion': 'maquina voldora', 'name': 'Fernando', 'last_name': 'Acevedo', 'age': 32}\n"
          ]
        }
      ]
    },
    {
      "cell_type": "code",
      "source": [
        "#Contar elemento en el diccionario\n",
        "\n",
        "print(len(my_dict))"
      ],
      "metadata": {
        "colab": {
          "base_uri": "https://localhost:8080/"
        },
        "id": "SvLg7AaOHLfI",
        "outputId": "efdec4cc-1530-4cc3-c90b-bfa955d0a718"
      },
      "execution_count": null,
      "outputs": [
        {
          "output_type": "stream",
          "name": "stdout",
          "text": [
            "4\n"
          ]
        }
      ]
    },
    {
      "cell_type": "code",
      "source": [
        "print(my_dict[\"age\"])\n",
        "print(my_dict[\"last_name\"])\n",
        "print(my_dict.get(\"age\")) #El método \"get\" puede manejar errores en caso de que el valor solicitado no exista en el diccionario\n",
        "print(my_dict.get(\"unvalor\"))\n",
        "\n",
        "print(\"avion\" in my_dict) #Devuelve un valor booleano si está o no el valor solicitado dentro del diccionario\n",
        "print(\"carro\" in my_dict)\n"
      ],
      "metadata": {
        "colab": {
          "base_uri": "https://localhost:8080/"
        },
        "id": "bVhe2fbuH9P1",
        "outputId": "44ac99ba-78b6-4a85-d583-a2e5915d4713"
      },
      "execution_count": null,
      "outputs": [
        {
          "output_type": "stream",
          "name": "stdout",
          "text": [
            "32\n",
            "Acevedo\n",
            "32\n",
            "None\n",
            "True\n",
            "False\n"
          ]
        }
      ]
    },
    {
      "cell_type": "markdown",
      "source": [
        "#Diccionarios: inserción y actualización\n"
      ],
      "metadata": {
        "id": "PG7oFo1DJaKk"
      }
    },
    {
      "cell_type": "code",
      "source": [
        "person = {\n",
        "    \"name\" : \"Fer\",\n",
        "    \"last_name\": \"Acevedo\",\n",
        "    \"langs\": [\"python\", \"javascript\"],\n",
        "    \"age\": 32\n",
        "}\n",
        "\n",
        "print(person)\n",
        "\n",
        "person[\"name\"] = \"Santi\"\n",
        "person[\"age\"] -= 5\n",
        "person[\"langs\"].append(\"rust\")\n",
        "\n",
        "print(person)\n",
        "\n",
        "del person[\"last_name\"]\n",
        "person.pop(\"age\") #Se debe definir el parámetro al usar este método\n",
        "\n",
        "print(\"\\n\",person)\n",
        "\n",
        "print(\"\\nImprime los items,\", person.items()) #Muesta en tuplas las llaves y los valores\n",
        "\n",
        "print(\"\\nImprime los keys,\", person.keys()) #Muesta las llaves, que son las palabras clave\n",
        "\n",
        "print(\"\\nImprime los values,\", person.values()) #Muestras los valores o definiciones\n",
        "\n"
      ],
      "metadata": {
        "colab": {
          "base_uri": "https://localhost:8080/"
        },
        "id": "9IICNKatIChf",
        "outputId": "8bb48493-f6ed-43a5-fc0f-320404c976c1"
      },
      "execution_count": null,
      "outputs": [
        {
          "output_type": "stream",
          "name": "stdout",
          "text": [
            "{'name': 'Fer', 'last_name': 'Acevedo', 'langs': ['python', 'javascript'], 'age': 32}\n",
            "{'name': 'Santi', 'last_name': 'Acevedo', 'langs': ['python', 'javascript', 'rust'], 'age': 27}\n",
            "\n",
            " {'name': 'Santi', 'langs': ['python', 'javascript', 'rust']}\n",
            "\n",
            "Imprime los items, dict_items([('name', 'Santi'), ('langs', ['python', 'javascript', 'rust'])])\n",
            "\n",
            "Imprime los keys, dict_keys(['name', 'langs'])\n",
            "\n",
            "Imprime los values, dict_values(['Santi', ['python', 'javascript', 'rust']])\n"
          ]
        }
      ]
    },
    {
      "cell_type": "markdown",
      "source": [
        "#Loops: While"
      ],
      "metadata": {
        "id": "Ur5ulQ-GYQN0"
      }
    },
    {
      "cell_type": "code",
      "source": [
        "# la sintaxis del ciclo while es similar a la sintaxis usada en if\n",
        "\"\"\"\n",
        "while True:\n",
        "  print(\"Se ejecuta\")\n",
        "\n",
        "\n",
        "counter = 0\n",
        "\n",
        "while counter < 10: #Cuando counter llegue a 10, el ciclo termina\n",
        "  counter += 1\n",
        "  print(counter)\n",
        "\n",
        "\n",
        "counter_2 = 0\n",
        "\n",
        "while counter_2 < 20:\n",
        "  counter_2 += 1\n",
        "  if counter_2 == 15:\n",
        "    break\n",
        "  print(counter_2)\n",
        "\"\"\"\n",
        "c3 = 0\n",
        "\n",
        "while c3 < 20:\n",
        "  c3 += 1\n",
        "  if c3 < 15:\n",
        "    continue  # La intrucción continue hace que el código omita la siguiente linea de código\n",
        "  print(c3)\n"
      ],
      "metadata": {
        "id": "X0JjPeMGICes",
        "outputId": "83f06073-f88d-4083-9680-c97ac2133d99",
        "colab": {
          "base_uri": "https://localhost:8080/"
        }
      },
      "execution_count": null,
      "outputs": [
        {
          "output_type": "stream",
          "name": "stdout",
          "text": [
            "15\n",
            "16\n",
            "17\n",
            "18\n",
            "19\n",
            "20\n"
          ]
        }
      ]
    },
    {
      "cell_type": "markdown",
      "source": [
        "#Loops: For"
      ],
      "metadata": {
        "id": "kxieO7RG3JOa"
      }
    },
    {
      "cell_type": "code",
      "source": [
        "for element in range(1, 10): # Imprime números enteros en un rango desde 0 hasta el establecido menos uno, en este caso es 10-1, o sea 9.\n",
        "  print(element)"
      ],
      "metadata": {
        "id": "BqhpJbsUICcO",
        "colab": {
          "base_uri": "https://localhost:8080/"
        },
        "outputId": "e258a4f6-784b-4670-c680-47675edf9a6e"
      },
      "execution_count": 2,
      "outputs": [
        {
          "output_type": "stream",
          "name": "stdout",
          "text": [
            "1\n",
            "2\n",
            "3\n",
            "4\n",
            "5\n",
            "6\n",
            "7\n",
            "8\n",
            "9\n"
          ]
        }
      ]
    },
    {
      "cell_type": "code",
      "source": [
        "for element in range(1, 20): # imprime números enteros en un rango desde uno hasta el determinado menos uno, en este caso es desde 1 hasta 20-1, o sea 19\n",
        "  print(element)"
      ],
      "metadata": {
        "colab": {
          "base_uri": "https://localhost:8080/"
        },
        "id": "nyh9zkHS3bFD",
        "outputId": "7bf1e9f8-f695-4d74-a2ff-053204c963a2"
      },
      "execution_count": null,
      "outputs": [
        {
          "output_type": "stream",
          "name": "stdout",
          "text": [
            "1\n",
            "2\n",
            "3\n",
            "4\n",
            "5\n",
            "6\n",
            "7\n",
            "8\n",
            "9\n",
            "10\n",
            "11\n",
            "12\n",
            "13\n",
            "14\n",
            "15\n",
            "16\n",
            "17\n",
            "18\n",
            "19\n"
          ]
        }
      ]
    },
    {
      "cell_type": "code",
      "source": [
        "my_list = [23, 45, 67, 89, 43] # Iteración de una lista\n",
        "for element in my_list:\n",
        "  print(element)"
      ],
      "metadata": {
        "colab": {
          "base_uri": "https://localhost:8080/"
        },
        "id": "ba2gzALe3b5b",
        "outputId": "a4ec190c-cc91-491a-c376-71eb27825017"
      },
      "execution_count": null,
      "outputs": [
        {
          "output_type": "stream",
          "name": "stdout",
          "text": [
            "23\n",
            "45\n",
            "67\n",
            "89\n",
            "43\n"
          ]
        }
      ]
    },
    {
      "cell_type": "code",
      "source": [
        "my_tuple = (\"Fer\", \"Ace\", \"Ort\") # Iteración de una tupla\n",
        "for element in my_tuple:\n",
        "  print(element)"
      ],
      "metadata": {
        "colab": {
          "base_uri": "https://localhost:8080/"
        },
        "id": "NAHj7Jg_43QB",
        "outputId": "d81e89e7-b5d0-42ea-ec4c-019378216cda"
      },
      "execution_count": null,
      "outputs": [
        {
          "output_type": "stream",
          "name": "stdout",
          "text": [
            "Fer\n",
            "Ace\n",
            "Ort\n"
          ]
        }
      ]
    },
    {
      "cell_type": "code",
      "source": [
        "product = {\n",
        "    \"name\" : \"Camisa\",\n",
        "    \"price\" : 100,\n",
        "    \"stock\" : 89\n",
        "}\n",
        "\n",
        "for element in product:\n",
        "  print(element)  # Hace iteración de llaves\n",
        "\n",
        "\n",
        "for element in product:\n",
        "  print(product[element])  # Hace iteración de valores\n",
        "\n",
        "for key in product:\n",
        "  print(key, \"=>\", product[key])  # Hace iteración de diccionario completo\n",
        "\n",
        "for key, value in product.items(): # Toma un array y lo vuelve en tuplas\n",
        "  print( key, \"=>\", value)  # Hace iteración de diccionario completo"
      ],
      "metadata": {
        "colab": {
          "base_uri": "https://localhost:8080/"
        },
        "id": "x3usaw3b5EGq",
        "outputId": "9c6ff6ae-91b8-4a69-cec6-8bd5dac9b4a7"
      },
      "execution_count": null,
      "outputs": [
        {
          "output_type": "stream",
          "name": "stdout",
          "text": [
            "name\n",
            "price\n",
            "stock\n",
            "Camisa\n",
            "100\n",
            "89\n",
            "name => Camisa\n",
            "price => 100\n",
            "stock => 89\n",
            "name => Camisa\n",
            "price => 100\n",
            "stock => 89\n"
          ]
        }
      ]
    },
    {
      "cell_type": "code",
      "source": [
        "people = [\n",
        "  {\n",
        "    \"name\": \"fer\",\n",
        "    \"age\": 33\n",
        "  },\n",
        "  {\n",
        "    \"name\": \"pepe\",\n",
        "    \"age\": 29\n",
        "  },\n",
        "  {\n",
        "    \"name\": \"ace\",\n",
        "    \"age\": 42\n",
        "  }\n",
        "\n",
        "]\n",
        "\n",
        "for person in people:\n",
        "  print(person) # La iterción se puede hacer directamente de este modo\n",
        "\n",
        "for person in people:\n",
        "  print(\"Nombre =>\", person[\"name\"]) # La iterción de lista con diccionarios dentro se puede hacer directamente de este modo\n",
        "\n",
        "\n",
        "for person in people:\n",
        "  print(\"Edad =>\", person[\"age\"]) # La iterción de lista con diccionarios dentro se puede hacer directamente de este modo"
      ],
      "metadata": {
        "colab": {
          "base_uri": "https://localhost:8080/"
        },
        "id": "oluJUuLU5ib_",
        "outputId": "bf1e9a65-fee3-4c42-9b8c-74c7572527d1"
      },
      "execution_count": null,
      "outputs": [
        {
          "output_type": "stream",
          "name": "stdout",
          "text": [
            "{'name': 'fer', 'age': 33}\n",
            "{'name': 'pepe', 'age': 29}\n",
            "{'name': 'ace', 'age': 42}\n",
            "Nombre => fer\n",
            "Nombre => pepe\n",
            "Nombre => ace\n",
            "Edad => 33\n",
            "Edad => 29\n",
            "Edad => 42\n"
          ]
        }
      ]
    },
    {
      "cell_type": "code",
      "source": [
        "my_list = [1, -1, 2, -2, 3, -3, 4, -4]\n",
        "new_list = []\n",
        "\n",
        "# Escribe tu solución 👇\n",
        "for i in my_list:\n",
        "  if i > 0:\n",
        "    new_list.append(i)\n",
        "\n",
        "print(new_list)"
      ],
      "metadata": {
        "colab": {
          "base_uri": "https://localhost:8080/"
        },
        "id": "JigYXeew9jGf",
        "outputId": "4eeb9b47-fdf3-4377-cca3-b1ef1a87412f"
      },
      "execution_count": null,
      "outputs": [
        {
          "output_type": "stream",
          "name": "stdout",
          "text": [
            "[1, 2, 3, 4]\n"
          ]
        }
      ]
    },
    {
      "cell_type": "markdown",
      "source": [
        "#Ciclos anidados"
      ],
      "metadata": {
        "id": "oaXL6iTOA24E"
      }
    },
    {
      "cell_type": "code",
      "source": [
        "# Es un ciclo dentro de otro ciclo\n",
        "\n",
        "matriz = [\n",
        "    [1, 2, 3],\n",
        "    [4, 5, 6],\n",
        "    [7, 8, 9]\n",
        "]\n",
        "\n",
        "print(matriz)\n",
        "print(matriz[0][1]) # Se puede solicitar un dato a modo de coordenada son fila y columna\n",
        "print(\"\\n\")\n",
        "\n",
        "for i in matriz:\n",
        "  print(i) # Primero itera la fila de la matriz\n",
        "  for j in i:\n",
        "    print(j)  # Despues itera los datos dentro de la fila"
      ],
      "metadata": {
        "colab": {
          "base_uri": "https://localhost:8080/"
        },
        "id": "W9USKOwqA4Rq",
        "outputId": "fd00142c-a3f6-4423-e7fd-33a56d0d567b"
      },
      "execution_count": null,
      "outputs": [
        {
          "output_type": "stream",
          "name": "stdout",
          "text": [
            "[[1, 2, 3], [4, 5, 6], [7, 8, 9]]\n",
            "2\n",
            "\n",
            "\n",
            "[1, 2, 3]\n",
            "1\n",
            "2\n",
            "3\n",
            "[4, 5, 6]\n",
            "4\n",
            "5\n",
            "6\n",
            "[7, 8, 9]\n",
            "7\n",
            "8\n",
            "9\n"
          ]
        }
      ]
    },
    {
      "cell_type": "markdown",
      "source": [
        "#Proyecto: aplicando ciclos"
      ],
      "metadata": {
        "id": "lGZRvQuBSkWj"
      }
    },
    {
      "cell_type": "code",
      "source": [
        "#Implementación de tuplas en el juego de piedra, papel o tijera\n",
        "\n",
        "import random\n",
        "\n",
        "options = (\"piedra\", \"papel\", \"tijera\") #Se crea una tupla para agregar las opciones para el computador\n",
        "\n",
        "computer_wins = 0\n",
        "user_wins = 0\n",
        "\n",
        "rounds = 1\n",
        "\n",
        "while True:\n",
        "\n",
        "  print(\"*\" * 10 )\n",
        "  print(\"ROUND\", rounds)\n",
        "  print(\"*\" * 10 )\n",
        "\n",
        "  print(\"Computadora: \", computer_wins)\n",
        "  print(\"Usuario: \", user_wins)\n",
        "\n",
        "  user_option = input(\"Escoje piedra, papel o tijera: \")\n",
        "  rounds += 1\n",
        "\n",
        "  if not user_option in options:\n",
        "    print(\"Esta opción no es válida\")\n",
        "    continue\n",
        "\n",
        "\n",
        "  compu_option = random.choice(options) #De manera aleatoria se escoje una opcion de la tupla\n",
        "  user_option = user_option.lower()\n",
        "\n",
        "  print(f\"\\nLa opción del usuario es {user_option}\")\n",
        "  print(f\"\\nLa opcion del computador es {compu_option}\")\n",
        "\n",
        "  if user_option == compu_option:\n",
        "    print(\"\\nEs empate\")\n",
        "  elif user_option == \"piedra\":\n",
        "    if compu_option == \"tijera\":\n",
        "      print(\"\\nPiedra gana a tijera \\nEl usuario ganó\")\n",
        "      user_wins += 1\n",
        "    else:\n",
        "      print(\"\\nPapel gana a piedra \\nEl computador gana\")\n",
        "      computer_wins += 1\n",
        "  elif user_option == \"papel\":\n",
        "    if compu_option == \"tijera\":\n",
        "      print(\"\\nTijera gana a papel \\nEl computador gana\")\n",
        "      computer_wins += 1\n",
        "    else:\n",
        "      print(\"\\nPapel gana a piedra \\nEl usuario ganó\")\n",
        "      user_wins += 1\n",
        "  elif user_option == \"tijera\":\n",
        "    if compu_option == \"papel\":\n",
        "      print(\"\\nTijera gana a papel \\nEl usuario ganó\")\n",
        "      user_wins += 1\n",
        "    else:\n",
        "      print(\"\\nPiedra gana a tijera \\nEl computador gana\")\n",
        "      computer_wins += 1\n",
        "\n",
        "  if computer_wins == 2:\n",
        "    print(\"Computadora: \", computer_wins)\n",
        "    print(\"Usuario: \", user_wins)\n",
        "    print(\"\\n FIN DEL JUEGO El ganador del juego es la computadora\")\n",
        "    break\n",
        "  if user_wins == 2:\n",
        "    print(\"Computadora: \", computer_wins)\n",
        "    print(\"Usuario: \", user_wins)\n",
        "    print(\"\\n FIN DEL JUEGO El ganador del juego eres tu\")\n",
        "    break"
      ],
      "metadata": {
        "colab": {
          "base_uri": "https://localhost:8080/"
        },
        "outputId": "136ab05c-17a4-47cb-f04f-66428b46a332",
        "id": "3c7ucWp5ShqW"
      },
      "execution_count": null,
      "outputs": [
        {
          "output_type": "stream",
          "name": "stdout",
          "text": [
            "**********\n",
            "ROUND 1\n",
            "**********\n",
            "Computadora:  0\n",
            "Usuario:  0\n",
            "Escoje piedra, papel o tijera: piedra\n",
            "\n",
            "La opción del usuario es piedra\n",
            "\n",
            "La opcion del computador es papel\n",
            "\n",
            "Papel gana a piedra \n",
            "El computador gana\n",
            "**********\n",
            "ROUND 2\n",
            "**********\n",
            "Computadora:  1\n",
            "Usuario:  0\n",
            "Escoje piedra, papel o tijera: papel\n",
            "\n",
            "La opción del usuario es papel\n",
            "\n",
            "La opcion del computador es papel\n",
            "\n",
            "Es empate\n",
            "**********\n",
            "ROUND 3\n",
            "**********\n",
            "Computadora:  1\n",
            "Usuario:  0\n",
            "Escoje piedra, papel o tijera: papel\n",
            "\n",
            "La opción del usuario es papel\n",
            "\n",
            "La opcion del computador es papel\n",
            "\n",
            "Es empate\n",
            "**********\n",
            "ROUND 4\n",
            "**********\n",
            "Computadora:  1\n",
            "Usuario:  0\n",
            "Escoje piedra, papel o tijera: papel\n",
            "\n",
            "La opción del usuario es papel\n",
            "\n",
            "La opcion del computador es piedra\n",
            "\n",
            "Papel gana a piedra \n",
            "El usuario ganó\n",
            "**********\n",
            "ROUND 5\n",
            "**********\n",
            "Computadora:  1\n",
            "Usuario:  1\n",
            "Escoje piedra, papel o tijera: piedra\n",
            "\n",
            "La opción del usuario es piedra\n",
            "\n",
            "La opcion del computador es tijera\n",
            "\n",
            "Piedra gana a tijera \n",
            "El usuario ganó\n",
            "Computadora:  1\n",
            "Usuario:  2\n",
            "\n",
            " FIN DEL JUEGO El ganador del juego eres tu\n"
          ]
        }
      ]
    },
    {
      "cell_type": "code",
      "source": [],
      "metadata": {
        "id": "Pd1GfyBMYbUv"
      },
      "execution_count": null,
      "outputs": []
    }
  ]
}